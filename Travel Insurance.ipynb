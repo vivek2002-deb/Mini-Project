{
 "cells": [
  {
   "cell_type": "code",
   "execution_count": 116,
   "id": "aquatic-update",
   "metadata": {},
   "outputs": [],
   "source": [
    "import numpy as np\n",
    "import pandas as pd\n",
    "import matplotlib.pyplot as plt\n",
    "import seaborn as sns"
   ]
  },
  {
   "cell_type": "code",
   "execution_count": 117,
   "id": "abstract-reaction",
   "metadata": {},
   "outputs": [],
   "source": [
    "df=pd.read_csv(r\"C:\\Users\\Vivek Raj\\Downloads\\Kaggle datasets\\travel_insurance.csv\")"
   ]
  },
  {
   "cell_type": "code",
   "execution_count": 118,
   "id": "nominated-turtle",
   "metadata": {},
   "outputs": [
    {
     "data": {
      "text/html": [
       "<div>\n",
       "<style scoped>\n",
       "    .dataframe tbody tr th:only-of-type {\n",
       "        vertical-align: middle;\n",
       "    }\n",
       "\n",
       "    .dataframe tbody tr th {\n",
       "        vertical-align: top;\n",
       "    }\n",
       "\n",
       "    .dataframe thead th {\n",
       "        text-align: right;\n",
       "    }\n",
       "</style>\n",
       "<table border=\"1\" class=\"dataframe\">\n",
       "  <thead>\n",
       "    <tr style=\"text-align: right;\">\n",
       "      <th></th>\n",
       "      <th>Agency</th>\n",
       "      <th>Agency Type</th>\n",
       "      <th>Distribution Channel</th>\n",
       "      <th>Product Name</th>\n",
       "      <th>Claim</th>\n",
       "      <th>Duration</th>\n",
       "      <th>Destination</th>\n",
       "      <th>Net Sales</th>\n",
       "      <th>Commision (in value)</th>\n",
       "      <th>Gender</th>\n",
       "      <th>Age</th>\n",
       "    </tr>\n",
       "  </thead>\n",
       "  <tbody>\n",
       "    <tr>\n",
       "      <th>0</th>\n",
       "      <td>CBH</td>\n",
       "      <td>Travel Agency</td>\n",
       "      <td>Offline</td>\n",
       "      <td>Comprehensive Plan</td>\n",
       "      <td>No</td>\n",
       "      <td>186</td>\n",
       "      <td>MALAYSIA</td>\n",
       "      <td>-29.0</td>\n",
       "      <td>9.57</td>\n",
       "      <td>F</td>\n",
       "      <td>81</td>\n",
       "    </tr>\n",
       "    <tr>\n",
       "      <th>1</th>\n",
       "      <td>CBH</td>\n",
       "      <td>Travel Agency</td>\n",
       "      <td>Offline</td>\n",
       "      <td>Comprehensive Plan</td>\n",
       "      <td>No</td>\n",
       "      <td>186</td>\n",
       "      <td>MALAYSIA</td>\n",
       "      <td>-29.0</td>\n",
       "      <td>9.57</td>\n",
       "      <td>F</td>\n",
       "      <td>71</td>\n",
       "    </tr>\n",
       "    <tr>\n",
       "      <th>2</th>\n",
       "      <td>CWT</td>\n",
       "      <td>Travel Agency</td>\n",
       "      <td>Online</td>\n",
       "      <td>Rental Vehicle Excess Insurance</td>\n",
       "      <td>No</td>\n",
       "      <td>65</td>\n",
       "      <td>AUSTRALIA</td>\n",
       "      <td>-49.5</td>\n",
       "      <td>29.70</td>\n",
       "      <td>NaN</td>\n",
       "      <td>32</td>\n",
       "    </tr>\n",
       "    <tr>\n",
       "      <th>3</th>\n",
       "      <td>CWT</td>\n",
       "      <td>Travel Agency</td>\n",
       "      <td>Online</td>\n",
       "      <td>Rental Vehicle Excess Insurance</td>\n",
       "      <td>No</td>\n",
       "      <td>60</td>\n",
       "      <td>AUSTRALIA</td>\n",
       "      <td>-39.6</td>\n",
       "      <td>23.76</td>\n",
       "      <td>NaN</td>\n",
       "      <td>32</td>\n",
       "    </tr>\n",
       "    <tr>\n",
       "      <th>4</th>\n",
       "      <td>CWT</td>\n",
       "      <td>Travel Agency</td>\n",
       "      <td>Online</td>\n",
       "      <td>Rental Vehicle Excess Insurance</td>\n",
       "      <td>No</td>\n",
       "      <td>79</td>\n",
       "      <td>ITALY</td>\n",
       "      <td>-19.8</td>\n",
       "      <td>11.88</td>\n",
       "      <td>NaN</td>\n",
       "      <td>41</td>\n",
       "    </tr>\n",
       "  </tbody>\n",
       "</table>\n",
       "</div>"
      ],
      "text/plain": [
       "  Agency    Agency Type Distribution Channel                     Product Name  \\\n",
       "0    CBH  Travel Agency              Offline               Comprehensive Plan   \n",
       "1    CBH  Travel Agency              Offline               Comprehensive Plan   \n",
       "2    CWT  Travel Agency               Online  Rental Vehicle Excess Insurance   \n",
       "3    CWT  Travel Agency               Online  Rental Vehicle Excess Insurance   \n",
       "4    CWT  Travel Agency               Online  Rental Vehicle Excess Insurance   \n",
       "\n",
       "  Claim  Duration Destination  Net Sales  Commision (in value) Gender  Age  \n",
       "0    No       186    MALAYSIA      -29.0                  9.57      F   81  \n",
       "1    No       186    MALAYSIA      -29.0                  9.57      F   71  \n",
       "2    No        65   AUSTRALIA      -49.5                 29.70    NaN   32  \n",
       "3    No        60   AUSTRALIA      -39.6                 23.76    NaN   32  \n",
       "4    No        79       ITALY      -19.8                 11.88    NaN   41  "
      ]
     },
     "execution_count": 118,
     "metadata": {},
     "output_type": "execute_result"
    }
   ],
   "source": [
    "df.head()"
   ]
  },
  {
   "cell_type": "code",
   "execution_count": 119,
   "id": "southwest-virgin",
   "metadata": {},
   "outputs": [
    {
     "data": {
      "text/plain": [
       "(63326, 11)"
      ]
     },
     "execution_count": 119,
     "metadata": {},
     "output_type": "execute_result"
    }
   ],
   "source": [
    "df.shape"
   ]
  },
  {
   "cell_type": "code",
   "execution_count": 120,
   "id": "alpha-animation",
   "metadata": {},
   "outputs": [
    {
     "name": "stdout",
     "output_type": "stream",
     "text": [
      "<class 'pandas.core.frame.DataFrame'>\n",
      "RangeIndex: 63326 entries, 0 to 63325\n",
      "Data columns (total 11 columns):\n",
      " #   Column                Non-Null Count  Dtype  \n",
      "---  ------                --------------  -----  \n",
      " 0   Agency                63326 non-null  object \n",
      " 1   Agency Type           63326 non-null  object \n",
      " 2   Distribution Channel  63326 non-null  object \n",
      " 3   Product Name          63326 non-null  object \n",
      " 4   Claim                 63326 non-null  object \n",
      " 5   Duration              63326 non-null  int64  \n",
      " 6   Destination           63326 non-null  object \n",
      " 7   Net Sales             63326 non-null  float64\n",
      " 8   Commision (in value)  63326 non-null  float64\n",
      " 9   Gender                18219 non-null  object \n",
      " 10  Age                   63326 non-null  int64  \n",
      "dtypes: float64(2), int64(2), object(7)\n",
      "memory usage: 5.3+ MB\n"
     ]
    }
   ],
   "source": [
    "df.info()"
   ]
  },
  {
   "cell_type": "markdown",
   "id": "attended-nursery",
   "metadata": {},
   "source": [
    "45107 are null values in gender column"
   ]
  },
  {
   "cell_type": "code",
   "execution_count": 121,
   "id": "consistent-equation",
   "metadata": {},
   "outputs": [
    {
     "data": {
      "text/html": [
       "<div>\n",
       "<style scoped>\n",
       "    .dataframe tbody tr th:only-of-type {\n",
       "        vertical-align: middle;\n",
       "    }\n",
       "\n",
       "    .dataframe tbody tr th {\n",
       "        vertical-align: top;\n",
       "    }\n",
       "\n",
       "    .dataframe thead th {\n",
       "        text-align: right;\n",
       "    }\n",
       "</style>\n",
       "<table border=\"1\" class=\"dataframe\">\n",
       "  <thead>\n",
       "    <tr style=\"text-align: right;\">\n",
       "      <th></th>\n",
       "      <th>Duration</th>\n",
       "      <th>Net Sales</th>\n",
       "      <th>Commision (in value)</th>\n",
       "      <th>Age</th>\n",
       "    </tr>\n",
       "  </thead>\n",
       "  <tbody>\n",
       "    <tr>\n",
       "      <th>count</th>\n",
       "      <td>63326.000000</td>\n",
       "      <td>63326.000000</td>\n",
       "      <td>63326.000000</td>\n",
       "      <td>63326.000000</td>\n",
       "    </tr>\n",
       "    <tr>\n",
       "      <th>mean</th>\n",
       "      <td>49.317074</td>\n",
       "      <td>40.702018</td>\n",
       "      <td>9.809992</td>\n",
       "      <td>39.969981</td>\n",
       "    </tr>\n",
       "    <tr>\n",
       "      <th>std</th>\n",
       "      <td>101.791566</td>\n",
       "      <td>48.845637</td>\n",
       "      <td>19.804388</td>\n",
       "      <td>14.017010</td>\n",
       "    </tr>\n",
       "    <tr>\n",
       "      <th>min</th>\n",
       "      <td>-2.000000</td>\n",
       "      <td>-389.000000</td>\n",
       "      <td>0.000000</td>\n",
       "      <td>0.000000</td>\n",
       "    </tr>\n",
       "    <tr>\n",
       "      <th>25%</th>\n",
       "      <td>9.000000</td>\n",
       "      <td>18.000000</td>\n",
       "      <td>0.000000</td>\n",
       "      <td>35.000000</td>\n",
       "    </tr>\n",
       "    <tr>\n",
       "      <th>50%</th>\n",
       "      <td>22.000000</td>\n",
       "      <td>26.530000</td>\n",
       "      <td>0.000000</td>\n",
       "      <td>36.000000</td>\n",
       "    </tr>\n",
       "    <tr>\n",
       "      <th>75%</th>\n",
       "      <td>53.000000</td>\n",
       "      <td>48.000000</td>\n",
       "      <td>11.550000</td>\n",
       "      <td>43.000000</td>\n",
       "    </tr>\n",
       "    <tr>\n",
       "      <th>max</th>\n",
       "      <td>4881.000000</td>\n",
       "      <td>810.000000</td>\n",
       "      <td>283.500000</td>\n",
       "      <td>118.000000</td>\n",
       "    </tr>\n",
       "  </tbody>\n",
       "</table>\n",
       "</div>"
      ],
      "text/plain": [
       "           Duration     Net Sales  Commision (in value)           Age\n",
       "count  63326.000000  63326.000000          63326.000000  63326.000000\n",
       "mean      49.317074     40.702018              9.809992     39.969981\n",
       "std      101.791566     48.845637             19.804388     14.017010\n",
       "min       -2.000000   -389.000000              0.000000      0.000000\n",
       "25%        9.000000     18.000000              0.000000     35.000000\n",
       "50%       22.000000     26.530000              0.000000     36.000000\n",
       "75%       53.000000     48.000000             11.550000     43.000000\n",
       "max     4881.000000    810.000000            283.500000    118.000000"
      ]
     },
     "execution_count": 121,
     "metadata": {},
     "output_type": "execute_result"
    }
   ],
   "source": [
    "df.describe()"
   ]
  },
  {
   "cell_type": "markdown",
   "id": "injured-controversy",
   "metadata": {},
   "source": [
    "Here minimum value for duration is Negative, This is due to difference in time zone."
   ]
  },
  {
   "cell_type": "code",
   "execution_count": 122,
   "id": "downtown-yahoo",
   "metadata": {},
   "outputs": [
    {
     "data": {
      "text/plain": [
       "(array([14943, 52587, 52588, 56668, 59528], dtype=int64),)"
      ]
     },
     "execution_count": 122,
     "metadata": {},
     "output_type": "execute_result"
    }
   ],
   "source": [
    "np.where(df['Duration']<0)"
   ]
  },
  {
   "cell_type": "code",
   "execution_count": 123,
   "id": "offensive-toddler",
   "metadata": {},
   "outputs": [
    {
     "data": {
      "text/html": [
       "<div>\n",
       "<style scoped>\n",
       "    .dataframe tbody tr th:only-of-type {\n",
       "        vertical-align: middle;\n",
       "    }\n",
       "\n",
       "    .dataframe tbody tr th {\n",
       "        vertical-align: top;\n",
       "    }\n",
       "\n",
       "    .dataframe thead th {\n",
       "        text-align: right;\n",
       "    }\n",
       "</style>\n",
       "<table border=\"1\" class=\"dataframe\">\n",
       "  <thead>\n",
       "    <tr style=\"text-align: right;\">\n",
       "      <th></th>\n",
       "      <th>Agency</th>\n",
       "      <th>Agency Type</th>\n",
       "      <th>Distribution Channel</th>\n",
       "      <th>Product Name</th>\n",
       "      <th>Claim</th>\n",
       "      <th>Duration</th>\n",
       "      <th>Destination</th>\n",
       "      <th>Net Sales</th>\n",
       "      <th>Commision (in value)</th>\n",
       "      <th>Gender</th>\n",
       "      <th>Age</th>\n",
       "    </tr>\n",
       "  </thead>\n",
       "  <tbody>\n",
       "    <tr>\n",
       "      <th>14943</th>\n",
       "      <td>JZI</td>\n",
       "      <td>Airlines</td>\n",
       "      <td>Online</td>\n",
       "      <td>Basic Plan</td>\n",
       "      <td>No</td>\n",
       "      <td>-2</td>\n",
       "      <td>BANGLADESH</td>\n",
       "      <td>22.0</td>\n",
       "      <td>7.7</td>\n",
       "      <td>M</td>\n",
       "      <td>118</td>\n",
       "    </tr>\n",
       "    <tr>\n",
       "      <th>52587</th>\n",
       "      <td>JZI</td>\n",
       "      <td>Airlines</td>\n",
       "      <td>Online</td>\n",
       "      <td>Basic Plan</td>\n",
       "      <td>No</td>\n",
       "      <td>-1</td>\n",
       "      <td>MALAYSIA</td>\n",
       "      <td>18.0</td>\n",
       "      <td>6.3</td>\n",
       "      <td>NaN</td>\n",
       "      <td>118</td>\n",
       "    </tr>\n",
       "    <tr>\n",
       "      <th>52588</th>\n",
       "      <td>JZI</td>\n",
       "      <td>Airlines</td>\n",
       "      <td>Online</td>\n",
       "      <td>Basic Plan</td>\n",
       "      <td>No</td>\n",
       "      <td>-1</td>\n",
       "      <td>BRUNEI DARUSSALAM</td>\n",
       "      <td>18.0</td>\n",
       "      <td>6.3</td>\n",
       "      <td>NaN</td>\n",
       "      <td>118</td>\n",
       "    </tr>\n",
       "    <tr>\n",
       "      <th>56668</th>\n",
       "      <td>JZI</td>\n",
       "      <td>Airlines</td>\n",
       "      <td>Online</td>\n",
       "      <td>Basic Plan</td>\n",
       "      <td>No</td>\n",
       "      <td>-1</td>\n",
       "      <td>INDONESIA</td>\n",
       "      <td>18.0</td>\n",
       "      <td>6.3</td>\n",
       "      <td>NaN</td>\n",
       "      <td>118</td>\n",
       "    </tr>\n",
       "    <tr>\n",
       "      <th>59528</th>\n",
       "      <td>JZI</td>\n",
       "      <td>Airlines</td>\n",
       "      <td>Online</td>\n",
       "      <td>Basic Plan</td>\n",
       "      <td>No</td>\n",
       "      <td>-1</td>\n",
       "      <td>CHINA</td>\n",
       "      <td>22.0</td>\n",
       "      <td>7.7</td>\n",
       "      <td>NaN</td>\n",
       "      <td>118</td>\n",
       "    </tr>\n",
       "  </tbody>\n",
       "</table>\n",
       "</div>"
      ],
      "text/plain": [
       "      Agency Agency Type Distribution Channel Product Name Claim  Duration  \\\n",
       "14943    JZI    Airlines               Online   Basic Plan    No        -2   \n",
       "52587    JZI    Airlines               Online   Basic Plan    No        -1   \n",
       "52588    JZI    Airlines               Online   Basic Plan    No        -1   \n",
       "56668    JZI    Airlines               Online   Basic Plan    No        -1   \n",
       "59528    JZI    Airlines               Online   Basic Plan    No        -1   \n",
       "\n",
       "             Destination  Net Sales  Commision (in value) Gender  Age  \n",
       "14943         BANGLADESH       22.0                   7.7      M  118  \n",
       "52587           MALAYSIA       18.0                   6.3    NaN  118  \n",
       "52588  BRUNEI DARUSSALAM       18.0                   6.3    NaN  118  \n",
       "56668          INDONESIA       18.0                   6.3    NaN  118  \n",
       "59528              CHINA       22.0                   7.7    NaN  118  "
      ]
     },
     "execution_count": 123,
     "metadata": {},
     "output_type": "execute_result"
    }
   ],
   "source": [
    "df[df['Duration']<0]"
   ]
  },
  {
   "cell_type": "code",
   "execution_count": 124,
   "id": "geographic-manitoba",
   "metadata": {},
   "outputs": [],
   "source": [
    "df=df.drop(df[df['Duration']<0].index)"
   ]
  },
  {
   "cell_type": "code",
   "execution_count": 125,
   "id": "electric-liberty",
   "metadata": {},
   "outputs": [
    {
     "name": "stdout",
     "output_type": "stream",
     "text": [
      "<class 'pandas.core.frame.DataFrame'>\n",
      "Int64Index: 63321 entries, 0 to 63325\n",
      "Data columns (total 11 columns):\n",
      " #   Column                Non-Null Count  Dtype  \n",
      "---  ------                --------------  -----  \n",
      " 0   Agency                63321 non-null  object \n",
      " 1   Agency Type           63321 non-null  object \n",
      " 2   Distribution Channel  63321 non-null  object \n",
      " 3   Product Name          63321 non-null  object \n",
      " 4   Claim                 63321 non-null  object \n",
      " 5   Duration              63321 non-null  int64  \n",
      " 6   Destination           63321 non-null  object \n",
      " 7   Net Sales             63321 non-null  float64\n",
      " 8   Commision (in value)  63321 non-null  float64\n",
      " 9   Gender                18218 non-null  object \n",
      " 10  Age                   63321 non-null  int64  \n",
      "dtypes: float64(2), int64(2), object(7)\n",
      "memory usage: 5.8+ MB\n"
     ]
    }
   ],
   "source": [
    "df.info()"
   ]
  },
  {
   "cell_type": "code",
   "execution_count": 126,
   "id": "diagnostic-banana",
   "metadata": {},
   "outputs": [
    {
     "data": {
      "text/html": [
       "<div>\n",
       "<style scoped>\n",
       "    .dataframe tbody tr th:only-of-type {\n",
       "        vertical-align: middle;\n",
       "    }\n",
       "\n",
       "    .dataframe tbody tr th {\n",
       "        vertical-align: top;\n",
       "    }\n",
       "\n",
       "    .dataframe thead th {\n",
       "        text-align: right;\n",
       "    }\n",
       "</style>\n",
       "<table border=\"1\" class=\"dataframe\">\n",
       "  <thead>\n",
       "    <tr style=\"text-align: right;\">\n",
       "      <th></th>\n",
       "      <th>Agency</th>\n",
       "      <th>Agency Type</th>\n",
       "      <th>Distribution Channel</th>\n",
       "      <th>Product Name</th>\n",
       "      <th>Claim</th>\n",
       "      <th>Duration</th>\n",
       "      <th>Destination</th>\n",
       "      <th>Net Sales</th>\n",
       "      <th>Commision (in value)</th>\n",
       "      <th>Gender</th>\n",
       "      <th>Age</th>\n",
       "    </tr>\n",
       "  </thead>\n",
       "  <tbody>\n",
       "  </tbody>\n",
       "</table>\n",
       "</div>"
      ],
      "text/plain": [
       "Empty DataFrame\n",
       "Columns: [Agency, Agency Type, Distribution Channel, Product Name, Claim, Duration, Destination, Net Sales, Commision (in value), Gender, Age]\n",
       "Index: []"
      ]
     },
     "execution_count": 126,
     "metadata": {},
     "output_type": "execute_result"
    }
   ],
   "source": [
    "df[df['Duration']<0]"
   ]
  },
  {
   "cell_type": "code",
   "execution_count": 127,
   "id": "potential-pearl",
   "metadata": {},
   "outputs": [],
   "source": [
    "## In the gender column most most value is NaN SO we can just drop the gender column\n",
    "df=df.drop(columns=\"Gender\")"
   ]
  },
  {
   "cell_type": "code",
   "execution_count": 128,
   "id": "sustained-inspiration",
   "metadata": {},
   "outputs": [
    {
     "name": "stdout",
     "output_type": "stream",
     "text": [
      "<class 'pandas.core.frame.DataFrame'>\n",
      "Int64Index: 63321 entries, 0 to 63325\n",
      "Data columns (total 10 columns):\n",
      " #   Column                Non-Null Count  Dtype  \n",
      "---  ------                --------------  -----  \n",
      " 0   Agency                63321 non-null  object \n",
      " 1   Agency Type           63321 non-null  object \n",
      " 2   Distribution Channel  63321 non-null  object \n",
      " 3   Product Name          63321 non-null  object \n",
      " 4   Claim                 63321 non-null  object \n",
      " 5   Duration              63321 non-null  int64  \n",
      " 6   Destination           63321 non-null  object \n",
      " 7   Net Sales             63321 non-null  float64\n",
      " 8   Commision (in value)  63321 non-null  float64\n",
      " 9   Age                   63321 non-null  int64  \n",
      "dtypes: float64(2), int64(2), object(6)\n",
      "memory usage: 5.3+ MB\n"
     ]
    }
   ],
   "source": [
    "df.info()"
   ]
  },
  {
   "cell_type": "markdown",
   "id": "drawn-divide",
   "metadata": {},
   "source": [
    "## Monovariate Analysis"
   ]
  },
  {
   "cell_type": "code",
   "execution_count": 129,
   "id": "forced-announcement",
   "metadata": {},
   "outputs": [
    {
     "data": {
      "image/png": "[encoded data removed]",
      "text/plain": [
       "<Figure size 864x360 with 1 Axes>"
      ]
     },
     "metadata": {
      "needs_background": "light"
     },
     "output_type": "display_data"
    }
   ],
   "source": [
    "plt.figure(figsize=(12,5))\n",
    "sns.countplot(x=df.Agency)\n",
    "plt.show()"
   ]
  },
  {
   "cell_type": "code",
   "execution_count": 130,
   "id": "crude-rabbit",
   "metadata": {},
   "outputs": [
    {
     "data": {
      "image/png": "[encoded data removed]",
      "text/plain": [
       "<Figure size 360x360 with 1 Axes>"
      ]
     },
     "metadata": {
      "needs_background": "light"
     },
     "output_type": "display_data"
    }
   ],
   "source": [
    "plt.figure(figsize=(5,5))\n",
    "sns.countplot(x=df['Agency Type'])\n",
    "plt.show()"
   ]
  },
  {
   "cell_type": "code",
   "execution_count": 131,
   "id": "grave-kitchen",
   "metadata": {},
   "outputs": [
    {
     "data": {
      "image/png": "[encoded data removed]",
      "text/plain": [
       "<Figure size 360x360 with 1 Axes>"
      ]
     },
     "metadata": {
      "needs_background": "light"
     },
     "output_type": "display_data"
    }
   ],
   "source": [
    "plt.figure(figsize=(5,5))\n",
    "sns.countplot(x=df['Distribution Channel'])\n",
    "plt.show()"
   ]
  },
  {
   "cell_type": "code",
   "execution_count": 132,
   "id": "bound-devil",
   "metadata": {},
   "outputs": [
    {
     "data": {
      "image/png": "[encoded data removed]",
      "text/plain": [
       "<Figure size 1080x360 with 1 Axes>"
      ]
     },
     "metadata": {
      "needs_background": "light"
     },
     "output_type": "display_data"
    }
   ],
   "source": [
    "plt.figure(figsize=(15,5))\n",
    "sns.countplot(x=df['Product Name'])\n",
    "\n",
    "plt.show()"
   ]
  },
  {
   "cell_type": "code",
   "execution_count": 133,
   "id": "yellow-binary",
   "metadata": {},
   "outputs": [
    {
     "data": {
      "image/png": "[encoded data removed]",
      "text/plain": [
       "<Figure size 360x360 with 1 Axes>"
      ]
     },
     "metadata": {
      "needs_background": "light"
     },
     "output_type": "display_data"
    }
   ],
   "source": [
    "plt.figure(figsize=(5,5))\n",
    "sns.countplot(x=df['Claim'])\n",
    "plt.show()"
   ]
  },
  {
   "cell_type": "markdown",
   "id": "amazing-determination",
   "metadata": {},
   "source": [
    "Here we can clearly see that is unbalanced dataset"
   ]
  },
  {
   "cell_type": "code",
   "execution_count": 134,
   "id": "artificial-renewal",
   "metadata": {},
   "outputs": [
    {
     "data": {
      "image/png": "[encoded data removed]",
      "text/plain": [
       "<Figure size 1080x360 with 1 Axes>"
      ]
     },
     "metadata": {
      "needs_background": "light"
     },
     "output_type": "display_data"
    }
   ],
   "source": [
    "plt.figure(figsize=(15,5))\n",
    "sns.countplot(x=df.Destination)\n",
    "plt.show()"
   ]
  },
  {
   "cell_type": "code",
   "execution_count": 135,
   "id": "visible-suspect",
   "metadata": {},
   "outputs": [
    {
     "name": "stderr",
     "output_type": "stream",
     "text": [
      "c:\\python\\python37\\lib\\site-packages\\seaborn\\distributions.py:2557: FutureWarning: `distplot` is a deprecated function and will be removed in a future version. Please adapt your code to use either `displot` (a figure-level function with similar flexibility) or `histplot` (an axes-level function for histograms).\n",
      "  warnings.warn(msg, FutureWarning)\n"
     ]
    },
    {
     "data": {
      "image/png": "[encoded data removed]",
      "text/plain": [
       "<Figure size 1080x360 with 1 Axes>"
      ]
     },
     "metadata": {
      "needs_background": "light"
     },
     "output_type": "display_data"
    }
   ],
   "source": [
    "plt.figure(figsize=(15,5))\n",
    "sns.distplot(x=df.Age)\n",
    "plt.show()"
   ]
  },
  {
   "cell_type": "code",
   "execution_count": 136,
   "id": "treated-offer",
   "metadata": {},
   "outputs": [
    {
     "name": "stderr",
     "output_type": "stream",
     "text": [
      "c:\\python\\python37\\lib\\site-packages\\seaborn\\distributions.py:2557: FutureWarning: `distplot` is a deprecated function and will be removed in a future version. Please adapt your code to use either `displot` (a figure-level function with similar flexibility) or `histplot` (an axes-level function for histograms).\n",
      "  warnings.warn(msg, FutureWarning)\n"
     ]
    },
    {
     "data": {
      "image/png": "[encoded data removed]",
      "text/plain": [
       "<Figure size 1080x360 with 1 Axes>"
      ]
     },
     "metadata": {
      "needs_background": "light"
     },
     "output_type": "display_data"
    }
   ],
   "source": [
    "plt.figure(figsize=(15,5))\n",
    "sns.distplot(x=df[\"Commision (in value)\"])\n",
    "plt.show()"
   ]
  },
  {
   "cell_type": "code",
   "execution_count": 137,
   "id": "significant-conviction",
   "metadata": {},
   "outputs": [
    {
     "name": "stderr",
     "output_type": "stream",
     "text": [
      "c:\\python\\python37\\lib\\site-packages\\seaborn\\distributions.py:2557: FutureWarning: `distplot` is a deprecated function and will be removed in a future version. Please adapt your code to use either `displot` (a figure-level function with similar flexibility) or `histplot` (an axes-level function for histograms).\n",
      "  warnings.warn(msg, FutureWarning)\n"
     ]
    },
    {
     "data": {
      "image/png": "[encoded data removed]",
      "text/plain": [
       "<Figure size 1080x360 with 1 Axes>"
      ]
     },
     "metadata": {
      "needs_background": "light"
     },
     "output_type": "display_data"
    }
   ],
   "source": [
    "plt.figure(figsize=(15,5))\n",
    "sns.distplot(x=df[\"Net Sales\"])\n",
    "plt.show()"
   ]
  },
  {
   "cell_type": "code",
   "execution_count": 138,
   "id": "weighted-iceland",
   "metadata": {},
   "outputs": [
    {
     "name": "stderr",
     "output_type": "stream",
     "text": [
      "c:\\python\\python37\\lib\\site-packages\\seaborn\\distributions.py:2557: FutureWarning: `distplot` is a deprecated function and will be removed in a future version. Please adapt your code to use either `displot` (a figure-level function with similar flexibility) or `histplot` (an axes-level function for histograms).\n",
      "  warnings.warn(msg, FutureWarning)\n"
     ]
    },
    {
     "data": {
      "image/png": "[encoded data removed]",
      "text/plain": [
       "<Figure size 1080x360 with 1 Axes>"
      ]
     },
     "metadata": {
      "needs_background": "light"
     },
     "output_type": "display_data"
    }
   ],
   "source": [
    "plt.figure(figsize=(15,5))\n",
    "sns.distplot(x=df[\"Duration\"])\n",
    "plt.show()"
   ]
  },
  {
   "cell_type": "markdown",
   "id": "elder-startup",
   "metadata": {},
   "source": [
    "sns.pairplot(df,hue=\"Claim\")"
   ]
  },
  {
   "cell_type": "markdown",
   "id": "necessary-capacity",
   "metadata": {},
   "source": [
    "## Bivariate Analysis"
   ]
  },
  {
   "cell_type": "markdown",
   "id": "overall-halifax",
   "metadata": {},
   "source": [
    "## 1.Agency Type"
   ]
  },
  {
   "cell_type": "code",
   "execution_count": 139,
   "id": "liquid-prize",
   "metadata": {},
   "outputs": [
    {
     "data": {
      "image/png": "[encoded data removed]",
      "text/plain": [
       "<Figure size 360x360 with 1 Axes>"
      ]
     },
     "metadata": {
      "needs_background": "light"
     },
     "output_type": "display_data"
    }
   ],
   "source": [
    "plt.figure(figsize=(5,5))\n",
    "sns.countplot(x=df['Agency Type'],hue=df.Claim)\n",
    "plt.show()"
   ]
  },
  {
   "cell_type": "code",
   "execution_count": 140,
   "id": "heavy-birmingham",
   "metadata": {},
   "outputs": [
    {
     "data": {
      "text/html": [
       "<div>\n",
       "<style scoped>\n",
       "    .dataframe tbody tr th:only-of-type {\n",
       "        vertical-align: middle;\n",
       "    }\n",
       "\n",
       "    .dataframe tbody tr th {\n",
       "        vertical-align: top;\n",
       "    }\n",
       "\n",
       "    .dataframe thead th {\n",
       "        text-align: right;\n",
       "    }\n",
       "</style>\n",
       "<table border=\"1\" class=\"dataframe\">\n",
       "  <thead>\n",
       "    <tr style=\"text-align: right;\">\n",
       "      <th>Claim</th>\n",
       "      <th>No</th>\n",
       "      <th>Yes</th>\n",
       "    </tr>\n",
       "    <tr>\n",
       "      <th>Agency Type</th>\n",
       "      <th></th>\n",
       "      <th></th>\n",
       "    </tr>\n",
       "  </thead>\n",
       "  <tbody>\n",
       "    <tr>\n",
       "      <th>Airlines</th>\n",
       "      <td>16861</td>\n",
       "      <td>591</td>\n",
       "    </tr>\n",
       "    <tr>\n",
       "      <th>Travel Agency</th>\n",
       "      <td>45533</td>\n",
       "      <td>336</td>\n",
       "    </tr>\n",
       "  </tbody>\n",
       "</table>\n",
       "</div>"
      ],
      "text/plain": [
       "Claim             No  Yes\n",
       "Agency Type              \n",
       "Airlines       16861  591\n",
       "Travel Agency  45533  336"
      ]
     },
     "execution_count": 140,
     "metadata": {},
     "output_type": "execute_result"
    }
   ],
   "source": [
    "df.pivot_table(values=\"Age\",index=\"Agency Type\",columns=\"Claim\",aggfunc=\"count\")"
   ]
  },
  {
   "cell_type": "code",
   "execution_count": 141,
   "id": "perceived-cooking",
   "metadata": {},
   "outputs": [
    {
     "data": {
      "text/html": [
       "<div>\n",
       "<style scoped>\n",
       "    .dataframe tbody tr th:only-of-type {\n",
       "        vertical-align: middle;\n",
       "    }\n",
       "\n",
       "    .dataframe tbody tr th {\n",
       "        vertical-align: top;\n",
       "    }\n",
       "\n",
       "    .dataframe thead th {\n",
       "        text-align: right;\n",
       "    }\n",
       "</style>\n",
       "<table border=\"1\" class=\"dataframe\">\n",
       "  <thead>\n",
       "    <tr style=\"text-align: right;\">\n",
       "      <th></th>\n",
       "      <th>Age_x</th>\n",
       "      <th>Commision (in value)_x</th>\n",
       "      <th>Duration_x</th>\n",
       "      <th>Net Sales_x</th>\n",
       "      <th>Age_y</th>\n",
       "      <th>Commision (in value)_y</th>\n",
       "      <th>Duration_y</th>\n",
       "      <th>Net Sales_y</th>\n",
       "    </tr>\n",
       "    <tr>\n",
       "      <th>Agency Type</th>\n",
       "      <th></th>\n",
       "      <th></th>\n",
       "      <th></th>\n",
       "      <th></th>\n",
       "      <th></th>\n",
       "      <th></th>\n",
       "      <th></th>\n",
       "      <th></th>\n",
       "    </tr>\n",
       "  </thead>\n",
       "  <tbody>\n",
       "    <tr>\n",
       "      <th>Airlines</th>\n",
       "      <td>44.981836</td>\n",
       "      <td>15.528884</td>\n",
       "      <td>67.748739</td>\n",
       "      <td>53.025340</td>\n",
       "      <td>41</td>\n",
       "      <td>9.1</td>\n",
       "      <td>20</td>\n",
       "      <td>27.0</td>\n",
       "    </tr>\n",
       "    <tr>\n",
       "      <th>Travel Agency</th>\n",
       "      <td>38.054590</td>\n",
       "      <td>7.634419</td>\n",
       "      <td>42.309795</td>\n",
       "      <td>36.015604</td>\n",
       "      <td>36</td>\n",
       "      <td>0.0</td>\n",
       "      <td>23</td>\n",
       "      <td>26.0</td>\n",
       "    </tr>\n",
       "  </tbody>\n",
       "</table>\n",
       "</div>"
      ],
      "text/plain": [
       "                   Age_x  Commision (in value)_x  Duration_x  Net Sales_x  \\\n",
       "Agency Type                                                                 \n",
       "Airlines       44.981836               15.528884   67.748739    53.025340   \n",
       "Travel Agency  38.054590                7.634419   42.309795    36.015604   \n",
       "\n",
       "               Age_y  Commision (in value)_y  Duration_y  Net Sales_y  \n",
       "Agency Type                                                            \n",
       "Airlines          41                     9.1          20         27.0  \n",
       "Travel Agency     36                     0.0          23         26.0  "
      ]
     },
     "execution_count": 141,
     "metadata": {},
     "output_type": "execute_result"
    }
   ],
   "source": [
    "meanAgencyType=df.pivot_table(values=[\"Net Sales\",\"Commision (in value)\",\"Duration\",\"Age\"],index=\"Agency Type\",aggfunc=\"mean\")\n",
    "medianAgencyType=df.pivot_table(values=[\"Net Sales\",\"Commision (in value)\",\"Duration\",\"Age\"],index=\"Agency Type\",aggfunc=\"median\")\n",
    "meanAgencyType.merge(medianAgencyType,how=\"inner\",on=\"Agency Type\")"
   ]
  },
  {
   "cell_type": "markdown",
   "id": "fleet-examination",
   "metadata": {},
   "source": [
    "## 2.Agency"
   ]
  },
  {
   "cell_type": "code",
   "execution_count": 142,
   "id": "lasting-royalty",
   "metadata": {},
   "outputs": [
    {
     "data": {
      "image/png": "[encoded data removed]",
      "text/plain": [
       "<Figure size 1080x360 with 1 Axes>"
      ]
     },
     "metadata": {
      "needs_background": "light"
     },
     "output_type": "display_data"
    }
   ],
   "source": [
    "plt.figure(figsize=(15,5))\n",
    "sns.countplot(x=df['Agency'],hue=df.Claim)\n",
    "plt.show()"
   ]
  },
  {
   "cell_type": "code",
   "execution_count": 143,
   "id": "bigger-laugh",
   "metadata": {},
   "outputs": [
    {
     "data": {
      "text/html": [
       "<div>\n",
       "<style scoped>\n",
       "    .dataframe tbody tr th:only-of-type {\n",
       "        vertical-align: middle;\n",
       "    }\n",
       "\n",
       "    .dataframe tbody tr th {\n",
       "        vertical-align: top;\n",
       "    }\n",
       "\n",
       "    .dataframe thead th {\n",
       "        text-align: right;\n",
       "    }\n",
       "</style>\n",
       "<table border=\"1\" class=\"dataframe\">\n",
       "  <thead>\n",
       "    <tr style=\"text-align: right;\">\n",
       "      <th>Claim</th>\n",
       "      <th>No</th>\n",
       "      <th>Yes</th>\n",
       "    </tr>\n",
       "    <tr>\n",
       "      <th>Agency</th>\n",
       "      <th></th>\n",
       "      <th></th>\n",
       "    </tr>\n",
       "  </thead>\n",
       "  <tbody>\n",
       "    <tr>\n",
       "      <th>C2B</th>\n",
       "      <td>7720.0</td>\n",
       "      <td>547.0</td>\n",
       "    </tr>\n",
       "    <tr>\n",
       "      <th>EPX</th>\n",
       "      <td>34924.0</td>\n",
       "      <td>195.0</td>\n",
       "    </tr>\n",
       "    <tr>\n",
       "      <th>CWT</th>\n",
       "      <td>8494.0</td>\n",
       "      <td>86.0</td>\n",
       "    </tr>\n",
       "    <tr>\n",
       "      <th>LWC</th>\n",
       "      <td>653.0</td>\n",
       "      <td>36.0</td>\n",
       "    </tr>\n",
       "    <tr>\n",
       "      <th>JZI</th>\n",
       "      <td>6293.0</td>\n",
       "      <td>31.0</td>\n",
       "    </tr>\n",
       "    <tr>\n",
       "      <th>KML</th>\n",
       "      <td>384.0</td>\n",
       "      <td>8.0</td>\n",
       "    </tr>\n",
       "    <tr>\n",
       "      <th>SSI</th>\n",
       "      <td>1049.0</td>\n",
       "      <td>7.0</td>\n",
       "    </tr>\n",
       "    <tr>\n",
       "      <th>JWT</th>\n",
       "      <td>745.0</td>\n",
       "      <td>4.0</td>\n",
       "    </tr>\n",
       "    <tr>\n",
       "      <th>TTW</th>\n",
       "      <td>94.0</td>\n",
       "      <td>4.0</td>\n",
       "    </tr>\n",
       "    <tr>\n",
       "      <th>CCR</th>\n",
       "      <td>191.0</td>\n",
       "      <td>3.0</td>\n",
       "    </tr>\n",
       "    <tr>\n",
       "      <th>TST</th>\n",
       "      <td>526.0</td>\n",
       "      <td>2.0</td>\n",
       "    </tr>\n",
       "    <tr>\n",
       "      <th>ART</th>\n",
       "      <td>330.0</td>\n",
       "      <td>1.0</td>\n",
       "    </tr>\n",
       "    <tr>\n",
       "      <th>CBH</th>\n",
       "      <td>100.0</td>\n",
       "      <td>1.0</td>\n",
       "    </tr>\n",
       "    <tr>\n",
       "      <th>CSR</th>\n",
       "      <td>85.0</td>\n",
       "      <td>1.0</td>\n",
       "    </tr>\n",
       "    <tr>\n",
       "      <th>RAB</th>\n",
       "      <td>724.0</td>\n",
       "      <td>1.0</td>\n",
       "    </tr>\n",
       "    <tr>\n",
       "      <th>ADM</th>\n",
       "      <td>82.0</td>\n",
       "      <td>NaN</td>\n",
       "    </tr>\n",
       "  </tbody>\n",
       "</table>\n",
       "</div>"
      ],
      "text/plain": [
       "Claim        No    Yes\n",
       "Agency                \n",
       "C2B      7720.0  547.0\n",
       "EPX     34924.0  195.0\n",
       "CWT      8494.0   86.0\n",
       "LWC       653.0   36.0\n",
       "JZI      6293.0   31.0\n",
       "KML       384.0    8.0\n",
       "SSI      1049.0    7.0\n",
       "JWT       745.0    4.0\n",
       "TTW        94.0    4.0\n",
       "CCR       191.0    3.0\n",
       "TST       526.0    2.0\n",
       "ART       330.0    1.0\n",
       "CBH       100.0    1.0\n",
       "CSR        85.0    1.0\n",
       "RAB       724.0    1.0\n",
       "ADM        82.0    NaN"
      ]
     },
     "execution_count": 143,
     "metadata": {},
     "output_type": "execute_result"
    }
   ],
   "source": [
    "df.pivot_table(values=\"Age\",index=\"Agency\",columns=\"Claim\",aggfunc=\"count\").sort_values(['Yes'],ascending=False)"
   ]
  },
  {
   "cell_type": "code",
   "execution_count": 144,
   "id": "golden-comfort",
   "metadata": {},
   "outputs": [],
   "source": [
    "meanAgency_Net_Sales=df.pivot_table(values=[\"Net Sales\",\"Commision (in value)\",\"Duration\",\"Age\"],index=\"Agency\",aggfunc=\"mean\")\n",
    "# meanAgency_Net_Sales"
   ]
  },
  {
   "cell_type": "code",
   "execution_count": 145,
   "id": "corresponding-mountain",
   "metadata": {},
   "outputs": [],
   "source": [
    "medianAgency_Net_Sales=df.pivot_table(values=[\"Net Sales\",\"Commision (in value)\",\"Duration\",\"Age\"],index=\"Agency\",aggfunc=\"median\")"
   ]
  },
  {
   "cell_type": "code",
   "execution_count": 146,
   "id": "complicated-caribbean",
   "metadata": {},
   "outputs": [
    {
     "data": {
      "text/html": [
       "<div>\n",
       "<style scoped>\n",
       "    .dataframe tbody tr th:only-of-type {\n",
       "        vertical-align: middle;\n",
       "    }\n",
       "\n",
       "    .dataframe tbody tr th {\n",
       "        vertical-align: top;\n",
       "    }\n",
       "\n",
       "    .dataframe thead th {\n",
       "        text-align: right;\n",
       "    }\n",
       "</style>\n",
       "<table border=\"1\" class=\"dataframe\">\n",
       "  <thead>\n",
       "    <tr style=\"text-align: right;\">\n",
       "      <th></th>\n",
       "      <th>Age_x</th>\n",
       "      <th>Commision (in value)_x</th>\n",
       "      <th>Duration_x</th>\n",
       "      <th>Net Sales_x</th>\n",
       "      <th>Age_y</th>\n",
       "      <th>Commision (in value)_y</th>\n",
       "      <th>Duration_y</th>\n",
       "      <th>Net Sales_y</th>\n",
       "    </tr>\n",
       "    <tr>\n",
       "      <th>Agency</th>\n",
       "      <th></th>\n",
       "      <th></th>\n",
       "      <th></th>\n",
       "      <th></th>\n",
       "      <th></th>\n",
       "      <th></th>\n",
       "      <th></th>\n",
       "      <th></th>\n",
       "    </tr>\n",
       "  </thead>\n",
       "  <tbody>\n",
       "    <tr>\n",
       "      <th>ADM</th>\n",
       "      <td>23.804878</td>\n",
       "      <td>38.254878</td>\n",
       "      <td>54.914634</td>\n",
       "      <td>53.256098</td>\n",
       "      <td>22.0</td>\n",
       "      <td>34.390</td>\n",
       "      <td>41.5</td>\n",
       "      <td>75.00</td>\n",
       "    </tr>\n",
       "    <tr>\n",
       "      <th>ART</th>\n",
       "      <td>60.314199</td>\n",
       "      <td>10.553927</td>\n",
       "      <td>30.359517</td>\n",
       "      <td>28.691601</td>\n",
       "      <td>48.0</td>\n",
       "      <td>8.490</td>\n",
       "      <td>14.0</td>\n",
       "      <td>23.00</td>\n",
       "    </tr>\n",
       "    <tr>\n",
       "      <th>C2B</th>\n",
       "      <td>37.749244</td>\n",
       "      <td>20.533124</td>\n",
       "      <td>95.219910</td>\n",
       "      <td>78.865811</td>\n",
       "      <td>34.0</td>\n",
       "      <td>9.750</td>\n",
       "      <td>21.0</td>\n",
       "      <td>35.50</td>\n",
       "    </tr>\n",
       "    <tr>\n",
       "      <th>CBH</th>\n",
       "      <td>57.128713</td>\n",
       "      <td>10.030693</td>\n",
       "      <td>91.950495</td>\n",
       "      <td>27.168317</td>\n",
       "      <td>65.0</td>\n",
       "      <td>9.570</td>\n",
       "      <td>64.0</td>\n",
       "      <td>29.00</td>\n",
       "    </tr>\n",
       "    <tr>\n",
       "      <th>CCR</th>\n",
       "      <td>67.572165</td>\n",
       "      <td>10.313351</td>\n",
       "      <td>62.809278</td>\n",
       "      <td>30.654639</td>\n",
       "      <td>67.0</td>\n",
       "      <td>9.570</td>\n",
       "      <td>45.0</td>\n",
       "      <td>29.00</td>\n",
       "    </tr>\n",
       "    <tr>\n",
       "      <th>CSR</th>\n",
       "      <td>57.511628</td>\n",
       "      <td>10.824767</td>\n",
       "      <td>79.895349</td>\n",
       "      <td>32.802326</td>\n",
       "      <td>63.5</td>\n",
       "      <td>9.570</td>\n",
       "      <td>58.0</td>\n",
       "      <td>29.00</td>\n",
       "    </tr>\n",
       "    <tr>\n",
       "      <th>CWT</th>\n",
       "      <td>40.291841</td>\n",
       "      <td>32.380615</td>\n",
       "      <td>41.450350</td>\n",
       "      <td>43.040769</td>\n",
       "      <td>38.0</td>\n",
       "      <td>23.760</td>\n",
       "      <td>24.0</td>\n",
       "      <td>39.60</td>\n",
       "    </tr>\n",
       "    <tr>\n",
       "      <th>EPX</th>\n",
       "      <td>36.933740</td>\n",
       "      <td>0.000000</td>\n",
       "      <td>39.158860</td>\n",
       "      <td>32.564993</td>\n",
       "      <td>36.0</td>\n",
       "      <td>0.000</td>\n",
       "      <td>22.0</td>\n",
       "      <td>22.00</td>\n",
       "    </tr>\n",
       "    <tr>\n",
       "      <th>JWT</th>\n",
       "      <td>118.000000</td>\n",
       "      <td>21.640053</td>\n",
       "      <td>29.371162</td>\n",
       "      <td>53.012016</td>\n",
       "      <td>118.0</td>\n",
       "      <td>15.600</td>\n",
       "      <td>16.0</td>\n",
       "      <td>39.00</td>\n",
       "    </tr>\n",
       "    <tr>\n",
       "      <th>JZI</th>\n",
       "      <td>44.545541</td>\n",
       "      <td>11.770549</td>\n",
       "      <td>34.184377</td>\n",
       "      <td>32.348514</td>\n",
       "      <td>44.0</td>\n",
       "      <td>9.100</td>\n",
       "      <td>20.0</td>\n",
       "      <td>26.00</td>\n",
       "    </tr>\n",
       "    <tr>\n",
       "      <th>KML</th>\n",
       "      <td>47.918367</td>\n",
       "      <td>21.812194</td>\n",
       "      <td>40.426020</td>\n",
       "      <td>55.448980</td>\n",
       "      <td>48.0</td>\n",
       "      <td>14.440</td>\n",
       "      <td>27.0</td>\n",
       "      <td>38.00</td>\n",
       "    </tr>\n",
       "    <tr>\n",
       "      <th>LWC</th>\n",
       "      <td>39.992743</td>\n",
       "      <td>74.265791</td>\n",
       "      <td>150.252540</td>\n",
       "      <td>111.510813</td>\n",
       "      <td>37.0</td>\n",
       "      <td>31.530</td>\n",
       "      <td>29.0</td>\n",
       "      <td>47.00</td>\n",
       "    </tr>\n",
       "    <tr>\n",
       "      <th>RAB</th>\n",
       "      <td>42.689655</td>\n",
       "      <td>7.226483</td>\n",
       "      <td>23.870345</td>\n",
       "      <td>17.817931</td>\n",
       "      <td>40.0</td>\n",
       "      <td>6.000</td>\n",
       "      <td>11.0</td>\n",
       "      <td>15.00</td>\n",
       "    </tr>\n",
       "    <tr>\n",
       "      <th>SSI</th>\n",
       "      <td>49.193182</td>\n",
       "      <td>1.784886</td>\n",
       "      <td>122.757576</td>\n",
       "      <td>6.365208</td>\n",
       "      <td>48.0</td>\n",
       "      <td>1.185</td>\n",
       "      <td>42.0</td>\n",
       "      <td>4.23</td>\n",
       "    </tr>\n",
       "    <tr>\n",
       "      <th>TST</th>\n",
       "      <td>50.467803</td>\n",
       "      <td>10.523201</td>\n",
       "      <td>40.594697</td>\n",
       "      <td>29.318182</td>\n",
       "      <td>54.0</td>\n",
       "      <td>10.500</td>\n",
       "      <td>33.0</td>\n",
       "      <td>30.00</td>\n",
       "    </tr>\n",
       "    <tr>\n",
       "      <th>TTW</th>\n",
       "      <td>40.642857</td>\n",
       "      <td>0.000000</td>\n",
       "      <td>369.316327</td>\n",
       "      <td>93.204082</td>\n",
       "      <td>40.5</td>\n",
       "      <td>0.000</td>\n",
       "      <td>365.0</td>\n",
       "      <td>97.00</td>\n",
       "    </tr>\n",
       "  </tbody>\n",
       "</table>\n",
       "</div>"
      ],
      "text/plain": [
       "             Age_x  Commision (in value)_x  Duration_x  Net Sales_x  Age_y  \\\n",
       "Agency                                                                       \n",
       "ADM      23.804878               38.254878   54.914634    53.256098   22.0   \n",
       "ART      60.314199               10.553927   30.359517    28.691601   48.0   \n",
       "C2B      37.749244               20.533124   95.219910    78.865811   34.0   \n",
       "CBH      57.128713               10.030693   91.950495    27.168317   65.0   \n",
       "CCR      67.572165               10.313351   62.809278    30.654639   67.0   \n",
       "CSR      57.511628               10.824767   79.895349    32.802326   63.5   \n",
       "CWT      40.291841               32.380615   41.450350    43.040769   38.0   \n",
       "EPX      36.933740                0.000000   39.158860    32.564993   36.0   \n",
       "JWT     118.000000               21.640053   29.371162    53.012016  118.0   \n",
       "JZI      44.545541               11.770549   34.184377    32.348514   44.0   \n",
       "KML      47.918367               21.812194   40.426020    55.448980   48.0   \n",
       "LWC      39.992743               74.265791  150.252540   111.510813   37.0   \n",
       "RAB      42.689655                7.226483   23.870345    17.817931   40.0   \n",
       "SSI      49.193182                1.784886  122.757576     6.365208   48.0   \n",
       "TST      50.467803               10.523201   40.594697    29.318182   54.0   \n",
       "TTW      40.642857                0.000000  369.316327    93.204082   40.5   \n",
       "\n",
       "        Commision (in value)_y  Duration_y  Net Sales_y  \n",
       "Agency                                                   \n",
       "ADM                     34.390        41.5        75.00  \n",
       "ART                      8.490        14.0        23.00  \n",
       "C2B                      9.750        21.0        35.50  \n",
       "CBH                      9.570        64.0        29.00  \n",
       "CCR                      9.570        45.0        29.00  \n",
       "CSR                      9.570        58.0        29.00  \n",
       "CWT                     23.760        24.0        39.60  \n",
       "EPX                      0.000        22.0        22.00  \n",
       "JWT                     15.600        16.0        39.00  \n",
       "JZI                      9.100        20.0        26.00  \n",
       "KML                     14.440        27.0        38.00  \n",
       "LWC                     31.530        29.0        47.00  \n",
       "RAB                      6.000        11.0        15.00  \n",
       "SSI                      1.185        42.0         4.23  \n",
       "TST                     10.500        33.0        30.00  \n",
       "TTW                      0.000       365.0        97.00  "
      ]
     },
     "execution_count": 146,
     "metadata": {},
     "output_type": "execute_result"
    }
   ],
   "source": [
    "meanAgency_Net_Sales.merge(medianAgency_Net_Sales,how=\"inner\",on=\"Agency\")"
   ]
  },
  {
   "cell_type": "markdown",
   "id": "requested-correspondence",
   "metadata": {},
   "source": [
    "## 3.Distribution Channel"
   ]
  },
  {
   "cell_type": "code",
   "execution_count": 147,
   "id": "clean-induction",
   "metadata": {},
   "outputs": [
    {
     "data": {
      "image/png": "[encoded data removed]",
      "text/plain": [
       "<Figure size 360x360 with 1 Axes>"
      ]
     },
     "metadata": {
      "needs_background": "light"
     },
     "output_type": "display_data"
    }
   ],
   "source": [
    "plt.figure(figsize=(5,5))\n",
    "sns.countplot(x=df['Distribution Channel'],hue=df.Claim)\n",
    "plt.show()"
   ]
  },
  {
   "cell_type": "code",
   "execution_count": 148,
   "id": "entitled-cosmetic",
   "metadata": {},
   "outputs": [
    {
     "data": {
      "text/html": [
       "<div>\n",
       "<style scoped>\n",
       "    .dataframe tbody tr th:only-of-type {\n",
       "        vertical-align: middle;\n",
       "    }\n",
       "\n",
       "    .dataframe tbody tr th {\n",
       "        vertical-align: top;\n",
       "    }\n",
       "\n",
       "    .dataframe thead th {\n",
       "        text-align: right;\n",
       "    }\n",
       "</style>\n",
       "<table border=\"1\" class=\"dataframe\">\n",
       "  <thead>\n",
       "    <tr style=\"text-align: right;\">\n",
       "      <th>Claim</th>\n",
       "      <th>No</th>\n",
       "      <th>Yes</th>\n",
       "    </tr>\n",
       "    <tr>\n",
       "      <th>Distribution Channel</th>\n",
       "      <th></th>\n",
       "      <th></th>\n",
       "    </tr>\n",
       "  </thead>\n",
       "  <tbody>\n",
       "    <tr>\n",
       "      <th>Offline</th>\n",
       "      <td>1090</td>\n",
       "      <td>17</td>\n",
       "    </tr>\n",
       "    <tr>\n",
       "      <th>Online</th>\n",
       "      <td>61304</td>\n",
       "      <td>910</td>\n",
       "    </tr>\n",
       "  </tbody>\n",
       "</table>\n",
       "</div>"
      ],
      "text/plain": [
       "Claim                    No  Yes\n",
       "Distribution Channel            \n",
       "Offline                1090   17\n",
       "Online                61304  910"
      ]
     },
     "execution_count": 148,
     "metadata": {},
     "output_type": "execute_result"
    }
   ],
   "source": [
    "df.pivot_table(values=\"Age\",index=\"Distribution Channel\",columns=\"Claim\",aggfunc=\"count\")"
   ]
  },
  {
   "cell_type": "code",
   "execution_count": 149,
   "id": "turned-discovery",
   "metadata": {},
   "outputs": [],
   "source": [
    "meanDistributionChannel_Net_Sales=df.pivot_table(values=[\"Net Sales\",\"Commision (in value)\",\"Duration\",\"Age\"],index=\"Distribution Channel\",aggfunc=\"mean\")\n",
    "# meanDistributionChannel_Net_Sales"
   ]
  },
  {
   "cell_type": "code",
   "execution_count": 150,
   "id": "fancy-message",
   "metadata": {},
   "outputs": [],
   "source": [
    "medianDistributionChannel_Net_Sales=df.pivot_table(values=[\"Net Sales\",\"Commision (in value)\",\"Duration\",\"Age\"],index=\"Distribution Channel\",aggfunc=\"median\")"
   ]
  },
  {
   "cell_type": "code",
   "execution_count": 151,
   "id": "nominated-prague",
   "metadata": {},
   "outputs": [
    {
     "data": {
      "text/html": [
       "<div>\n",
       "<style scoped>\n",
       "    .dataframe tbody tr th:only-of-type {\n",
       "        vertical-align: middle;\n",
       "    }\n",
       "\n",
       "    .dataframe tbody tr th {\n",
       "        vertical-align: top;\n",
       "    }\n",
       "\n",
       "    .dataframe thead th {\n",
       "        text-align: right;\n",
       "    }\n",
       "</style>\n",
       "<table border=\"1\" class=\"dataframe\">\n",
       "  <thead>\n",
       "    <tr style=\"text-align: right;\">\n",
       "      <th></th>\n",
       "      <th>Age_x</th>\n",
       "      <th>Commision (in value)_x</th>\n",
       "      <th>Duration_x</th>\n",
       "      <th>Net Sales_x</th>\n",
       "      <th>Age_y</th>\n",
       "      <th>Commision (in value)_y</th>\n",
       "      <th>Duration_y</th>\n",
       "      <th>Net Sales_y</th>\n",
       "    </tr>\n",
       "    <tr>\n",
       "      <th>Distribution Channel</th>\n",
       "      <th></th>\n",
       "      <th></th>\n",
       "      <th></th>\n",
       "      <th></th>\n",
       "      <th></th>\n",
       "      <th></th>\n",
       "      <th></th>\n",
       "      <th></th>\n",
       "    </tr>\n",
       "  </thead>\n",
       "  <tbody>\n",
       "    <tr>\n",
       "      <th>Offline</th>\n",
       "      <td>56.746161</td>\n",
       "      <td>9.038103</td>\n",
       "      <td>80.495032</td>\n",
       "      <td>36.657281</td>\n",
       "      <td>56.746161</td>\n",
       "      <td>9.038103</td>\n",
       "      <td>80.495032</td>\n",
       "      <td>36.657281</td>\n",
       "    </tr>\n",
       "    <tr>\n",
       "      <th>Online</th>\n",
       "      <td>39.665204</td>\n",
       "      <td>9.823963</td>\n",
       "      <td>48.766371</td>\n",
       "      <td>40.775684</td>\n",
       "      <td>39.665204</td>\n",
       "      <td>9.823963</td>\n",
       "      <td>48.766371</td>\n",
       "      <td>40.775684</td>\n",
       "    </tr>\n",
       "  </tbody>\n",
       "</table>\n",
       "</div>"
      ],
      "text/plain": [
       "                          Age_x  Commision (in value)_x  Duration_x  \\\n",
       "Distribution Channel                                                  \n",
       "Offline               56.746161                9.038103   80.495032   \n",
       "Online                39.665204                9.823963   48.766371   \n",
       "\n",
       "                      Net Sales_x      Age_y  Commision (in value)_y  \\\n",
       "Distribution Channel                                                   \n",
       "Offline                 36.657281  56.746161                9.038103   \n",
       "Online                  40.775684  39.665204                9.823963   \n",
       "\n",
       "                      Duration_y  Net Sales_y  \n",
       "Distribution Channel                           \n",
       "Offline                80.495032    36.657281  \n",
       "Online                 48.766371    40.775684  "
      ]
     },
     "execution_count": 151,
     "metadata": {},
     "output_type": "execute_result"
    }
   ],
   "source": [
    "meanDistributionChannel_Net_Sales.merge(meanDistributionChannel_Net_Sales,how=\"inner\",on=\"Distribution Channel\")"
   ]
  },
  {
   "cell_type": "markdown",
   "id": "pleasant-simon",
   "metadata": {},
   "source": [
    "## 4.Product Name"
   ]
  },
  {
   "cell_type": "code",
   "execution_count": 152,
   "id": "intelligent-freeze",
   "metadata": {},
   "outputs": [
    {
     "data": {
      "image/png": "[encoded data removed]",
      "text/plain": [
       "<Figure size 1080x360 with 1 Axes>"
      ]
     },
     "metadata": {
      "needs_background": "light"
     },
     "output_type": "display_data"
    }
   ],
   "source": [
    "plt.figure(figsize=(15,5))\n",
    "sns.countplot(x=df['Product Name'],hue=df.Claim)\n",
    "plt.show()"
   ]
  },
  {
   "cell_type": "code",
   "execution_count": 153,
   "id": "differential-covering",
   "metadata": {},
   "outputs": [
    {
     "data": {
      "text/html": [
       "<div>\n",
       "<style scoped>\n",
       "    .dataframe tbody tr th:only-of-type {\n",
       "        vertical-align: middle;\n",
       "    }\n",
       "\n",
       "    .dataframe tbody tr th {\n",
       "        vertical-align: top;\n",
       "    }\n",
       "\n",
       "    .dataframe thead th {\n",
       "        text-align: right;\n",
       "    }\n",
       "</style>\n",
       "<table border=\"1\" class=\"dataframe\">\n",
       "  <thead>\n",
       "    <tr style=\"text-align: right;\">\n",
       "      <th>Claim</th>\n",
       "      <th>No</th>\n",
       "      <th>Yes</th>\n",
       "    </tr>\n",
       "    <tr>\n",
       "      <th>Product Name</th>\n",
       "      <th></th>\n",
       "      <th></th>\n",
       "    </tr>\n",
       "  </thead>\n",
       "  <tbody>\n",
       "    <tr>\n",
       "      <th>Bronze Plan</th>\n",
       "      <td>3839.0</td>\n",
       "      <td>210.0</td>\n",
       "    </tr>\n",
       "    <tr>\n",
       "      <th>Annual Silver Plan</th>\n",
       "      <td>1266.0</td>\n",
       "      <td>157.0</td>\n",
       "    </tr>\n",
       "    <tr>\n",
       "      <th>2 way Comprehensive Plan</th>\n",
       "      <td>13016.0</td>\n",
       "      <td>142.0</td>\n",
       "    </tr>\n",
       "    <tr>\n",
       "      <th>Silver Plan</th>\n",
       "      <td>2108.0</td>\n",
       "      <td>141.0</td>\n",
       "    </tr>\n",
       "    <tr>\n",
       "      <th>Rental Vehicle Excess Insurance</th>\n",
       "      <td>8494.0</td>\n",
       "      <td>86.0</td>\n",
       "    </tr>\n",
       "    <tr>\n",
       "      <th>Cancellation Plan</th>\n",
       "      <td>18586.0</td>\n",
       "      <td>44.0</td>\n",
       "    </tr>\n",
       "    <tr>\n",
       "      <th>Basic Plan</th>\n",
       "      <td>5441.0</td>\n",
       "      <td>23.0</td>\n",
       "    </tr>\n",
       "    <tr>\n",
       "      <th>Annual Gold Plan</th>\n",
       "      <td>173.0</td>\n",
       "      <td>21.0</td>\n",
       "    </tr>\n",
       "    <tr>\n",
       "      <th>Value Plan</th>\n",
       "      <td>2696.0</td>\n",
       "      <td>19.0</td>\n",
       "    </tr>\n",
       "    <tr>\n",
       "      <th>Gold Plan</th>\n",
       "      <td>334.0</td>\n",
       "      <td>18.0</td>\n",
       "    </tr>\n",
       "    <tr>\n",
       "      <th>Annual Travel Protect Gold</th>\n",
       "      <td>90.0</td>\n",
       "      <td>10.0</td>\n",
       "    </tr>\n",
       "    <tr>\n",
       "      <th>Single Trip Travel Protect Gold</th>\n",
       "      <td>194.0</td>\n",
       "      <td>10.0</td>\n",
       "    </tr>\n",
       "    <tr>\n",
       "      <th>1 way Comprehensive Plan</th>\n",
       "      <td>3322.0</td>\n",
       "      <td>9.0</td>\n",
       "    </tr>\n",
       "    <tr>\n",
       "      <th>Ticket Protector</th>\n",
       "      <td>1049.0</td>\n",
       "      <td>7.0</td>\n",
       "    </tr>\n",
       "    <tr>\n",
       "      <th>Comprehensive Plan</th>\n",
       "      <td>359.0</td>\n",
       "      <td>5.0</td>\n",
       "    </tr>\n",
       "    <tr>\n",
       "      <th>Single Trip Travel Protect Platinum</th>\n",
       "      <td>68.0</td>\n",
       "      <td>5.0</td>\n",
       "    </tr>\n",
       "    <tr>\n",
       "      <th>Annual Travel Protect Silver</th>\n",
       "      <td>82.0</td>\n",
       "      <td>4.0</td>\n",
       "    </tr>\n",
       "    <tr>\n",
       "      <th>Single Trip Travel Protect Silver</th>\n",
       "      <td>169.0</td>\n",
       "      <td>4.0</td>\n",
       "    </tr>\n",
       "    <tr>\n",
       "      <th>Individual Comprehensive Plan</th>\n",
       "      <td>71.0</td>\n",
       "      <td>3.0</td>\n",
       "    </tr>\n",
       "    <tr>\n",
       "      <th>Premier Plan</th>\n",
       "      <td>191.0</td>\n",
       "      <td>3.0</td>\n",
       "    </tr>\n",
       "    <tr>\n",
       "      <th>Annual Travel Protect Platinum</th>\n",
       "      <td>50.0</td>\n",
       "      <td>3.0</td>\n",
       "    </tr>\n",
       "    <tr>\n",
       "      <th>Travel Cruise Protect</th>\n",
       "      <td>525.0</td>\n",
       "      <td>2.0</td>\n",
       "    </tr>\n",
       "    <tr>\n",
       "      <th>Spouse or Parents Comprehensive Plan</th>\n",
       "      <td>14.0</td>\n",
       "      <td>1.0</td>\n",
       "    </tr>\n",
       "    <tr>\n",
       "      <th>24 Protect</th>\n",
       "      <td>247.0</td>\n",
       "      <td>NaN</td>\n",
       "    </tr>\n",
       "    <tr>\n",
       "      <th>Child Comprehensive Plan</th>\n",
       "      <td>9.0</td>\n",
       "      <td>NaN</td>\n",
       "    </tr>\n",
       "    <tr>\n",
       "      <th>Travel Cruise Protect Family</th>\n",
       "      <td>1.0</td>\n",
       "      <td>NaN</td>\n",
       "    </tr>\n",
       "  </tbody>\n",
       "</table>\n",
       "</div>"
      ],
      "text/plain": [
       "Claim                                      No    Yes\n",
       "Product Name                                        \n",
       "Bronze Plan                            3839.0  210.0\n",
       "Annual Silver Plan                     1266.0  157.0\n",
       "2 way Comprehensive Plan              13016.0  142.0\n",
       "Silver Plan                            2108.0  141.0\n",
       "Rental Vehicle Excess Insurance        8494.0   86.0\n",
       "Cancellation Plan                     18586.0   44.0\n",
       "Basic Plan                             5441.0   23.0\n",
       "Annual Gold Plan                        173.0   21.0\n",
       "Value Plan                             2696.0   19.0\n",
       "Gold Plan                               334.0   18.0\n",
       "Annual Travel Protect Gold               90.0   10.0\n",
       "Single Trip Travel Protect Gold         194.0   10.0\n",
       "1 way Comprehensive Plan               3322.0    9.0\n",
       "Ticket Protector                       1049.0    7.0\n",
       "Comprehensive Plan                      359.0    5.0\n",
       "Single Trip Travel Protect Platinum      68.0    5.0\n",
       "Annual Travel Protect Silver             82.0    4.0\n",
       "Single Trip Travel Protect Silver       169.0    4.0\n",
       "Individual Comprehensive Plan            71.0    3.0\n",
       "Premier Plan                            191.0    3.0\n",
       "Annual Travel Protect Platinum           50.0    3.0\n",
       "Travel Cruise Protect                   525.0    2.0\n",
       "Spouse or Parents Comprehensive Plan     14.0    1.0\n",
       "24 Protect                              247.0    NaN\n",
       "Child Comprehensive Plan                  9.0    NaN\n",
       "Travel Cruise Protect Family              1.0    NaN"
      ]
     },
     "execution_count": 153,
     "metadata": {},
     "output_type": "execute_result"
    }
   ],
   "source": [
    "df.pivot_table(values=\"Age\",index=\"Product Name\",columns=\"Claim\",aggfunc=\"count\").sort_values(['Yes'],ascending=False)"
   ]
  },
  {
   "cell_type": "code",
   "execution_count": 154,
   "id": "differential-patrick",
   "metadata": {},
   "outputs": [
    {
     "data": {
      "text/html": [
       "<div>\n",
       "<style scoped>\n",
       "    .dataframe tbody tr th:only-of-type {\n",
       "        vertical-align: middle;\n",
       "    }\n",
       "\n",
       "    .dataframe tbody tr th {\n",
       "        vertical-align: top;\n",
       "    }\n",
       "\n",
       "    .dataframe thead th {\n",
       "        text-align: right;\n",
       "    }\n",
       "</style>\n",
       "<table border=\"1\" class=\"dataframe\">\n",
       "  <thead>\n",
       "    <tr style=\"text-align: right;\">\n",
       "      <th></th>\n",
       "      <th>Age_x</th>\n",
       "      <th>Commision (in value)_x</th>\n",
       "      <th>Duration_x</th>\n",
       "      <th>Net Sales_x</th>\n",
       "      <th>Age_y</th>\n",
       "      <th>Commision (in value)_y</th>\n",
       "      <th>Duration_y</th>\n",
       "      <th>Net Sales_y</th>\n",
       "    </tr>\n",
       "    <tr>\n",
       "      <th>Product Name</th>\n",
       "      <th></th>\n",
       "      <th></th>\n",
       "      <th></th>\n",
       "      <th></th>\n",
       "      <th></th>\n",
       "      <th></th>\n",
       "      <th></th>\n",
       "      <th></th>\n",
       "    </tr>\n",
       "  </thead>\n",
       "  <tbody>\n",
       "    <tr>\n",
       "      <th>1 way Comprehensive Plan</th>\n",
       "      <td>36.616632</td>\n",
       "      <td>0.000000</td>\n",
       "      <td>22.637646</td>\n",
       "      <td>27.663464</td>\n",
       "      <td>36.0</td>\n",
       "      <td>0.000</td>\n",
       "      <td>10.0</td>\n",
       "      <td>20.00</td>\n",
       "    </tr>\n",
       "    <tr>\n",
       "      <th>2 way Comprehensive Plan</th>\n",
       "      <td>37.430689</td>\n",
       "      <td>0.000000</td>\n",
       "      <td>42.957972</td>\n",
       "      <td>42.511704</td>\n",
       "      <td>36.0</td>\n",
       "      <td>0.000</td>\n",
       "      <td>27.0</td>\n",
       "      <td>31.00</td>\n",
       "    </tr>\n",
       "    <tr>\n",
       "      <th>24 Protect</th>\n",
       "      <td>48.550607</td>\n",
       "      <td>8.511943</td>\n",
       "      <td>30.186235</td>\n",
       "      <td>22.772955</td>\n",
       "      <td>48.0</td>\n",
       "      <td>5.930</td>\n",
       "      <td>12.0</td>\n",
       "      <td>14.39</td>\n",
       "    </tr>\n",
       "    <tr>\n",
       "      <th>Annual Gold Plan</th>\n",
       "      <td>44.170103</td>\n",
       "      <td>88.920619</td>\n",
       "      <td>373.396907</td>\n",
       "      <td>336.602320</td>\n",
       "      <td>42.0</td>\n",
       "      <td>83.250</td>\n",
       "      <td>367.0</td>\n",
       "      <td>333.00</td>\n",
       "    </tr>\n",
       "    <tr>\n",
       "      <th>Annual Silver Plan</th>\n",
       "      <td>40.431483</td>\n",
       "      <td>56.985200</td>\n",
       "      <td>375.777231</td>\n",
       "      <td>218.851307</td>\n",
       "      <td>37.0</td>\n",
       "      <td>54.000</td>\n",
       "      <td>368.0</td>\n",
       "      <td>216.00</td>\n",
       "    </tr>\n",
       "    <tr>\n",
       "      <th>Annual Travel Protect Gold</th>\n",
       "      <td>38.990000</td>\n",
       "      <td>161.536200</td>\n",
       "      <td>381.070000</td>\n",
       "      <td>246.940500</td>\n",
       "      <td>37.0</td>\n",
       "      <td>166.530</td>\n",
       "      <td>371.0</td>\n",
       "      <td>256.20</td>\n",
       "    </tr>\n",
       "    <tr>\n",
       "      <th>Annual Travel Protect Platinum</th>\n",
       "      <td>43.113208</td>\n",
       "      <td>215.935849</td>\n",
       "      <td>378.056604</td>\n",
       "      <td>332.209434</td>\n",
       "      <td>42.0</td>\n",
       "      <td>210.210</td>\n",
       "      <td>371.0</td>\n",
       "      <td>323.40</td>\n",
       "    </tr>\n",
       "    <tr>\n",
       "      <th>Annual Travel Protect Silver</th>\n",
       "      <td>40.313953</td>\n",
       "      <td>136.168837</td>\n",
       "      <td>393.546512</td>\n",
       "      <td>200.596512</td>\n",
       "      <td>36.5</td>\n",
       "      <td>149.370</td>\n",
       "      <td>374.5</td>\n",
       "      <td>229.80</td>\n",
       "    </tr>\n",
       "    <tr>\n",
       "      <th>Basic Plan</th>\n",
       "      <td>44.371889</td>\n",
       "      <td>9.540126</td>\n",
       "      <td>33.120059</td>\n",
       "      <td>26.501647</td>\n",
       "      <td>43.0</td>\n",
       "      <td>7.700</td>\n",
       "      <td>19.0</td>\n",
       "      <td>22.00</td>\n",
       "    </tr>\n",
       "    <tr>\n",
       "      <th>Bronze Plan</th>\n",
       "      <td>36.353421</td>\n",
       "      <td>8.600709</td>\n",
       "      <td>26.127439</td>\n",
       "      <td>33.238911</td>\n",
       "      <td>32.0</td>\n",
       "      <td>6.000</td>\n",
       "      <td>15.0</td>\n",
       "      <td>23.50</td>\n",
       "    </tr>\n",
       "    <tr>\n",
       "      <th>Cancellation Plan</th>\n",
       "      <td>36.639452</td>\n",
       "      <td>0.000000</td>\n",
       "      <td>39.429576</td>\n",
       "      <td>26.416210</td>\n",
       "      <td>36.0</td>\n",
       "      <td>0.000</td>\n",
       "      <td>22.0</td>\n",
       "      <td>18.00</td>\n",
       "    </tr>\n",
       "    <tr>\n",
       "      <th>Child Comprehensive Plan</th>\n",
       "      <td>13.000000</td>\n",
       "      <td>0.000000</td>\n",
       "      <td>366.111111</td>\n",
       "      <td>74.000000</td>\n",
       "      <td>14.0</td>\n",
       "      <td>0.000</td>\n",
       "      <td>365.0</td>\n",
       "      <td>74.00</td>\n",
       "    </tr>\n",
       "    <tr>\n",
       "      <th>Comprehensive Plan</th>\n",
       "      <td>62.733516</td>\n",
       "      <td>9.910879</td>\n",
       "      <td>73.645604</td>\n",
       "      <td>28.818681</td>\n",
       "      <td>66.0</td>\n",
       "      <td>9.570</td>\n",
       "      <td>53.0</td>\n",
       "      <td>29.00</td>\n",
       "    </tr>\n",
       "    <tr>\n",
       "      <th>Gold Plan</th>\n",
       "      <td>40.201705</td>\n",
       "      <td>21.437159</td>\n",
       "      <td>31.247159</td>\n",
       "      <td>79.189489</td>\n",
       "      <td>36.0</td>\n",
       "      <td>15.465</td>\n",
       "      <td>16.0</td>\n",
       "      <td>59.20</td>\n",
       "    </tr>\n",
       "    <tr>\n",
       "      <th>Individual Comprehensive Plan</th>\n",
       "      <td>43.135135</td>\n",
       "      <td>0.000000</td>\n",
       "      <td>369.972973</td>\n",
       "      <td>97.000000</td>\n",
       "      <td>41.5</td>\n",
       "      <td>0.000</td>\n",
       "      <td>365.0</td>\n",
       "      <td>97.00</td>\n",
       "    </tr>\n",
       "    <tr>\n",
       "      <th>Premier Plan</th>\n",
       "      <td>43.634021</td>\n",
       "      <td>29.502371</td>\n",
       "      <td>49.123711</td>\n",
       "      <td>64.036082</td>\n",
       "      <td>48.0</td>\n",
       "      <td>30.470</td>\n",
       "      <td>33.0</td>\n",
       "      <td>58.00</td>\n",
       "    </tr>\n",
       "    <tr>\n",
       "      <th>Rental Vehicle Excess Insurance</th>\n",
       "      <td>40.291841</td>\n",
       "      <td>32.380615</td>\n",
       "      <td>41.450350</td>\n",
       "      <td>43.040769</td>\n",
       "      <td>38.0</td>\n",
       "      <td>23.760</td>\n",
       "      <td>24.0</td>\n",
       "      <td>39.60</td>\n",
       "    </tr>\n",
       "    <tr>\n",
       "      <th>Silver Plan</th>\n",
       "      <td>37.627390</td>\n",
       "      <td>12.910916</td>\n",
       "      <td>28.112050</td>\n",
       "      <td>50.154891</td>\n",
       "      <td>34.0</td>\n",
       "      <td>9.750</td>\n",
       "      <td>15.0</td>\n",
       "      <td>39.00</td>\n",
       "    </tr>\n",
       "    <tr>\n",
       "      <th>Single Trip Travel Protect Gold</th>\n",
       "      <td>39.828431</td>\n",
       "      <td>27.531618</td>\n",
       "      <td>24.088235</td>\n",
       "      <td>39.539706</td>\n",
       "      <td>36.0</td>\n",
       "      <td>23.730</td>\n",
       "      <td>13.0</td>\n",
       "      <td>36.00</td>\n",
       "    </tr>\n",
       "    <tr>\n",
       "      <th>Single Trip Travel Protect Platinum</th>\n",
       "      <td>41.301370</td>\n",
       "      <td>29.843014</td>\n",
       "      <td>27.191781</td>\n",
       "      <td>44.255479</td>\n",
       "      <td>43.0</td>\n",
       "      <td>24.380</td>\n",
       "      <td>12.0</td>\n",
       "      <td>37.50</td>\n",
       "    </tr>\n",
       "    <tr>\n",
       "      <th>Single Trip Travel Protect Silver</th>\n",
       "      <td>39.098266</td>\n",
       "      <td>23.499422</td>\n",
       "      <td>26.797688</td>\n",
       "      <td>34.576590</td>\n",
       "      <td>35.0</td>\n",
       "      <td>17.230</td>\n",
       "      <td>14.0</td>\n",
       "      <td>26.50</td>\n",
       "    </tr>\n",
       "    <tr>\n",
       "      <th>Spouse or Parents Comprehensive Plan</th>\n",
       "      <td>44.933333</td>\n",
       "      <td>0.000000</td>\n",
       "      <td>368.000000</td>\n",
       "      <td>86.000000</td>\n",
       "      <td>47.0</td>\n",
       "      <td>0.000</td>\n",
       "      <td>366.0</td>\n",
       "      <td>86.00</td>\n",
       "    </tr>\n",
       "    <tr>\n",
       "      <th>Ticket Protector</th>\n",
       "      <td>49.193182</td>\n",
       "      <td>1.784886</td>\n",
       "      <td>122.757576</td>\n",
       "      <td>6.365208</td>\n",
       "      <td>48.0</td>\n",
       "      <td>1.185</td>\n",
       "      <td>42.0</td>\n",
       "      <td>4.23</td>\n",
       "    </tr>\n",
       "    <tr>\n",
       "      <th>Travel Cruise Protect</th>\n",
       "      <td>50.502846</td>\n",
       "      <td>10.500000</td>\n",
       "      <td>40.614801</td>\n",
       "      <td>29.373814</td>\n",
       "      <td>54.0</td>\n",
       "      <td>10.500</td>\n",
       "      <td>33.0</td>\n",
       "      <td>30.00</td>\n",
       "    </tr>\n",
       "    <tr>\n",
       "      <th>Travel Cruise Protect Family</th>\n",
       "      <td>32.000000</td>\n",
       "      <td>22.750000</td>\n",
       "      <td>30.000000</td>\n",
       "      <td>0.000000</td>\n",
       "      <td>32.0</td>\n",
       "      <td>22.750</td>\n",
       "      <td>30.0</td>\n",
       "      <td>0.00</td>\n",
       "    </tr>\n",
       "    <tr>\n",
       "      <th>Value Plan</th>\n",
       "      <td>66.233149</td>\n",
       "      <td>18.950011</td>\n",
       "      <td>32.953223</td>\n",
       "      <td>48.237569</td>\n",
       "      <td>49.0</td>\n",
       "      <td>15.600</td>\n",
       "      <td>19.0</td>\n",
       "      <td>36.00</td>\n",
       "    </tr>\n",
       "  </tbody>\n",
       "</table>\n",
       "</div>"
      ],
      "text/plain": [
       "                                          Age_x  Commision (in value)_x  \\\n",
       "Product Name                                                              \n",
       "1 way Comprehensive Plan              36.616632                0.000000   \n",
       "2 way Comprehensive Plan              37.430689                0.000000   \n",
       "24 Protect                            48.550607                8.511943   \n",
       "Annual Gold Plan                      44.170103               88.920619   \n",
       "Annual Silver Plan                    40.431483               56.985200   \n",
       "Annual Travel Protect Gold            38.990000              161.536200   \n",
       "Annual Travel Protect Platinum        43.113208              215.935849   \n",
       "Annual Travel Protect Silver          40.313953              136.168837   \n",
       "Basic Plan                            44.371889                9.540126   \n",
       "Bronze Plan                           36.353421                8.600709   \n",
       "Cancellation Plan                     36.639452                0.000000   \n",
       "Child Comprehensive Plan              13.000000                0.000000   \n",
       "Comprehensive Plan                    62.733516                9.910879   \n",
       "Gold Plan                             40.201705               21.437159   \n",
       "Individual Comprehensive Plan         43.135135                0.000000   \n",
       "Premier Plan                          43.634021               29.502371   \n",
       "Rental Vehicle Excess Insurance       40.291841               32.380615   \n",
       "Silver Plan                           37.627390               12.910916   \n",
       "Single Trip Travel Protect Gold       39.828431               27.531618   \n",
       "Single Trip Travel Protect Platinum   41.301370               29.843014   \n",
       "Single Trip Travel Protect Silver     39.098266               23.499422   \n",
       "Spouse or Parents Comprehensive Plan  44.933333                0.000000   \n",
       "Ticket Protector                      49.193182                1.784886   \n",
       "Travel Cruise Protect                 50.502846               10.500000   \n",
       "Travel Cruise Protect Family          32.000000               22.750000   \n",
       "Value Plan                            66.233149               18.950011   \n",
       "\n",
       "                                      Duration_x  Net Sales_x  Age_y  \\\n",
       "Product Name                                                           \n",
       "1 way Comprehensive Plan               22.637646    27.663464   36.0   \n",
       "2 way Comprehensive Plan               42.957972    42.511704   36.0   \n",
       "24 Protect                             30.186235    22.772955   48.0   \n",
       "Annual Gold Plan                      373.396907   336.602320   42.0   \n",
       "Annual Silver Plan                    375.777231   218.851307   37.0   \n",
       "Annual Travel Protect Gold            381.070000   246.940500   37.0   \n",
       "Annual Travel Protect Platinum        378.056604   332.209434   42.0   \n",
       "Annual Travel Protect Silver          393.546512   200.596512   36.5   \n",
       "Basic Plan                             33.120059    26.501647   43.0   \n",
       "Bronze Plan                            26.127439    33.238911   32.0   \n",
       "Cancellation Plan                      39.429576    26.416210   36.0   \n",
       "Child Comprehensive Plan              366.111111    74.000000   14.0   \n",
       "Comprehensive Plan                     73.645604    28.818681   66.0   \n",
       "Gold Plan                              31.247159    79.189489   36.0   \n",
       "Individual Comprehensive Plan         369.972973    97.000000   41.5   \n",
       "Premier Plan                           49.123711    64.036082   48.0   \n",
       "Rental Vehicle Excess Insurance        41.450350    43.040769   38.0   \n",
       "Silver Plan                            28.112050    50.154891   34.0   \n",
       "Single Trip Travel Protect Gold        24.088235    39.539706   36.0   \n",
       "Single Trip Travel Protect Platinum    27.191781    44.255479   43.0   \n",
       "Single Trip Travel Protect Silver      26.797688    34.576590   35.0   \n",
       "Spouse or Parents Comprehensive Plan  368.000000    86.000000   47.0   \n",
       "Ticket Protector                      122.757576     6.365208   48.0   \n",
       "Travel Cruise Protect                  40.614801    29.373814   54.0   \n",
       "Travel Cruise Protect Family           30.000000     0.000000   32.0   \n",
       "Value Plan                             32.953223    48.237569   49.0   \n",
       "\n",
       "                                      Commision (in value)_y  Duration_y  \\\n",
       "Product Name                                                               \n",
       "1 way Comprehensive Plan                               0.000        10.0   \n",
       "2 way Comprehensive Plan                               0.000        27.0   \n",
       "24 Protect                                             5.930        12.0   \n",
       "Annual Gold Plan                                      83.250       367.0   \n",
       "Annual Silver Plan                                    54.000       368.0   \n",
       "Annual Travel Protect Gold                           166.530       371.0   \n",
       "Annual Travel Protect Platinum                       210.210       371.0   \n",
       "Annual Travel Protect Silver                         149.370       374.5   \n",
       "Basic Plan                                             7.700        19.0   \n",
       "Bronze Plan                                            6.000        15.0   \n",
       "Cancellation Plan                                      0.000        22.0   \n",
       "Child Comprehensive Plan                               0.000       365.0   \n",
       "Comprehensive Plan                                     9.570        53.0   \n",
       "Gold Plan                                             15.465        16.0   \n",
       "Individual Comprehensive Plan                          0.000       365.0   \n",
       "Premier Plan                                          30.470        33.0   \n",
       "Rental Vehicle Excess Insurance                       23.760        24.0   \n",
       "Silver Plan                                            9.750        15.0   \n",
       "Single Trip Travel Protect Gold                       23.730        13.0   \n",
       "Single Trip Travel Protect Platinum                   24.380        12.0   \n",
       "Single Trip Travel Protect Silver                     17.230        14.0   \n",
       "Spouse or Parents Comprehensive Plan                   0.000       366.0   \n",
       "Ticket Protector                                       1.185        42.0   \n",
       "Travel Cruise Protect                                 10.500        33.0   \n",
       "Travel Cruise Protect Family                          22.750        30.0   \n",
       "Value Plan                                            15.600        19.0   \n",
       "\n",
       "                                      Net Sales_y  \n",
       "Product Name                                       \n",
       "1 way Comprehensive Plan                    20.00  \n",
       "2 way Comprehensive Plan                    31.00  \n",
       "24 Protect                                  14.39  \n",
       "Annual Gold Plan                           333.00  \n",
       "Annual Silver Plan                         216.00  \n",
       "Annual Travel Protect Gold                 256.20  \n",
       "Annual Travel Protect Platinum             323.40  \n",
       "Annual Travel Protect Silver               229.80  \n",
       "Basic Plan                                  22.00  \n",
       "Bronze Plan                                 23.50  \n",
       "Cancellation Plan                           18.00  \n",
       "Child Comprehensive Plan                    74.00  \n",
       "Comprehensive Plan                          29.00  \n",
       "Gold Plan                                   59.20  \n",
       "Individual Comprehensive Plan               97.00  \n",
       "Premier Plan                                58.00  \n",
       "Rental Vehicle Excess Insurance             39.60  \n",
       "Silver Plan                                 39.00  \n",
       "Single Trip Travel Protect Gold             36.00  \n",
       "Single Trip Travel Protect Platinum         37.50  \n",
       "Single Trip Travel Protect Silver           26.50  \n",
       "Spouse or Parents Comprehensive Plan        86.00  \n",
       "Ticket Protector                             4.23  \n",
       "Travel Cruise Protect                       30.00  \n",
       "Travel Cruise Protect Family                 0.00  \n",
       "Value Plan                                  36.00  "
      ]
     },
     "execution_count": 154,
     "metadata": {},
     "output_type": "execute_result"
    }
   ],
   "source": [
    "meanProductName=df.pivot_table(values=[\"Net Sales\",\"Commision (in value)\",\"Duration\",\"Age\"],index=\"Product Name\",aggfunc=\"mean\")\n",
    "medianProductName=df.pivot_table(values=[\"Net Sales\",\"Commision (in value)\",\"Duration\",\"Age\"],index=\"Product Name\",aggfunc=\"median\")\n",
    "meanProductName.merge(medianProductName,how=\"inner\",on=\"Product Name\")"
   ]
  },
  {
   "cell_type": "markdown",
   "id": "specialized-might",
   "metadata": {},
   "source": [
    "## 5.Destination"
   ]
  },
  {
   "cell_type": "code",
   "execution_count": 155,
   "id": "institutional-destiny",
   "metadata": {},
   "outputs": [
    {
     "data": {
      "image/png": "[encoded data removed]",
      "text/plain": [
       "<Figure size 1296x360 with 1 Axes>"
      ]
     },
     "metadata": {
      "needs_background": "light"
     },
     "output_type": "display_data"
    }
   ],
   "source": [
    "plt.figure(figsize=(18,5))\n",
    "sns.countplot(x=df['Destination'],hue=df.Claim)\n",
    "plt.show()"
   ]
  },
  {
   "cell_type": "code",
   "execution_count": 156,
   "id": "corporate-rocket",
   "metadata": {},
   "outputs": [
    {
     "data": {
      "text/html": [
       "<div>\n",
       "<style scoped>\n",
       "    .dataframe tbody tr th:only-of-type {\n",
       "        vertical-align: middle;\n",
       "    }\n",
       "\n",
       "    .dataframe tbody tr th {\n",
       "        vertical-align: top;\n",
       "    }\n",
       "\n",
       "    .dataframe thead th {\n",
       "        text-align: right;\n",
       "    }\n",
       "</style>\n",
       "<table border=\"1\" class=\"dataframe\">\n",
       "  <thead>\n",
       "    <tr style=\"text-align: right;\">\n",
       "      <th>Claim</th>\n",
       "      <th>No</th>\n",
       "      <th>Yes</th>\n",
       "    </tr>\n",
       "    <tr>\n",
       "      <th>Destination</th>\n",
       "      <th></th>\n",
       "      <th></th>\n",
       "    </tr>\n",
       "  </thead>\n",
       "  <tbody>\n",
       "    <tr>\n",
       "      <th>SINGAPORE</th>\n",
       "      <td>12693.0</td>\n",
       "      <td>562.0</td>\n",
       "    </tr>\n",
       "    <tr>\n",
       "      <th>CHINA</th>\n",
       "      <td>4749.0</td>\n",
       "      <td>46.0</td>\n",
       "    </tr>\n",
       "    <tr>\n",
       "      <th>AUSTRALIA</th>\n",
       "      <td>3656.0</td>\n",
       "      <td>38.0</td>\n",
       "    </tr>\n",
       "    <tr>\n",
       "      <th>UNITED STATES</th>\n",
       "      <td>2493.0</td>\n",
       "      <td>37.0</td>\n",
       "    </tr>\n",
       "    <tr>\n",
       "      <th>THAILAND</th>\n",
       "      <td>5860.0</td>\n",
       "      <td>34.0</td>\n",
       "    </tr>\n",
       "    <tr>\n",
       "      <th>...</th>\n",
       "      <td>...</td>\n",
       "      <td>...</td>\n",
       "    </tr>\n",
       "    <tr>\n",
       "      <th>VANUATU</th>\n",
       "      <td>5.0</td>\n",
       "      <td>NaN</td>\n",
       "    </tr>\n",
       "    <tr>\n",
       "      <th>VENEZUELA</th>\n",
       "      <td>5.0</td>\n",
       "      <td>NaN</td>\n",
       "    </tr>\n",
       "    <tr>\n",
       "      <th>VIRGIN ISLANDS, U.S.</th>\n",
       "      <td>1.0</td>\n",
       "      <td>NaN</td>\n",
       "    </tr>\n",
       "    <tr>\n",
       "      <th>ZAMBIA</th>\n",
       "      <td>3.0</td>\n",
       "      <td>NaN</td>\n",
       "    </tr>\n",
       "    <tr>\n",
       "      <th>ZIMBABWE</th>\n",
       "      <td>3.0</td>\n",
       "      <td>NaN</td>\n",
       "    </tr>\n",
       "  </tbody>\n",
       "</table>\n",
       "<p>149 rows × 2 columns</p>\n",
       "</div>"
      ],
      "text/plain": [
       "Claim                      No    Yes\n",
       "Destination                         \n",
       "SINGAPORE             12693.0  562.0\n",
       "CHINA                  4749.0   46.0\n",
       "AUSTRALIA              3656.0   38.0\n",
       "UNITED STATES          2493.0   37.0\n",
       "THAILAND               5860.0   34.0\n",
       "...                       ...    ...\n",
       "VANUATU                   5.0    NaN\n",
       "VENEZUELA                 5.0    NaN\n",
       "VIRGIN ISLANDS, U.S.      1.0    NaN\n",
       "ZAMBIA                    3.0    NaN\n",
       "ZIMBABWE                  3.0    NaN\n",
       "\n",
       "[149 rows x 2 columns]"
      ]
     },
     "execution_count": 156,
     "metadata": {},
     "output_type": "execute_result"
    }
   ],
   "source": [
    "df.pivot_table(values=\"Age\",index=\"Destination\",columns=\"Claim\",aggfunc=\"count\").sort_values(['Yes'],ascending=False)"
   ]
  },
  {
   "cell_type": "code",
   "execution_count": 157,
   "id": "front-ireland",
   "metadata": {},
   "outputs": [
    {
     "data": {
      "text/html": [
       "<div>\n",
       "<style scoped>\n",
       "    .dataframe tbody tr th:only-of-type {\n",
       "        vertical-align: middle;\n",
       "    }\n",
       "\n",
       "    .dataframe tbody tr th {\n",
       "        vertical-align: top;\n",
       "    }\n",
       "\n",
       "    .dataframe thead th {\n",
       "        text-align: right;\n",
       "    }\n",
       "</style>\n",
       "<table border=\"1\" class=\"dataframe\">\n",
       "  <thead>\n",
       "    <tr style=\"text-align: right;\">\n",
       "      <th></th>\n",
       "      <th>Age_x</th>\n",
       "      <th>Commision (in value)_x</th>\n",
       "      <th>Duration_x</th>\n",
       "      <th>Net Sales_x</th>\n",
       "      <th>Age_y</th>\n",
       "      <th>Commision (in value)_y</th>\n",
       "      <th>Duration_y</th>\n",
       "      <th>Net Sales_y</th>\n",
       "    </tr>\n",
       "    <tr>\n",
       "      <th>Destination</th>\n",
       "      <th></th>\n",
       "      <th></th>\n",
       "      <th></th>\n",
       "      <th></th>\n",
       "      <th></th>\n",
       "      <th></th>\n",
       "      <th></th>\n",
       "      <th></th>\n",
       "    </tr>\n",
       "  </thead>\n",
       "  <tbody>\n",
       "    <tr>\n",
       "      <th>ALBANIA</th>\n",
       "      <td>36.000000</td>\n",
       "      <td>0.000000</td>\n",
       "      <td>28.000000</td>\n",
       "      <td>80.000000</td>\n",
       "      <td>36.0</td>\n",
       "      <td>0.00</td>\n",
       "      <td>28.0</td>\n",
       "      <td>80.0</td>\n",
       "    </tr>\n",
       "    <tr>\n",
       "      <th>ANGOLA</th>\n",
       "      <td>19.000000</td>\n",
       "      <td>16.000000</td>\n",
       "      <td>2.000000</td>\n",
       "      <td>0.000000</td>\n",
       "      <td>19.0</td>\n",
       "      <td>16.00</td>\n",
       "      <td>2.0</td>\n",
       "      <td>0.0</td>\n",
       "    </tr>\n",
       "    <tr>\n",
       "      <th>ARGENTINA</th>\n",
       "      <td>35.954545</td>\n",
       "      <td>12.948636</td>\n",
       "      <td>35.636364</td>\n",
       "      <td>47.945455</td>\n",
       "      <td>36.0</td>\n",
       "      <td>0.00</td>\n",
       "      <td>21.5</td>\n",
       "      <td>43.5</td>\n",
       "    </tr>\n",
       "    <tr>\n",
       "      <th>ARMENIA</th>\n",
       "      <td>36.000000</td>\n",
       "      <td>0.000000</td>\n",
       "      <td>232.000000</td>\n",
       "      <td>25.000000</td>\n",
       "      <td>36.0</td>\n",
       "      <td>0.00</td>\n",
       "      <td>232.0</td>\n",
       "      <td>25.0</td>\n",
       "    </tr>\n",
       "    <tr>\n",
       "      <th>AUSTRALIA</th>\n",
       "      <td>39.432052</td>\n",
       "      <td>26.066960</td>\n",
       "      <td>47.591229</td>\n",
       "      <td>47.990363</td>\n",
       "      <td>36.0</td>\n",
       "      <td>23.76</td>\n",
       "      <td>29.0</td>\n",
       "      <td>49.5</td>\n",
       "    </tr>\n",
       "    <tr>\n",
       "      <th>...</th>\n",
       "      <td>...</td>\n",
       "      <td>...</td>\n",
       "      <td>...</td>\n",
       "      <td>...</td>\n",
       "      <td>...</td>\n",
       "      <td>...</td>\n",
       "      <td>...</td>\n",
       "      <td>...</td>\n",
       "    </tr>\n",
       "    <tr>\n",
       "      <th>VENEZUELA</th>\n",
       "      <td>35.600000</td>\n",
       "      <td>0.000000</td>\n",
       "      <td>40.800000</td>\n",
       "      <td>81.400000</td>\n",
       "      <td>36.0</td>\n",
       "      <td>0.00</td>\n",
       "      <td>31.0</td>\n",
       "      <td>80.0</td>\n",
       "    </tr>\n",
       "    <tr>\n",
       "      <th>VIET NAM</th>\n",
       "      <td>38.721390</td>\n",
       "      <td>1.460947</td>\n",
       "      <td>25.091072</td>\n",
       "      <td>21.522025</td>\n",
       "      <td>36.0</td>\n",
       "      <td>0.00</td>\n",
       "      <td>15.0</td>\n",
       "      <td>20.0</td>\n",
       "    </tr>\n",
       "    <tr>\n",
       "      <th>VIRGIN ISLANDS, U.S.</th>\n",
       "      <td>52.000000</td>\n",
       "      <td>0.000000</td>\n",
       "      <td>16.000000</td>\n",
       "      <td>80.000000</td>\n",
       "      <td>52.0</td>\n",
       "      <td>0.00</td>\n",
       "      <td>16.0</td>\n",
       "      <td>80.0</td>\n",
       "    </tr>\n",
       "    <tr>\n",
       "      <th>ZAMBIA</th>\n",
       "      <td>36.000000</td>\n",
       "      <td>0.000000</td>\n",
       "      <td>20.000000</td>\n",
       "      <td>-14.333333</td>\n",
       "      <td>36.0</td>\n",
       "      <td>0.00</td>\n",
       "      <td>11.0</td>\n",
       "      <td>20.0</td>\n",
       "    </tr>\n",
       "    <tr>\n",
       "      <th>ZIMBABWE</th>\n",
       "      <td>36.000000</td>\n",
       "      <td>0.000000</td>\n",
       "      <td>24.000000</td>\n",
       "      <td>27.333333</td>\n",
       "      <td>36.0</td>\n",
       "      <td>0.00</td>\n",
       "      <td>23.0</td>\n",
       "      <td>24.0</td>\n",
       "    </tr>\n",
       "  </tbody>\n",
       "</table>\n",
       "<p>149 rows × 8 columns</p>\n",
       "</div>"
      ],
      "text/plain": [
       "                          Age_x  Commision (in value)_x  Duration_x  \\\n",
       "Destination                                                           \n",
       "ALBANIA               36.000000                0.000000   28.000000   \n",
       "ANGOLA                19.000000               16.000000    2.000000   \n",
       "ARGENTINA             35.954545               12.948636   35.636364   \n",
       "ARMENIA               36.000000                0.000000  232.000000   \n",
       "AUSTRALIA             39.432052               26.066960   47.591229   \n",
       "...                         ...                     ...         ...   \n",
       "VENEZUELA             35.600000                0.000000   40.800000   \n",
       "VIET NAM              38.721390                1.460947   25.091072   \n",
       "VIRGIN ISLANDS, U.S.  52.000000                0.000000   16.000000   \n",
       "ZAMBIA                36.000000                0.000000   20.000000   \n",
       "ZIMBABWE              36.000000                0.000000   24.000000   \n",
       "\n",
       "                      Net Sales_x  Age_y  Commision (in value)_y  Duration_y  \\\n",
       "Destination                                                                    \n",
       "ALBANIA                 80.000000   36.0                    0.00        28.0   \n",
       "ANGOLA                   0.000000   19.0                   16.00         2.0   \n",
       "ARGENTINA               47.945455   36.0                    0.00        21.5   \n",
       "ARMENIA                 25.000000   36.0                    0.00       232.0   \n",
       "AUSTRALIA               47.990363   36.0                   23.76        29.0   \n",
       "...                           ...    ...                     ...         ...   \n",
       "VENEZUELA               81.400000   36.0                    0.00        31.0   \n",
       "VIET NAM                21.522025   36.0                    0.00        15.0   \n",
       "VIRGIN ISLANDS, U.S.    80.000000   52.0                    0.00        16.0   \n",
       "ZAMBIA                 -14.333333   36.0                    0.00        11.0   \n",
       "ZIMBABWE                27.333333   36.0                    0.00        23.0   \n",
       "\n",
       "                      Net Sales_y  \n",
       "Destination                        \n",
       "ALBANIA                      80.0  \n",
       "ANGOLA                        0.0  \n",
       "ARGENTINA                    43.5  \n",
       "ARMENIA                      25.0  \n",
       "AUSTRALIA                    49.5  \n",
       "...                           ...  \n",
       "VENEZUELA                    80.0  \n",
       "VIET NAM                     20.0  \n",
       "VIRGIN ISLANDS, U.S.         80.0  \n",
       "ZAMBIA                       20.0  \n",
       "ZIMBABWE                     24.0  \n",
       "\n",
       "[149 rows x 8 columns]"
      ]
     },
     "execution_count": 157,
     "metadata": {},
     "output_type": "execute_result"
    }
   ],
   "source": [
    "meanDestination=df.pivot_table(values=[\"Net Sales\",\"Commision (in value)\",\"Duration\",\"Age\"],index=\"Destination\",aggfunc=\"mean\")\n",
    "medianDestination=df.pivot_table(values=[\"Net Sales\",\"Commision (in value)\",\"Duration\",\"Age\"],index=\"Destination\",aggfunc=\"median\")\n",
    "meanDestination.merge(medianDestination,how=\"inner\",on=\"Destination\")"
   ]
  },
  {
   "cell_type": "code",
   "execution_count": 158,
   "id": "painful-setup",
   "metadata": {},
   "outputs": [
    {
     "data": {
      "image/png": "[encoded data removed]",
      "text/plain": [
       "<Figure size 1080x360 with 1 Axes>"
      ]
     },
     "metadata": {
      "needs_background": "light"
     },
     "output_type": "display_data"
    }
   ],
   "source": [
    "plt.figure(figsize=(15,5))\n",
    "sns.histplot(x=df[\"Commision (in value)\"],hue=df.Claim,binwidth=15)\n",
    "plt.show()"
   ]
  },
  {
   "cell_type": "code",
   "execution_count": 159,
   "id": "accessory-convertible",
   "metadata": {},
   "outputs": [
    {
     "data": {
      "image/png": "[encoded data removed]",
      "text/plain": [
       "<Figure size 1080x360 with 1 Axes>"
      ]
     },
     "metadata": {
      "needs_background": "light"
     },
     "output_type": "display_data"
    }
   ],
   "source": [
    "plt.figure(figsize=(15,5))\n",
    "sns.histplot(x=df[\"Net Sales\"],hue=df.Claim,binwidth=30)\n",
    "plt.show()"
   ]
  },
  {
   "cell_type": "code",
   "execution_count": 160,
   "id": "promotional-damage",
   "metadata": {},
   "outputs": [
    {
     "data": {
      "image/png": "[encoded data removed]",
      "text/plain": [
       "<Figure size 1080x360 with 1 Axes>"
      ]
     },
     "metadata": {
      "needs_background": "light"
     },
     "output_type": "display_data"
    }
   ],
   "source": [
    "plt.figure(figsize=(15,5))\n",
    "sns.histplot(x=df[\"Duration\"],hue=df.Claim,binwidth=100)\n",
    "plt.show()"
   ]
  },
  {
   "cell_type": "code",
   "execution_count": 161,
   "id": "spatial-detective",
   "metadata": {},
   "outputs": [
    {
     "data": {
      "text/html": [
       "<div>\n",
       "<style scoped>\n",
       "    .dataframe tbody tr th:only-of-type {\n",
       "        vertical-align: middle;\n",
       "    }\n",
       "\n",
       "    .dataframe tbody tr th {\n",
       "        vertical-align: top;\n",
       "    }\n",
       "\n",
       "    .dataframe thead th {\n",
       "        text-align: right;\n",
       "    }\n",
       "</style>\n",
       "<table border=\"1\" class=\"dataframe\">\n",
       "  <thead>\n",
       "    <tr style=\"text-align: right;\">\n",
       "      <th></th>\n",
       "      <th>Duration</th>\n",
       "      <th>Net Sales</th>\n",
       "      <th>Commision (in value)</th>\n",
       "      <th>Age</th>\n",
       "    </tr>\n",
       "  </thead>\n",
       "  <tbody>\n",
       "    <tr>\n",
       "      <th>Duration</th>\n",
       "      <td>1.000000</td>\n",
       "      <td>0.429225</td>\n",
       "      <td>0.344770</td>\n",
       "      <td>0.002690</td>\n",
       "    </tr>\n",
       "    <tr>\n",
       "      <th>Net Sales</th>\n",
       "      <td>0.429225</td>\n",
       "      <td>1.000000</td>\n",
       "      <td>0.651315</td>\n",
       "      <td>0.037993</td>\n",
       "    </tr>\n",
       "    <tr>\n",
       "      <th>Commision (in value)</th>\n",
       "      <td>0.344770</td>\n",
       "      <td>0.651315</td>\n",
       "      <td>1.000000</td>\n",
       "      <td>0.118559</td>\n",
       "    </tr>\n",
       "    <tr>\n",
       "      <th>Age</th>\n",
       "      <td>0.002690</td>\n",
       "      <td>0.037993</td>\n",
       "      <td>0.118559</td>\n",
       "      <td>1.000000</td>\n",
       "    </tr>\n",
       "  </tbody>\n",
       "</table>\n",
       "</div>"
      ],
      "text/plain": [
       "                      Duration  Net Sales  Commision (in value)       Age\n",
       "Duration              1.000000   0.429225              0.344770  0.002690\n",
       "Net Sales             0.429225   1.000000              0.651315  0.037993\n",
       "Commision (in value)  0.344770   0.651315              1.000000  0.118559\n",
       "Age                   0.002690   0.037993              0.118559  1.000000"
      ]
     },
     "execution_count": 161,
     "metadata": {},
     "output_type": "execute_result"
    }
   ],
   "source": [
    "df.corr()"
   ]
  },
  {
   "cell_type": "code",
   "execution_count": 162,
   "id": "varying-enlargement",
   "metadata": {},
   "outputs": [
    {
     "data": {
      "text/plain": [
       "<AxesSubplot:>"
      ]
     },
     "execution_count": 162,
     "metadata": {},
     "output_type": "execute_result"
    },
    {
     "data": {
      "image/png": "[encoded data removed]",
      "text/plain": [
       "<Figure size 432x288 with 2 Axes>"
      ]
     },
     "metadata": {
      "needs_background": "light"
     },
     "output_type": "display_data"
    }
   ],
   "source": [
    "sns.heatmap(df.corr(),vmin=0,vmax=1,annot=True)"
   ]
  },
  {
   "cell_type": "code",
   "execution_count": 163,
   "id": "explicit-independence",
   "metadata": {},
   "outputs": [
    {
     "name": "stdout",
     "output_type": "stream",
     "text": [
      "<class 'pandas.core.frame.DataFrame'>\n",
      "Int64Index: 63321 entries, 0 to 63325\n",
      "Data columns (total 10 columns):\n",
      " #   Column                Non-Null Count  Dtype  \n",
      "---  ------                --------------  -----  \n",
      " 0   Agency                63321 non-null  object \n",
      " 1   Agency Type           63321 non-null  object \n",
      " 2   Distribution Channel  63321 non-null  object \n",
      " 3   Product Name          63321 non-null  object \n",
      " 4   Claim                 63321 non-null  object \n",
      " 5   Duration              63321 non-null  int64  \n",
      " 6   Destination           63321 non-null  object \n",
      " 7   Net Sales             63321 non-null  float64\n",
      " 8   Commision (in value)  63321 non-null  float64\n",
      " 9   Age                   63321 non-null  int64  \n",
      "dtypes: float64(2), int64(2), object(6)\n",
      "memory usage: 7.3+ MB\n"
     ]
    }
   ],
   "source": [
    "df.info()"
   ]
  },
  {
   "cell_type": "code",
   "execution_count": 164,
   "id": "sitting-bennett",
   "metadata": {},
   "outputs": [],
   "source": [
    "df=pd.get_dummies(df,columns=[\"Agency\",\"Agency Type\",\"Distribution Channel\",\"Product Name\",\"Claim\",\"Destination\"],drop_first=True)"
   ]
  },
  {
   "cell_type": "code",
   "execution_count": 165,
   "id": "terminal-encyclopedia",
   "metadata": {},
   "outputs": [
    {
     "data": {
      "text/html": [
       "<div>\n",
       "<style scoped>\n",
       "    .dataframe tbody tr th:only-of-type {\n",
       "        vertical-align: middle;\n",
       "    }\n",
       "\n",
       "    .dataframe tbody tr th {\n",
       "        vertical-align: top;\n",
       "    }\n",
       "\n",
       "    .dataframe thead th {\n",
       "        text-align: right;\n",
       "    }\n",
       "</style>\n",
       "<table border=\"1\" class=\"dataframe\">\n",
       "  <thead>\n",
       "    <tr style=\"text-align: right;\">\n",
       "      <th></th>\n",
       "      <th>Duration</th>\n",
       "      <th>Net Sales</th>\n",
       "      <th>Commision (in value)</th>\n",
       "      <th>Age</th>\n",
       "      <th>Agency_ART</th>\n",
       "      <th>Agency_C2B</th>\n",
       "      <th>Agency_CBH</th>\n",
       "      <th>Agency_CCR</th>\n",
       "      <th>Agency_CSR</th>\n",
       "      <th>Agency_CWT</th>\n",
       "      <th>...</th>\n",
       "      <th>Destination_UNITED KINGDOM</th>\n",
       "      <th>Destination_UNITED STATES</th>\n",
       "      <th>Destination_URUGUAY</th>\n",
       "      <th>Destination_UZBEKISTAN</th>\n",
       "      <th>Destination_VANUATU</th>\n",
       "      <th>Destination_VENEZUELA</th>\n",
       "      <th>Destination_VIET NAM</th>\n",
       "      <th>Destination_VIRGIN ISLANDS, U.S.</th>\n",
       "      <th>Destination_ZAMBIA</th>\n",
       "      <th>Destination_ZIMBABWE</th>\n",
       "    </tr>\n",
       "  </thead>\n",
       "  <tbody>\n",
       "    <tr>\n",
       "      <th>0</th>\n",
       "      <td>186</td>\n",
       "      <td>-29.0</td>\n",
       "      <td>9.57</td>\n",
       "      <td>81</td>\n",
       "      <td>0</td>\n",
       "      <td>0</td>\n",
       "      <td>1</td>\n",
       "      <td>0</td>\n",
       "      <td>0</td>\n",
       "      <td>0</td>\n",
       "      <td>...</td>\n",
       "      <td>0</td>\n",
       "      <td>0</td>\n",
       "      <td>0</td>\n",
       "      <td>0</td>\n",
       "      <td>0</td>\n",
       "      <td>0</td>\n",
       "      <td>0</td>\n",
       "      <td>0</td>\n",
       "      <td>0</td>\n",
       "      <td>0</td>\n",
       "    </tr>\n",
       "    <tr>\n",
       "      <th>1</th>\n",
       "      <td>186</td>\n",
       "      <td>-29.0</td>\n",
       "      <td>9.57</td>\n",
       "      <td>71</td>\n",
       "      <td>0</td>\n",
       "      <td>0</td>\n",
       "      <td>1</td>\n",
       "      <td>0</td>\n",
       "      <td>0</td>\n",
       "      <td>0</td>\n",
       "      <td>...</td>\n",
       "      <td>0</td>\n",
       "      <td>0</td>\n",
       "      <td>0</td>\n",
       "      <td>0</td>\n",
       "      <td>0</td>\n",
       "      <td>0</td>\n",
       "      <td>0</td>\n",
       "      <td>0</td>\n",
       "      <td>0</td>\n",
       "      <td>0</td>\n",
       "    </tr>\n",
       "    <tr>\n",
       "      <th>2</th>\n",
       "      <td>65</td>\n",
       "      <td>-49.5</td>\n",
       "      <td>29.70</td>\n",
       "      <td>32</td>\n",
       "      <td>0</td>\n",
       "      <td>0</td>\n",
       "      <td>0</td>\n",
       "      <td>0</td>\n",
       "      <td>0</td>\n",
       "      <td>1</td>\n",
       "      <td>...</td>\n",
       "      <td>0</td>\n",
       "      <td>0</td>\n",
       "      <td>0</td>\n",
       "      <td>0</td>\n",
       "      <td>0</td>\n",
       "      <td>0</td>\n",
       "      <td>0</td>\n",
       "      <td>0</td>\n",
       "      <td>0</td>\n",
       "      <td>0</td>\n",
       "    </tr>\n",
       "    <tr>\n",
       "      <th>3</th>\n",
       "      <td>60</td>\n",
       "      <td>-39.6</td>\n",
       "      <td>23.76</td>\n",
       "      <td>32</td>\n",
       "      <td>0</td>\n",
       "      <td>0</td>\n",
       "      <td>0</td>\n",
       "      <td>0</td>\n",
       "      <td>0</td>\n",
       "      <td>1</td>\n",
       "      <td>...</td>\n",
       "      <td>0</td>\n",
       "      <td>0</td>\n",
       "      <td>0</td>\n",
       "      <td>0</td>\n",
       "      <td>0</td>\n",
       "      <td>0</td>\n",
       "      <td>0</td>\n",
       "      <td>0</td>\n",
       "      <td>0</td>\n",
       "      <td>0</td>\n",
       "    </tr>\n",
       "    <tr>\n",
       "      <th>4</th>\n",
       "      <td>79</td>\n",
       "      <td>-19.8</td>\n",
       "      <td>11.88</td>\n",
       "      <td>41</td>\n",
       "      <td>0</td>\n",
       "      <td>0</td>\n",
       "      <td>0</td>\n",
       "      <td>0</td>\n",
       "      <td>0</td>\n",
       "      <td>1</td>\n",
       "      <td>...</td>\n",
       "      <td>0</td>\n",
       "      <td>0</td>\n",
       "      <td>0</td>\n",
       "      <td>0</td>\n",
       "      <td>0</td>\n",
       "      <td>0</td>\n",
       "      <td>0</td>\n",
       "      <td>0</td>\n",
       "      <td>0</td>\n",
       "      <td>0</td>\n",
       "    </tr>\n",
       "  </tbody>\n",
       "</table>\n",
       "<p>5 rows × 195 columns</p>\n",
       "</div>"
      ],
      "text/plain": [
       "   Duration  Net Sales  Commision (in value)  Age  Agency_ART  Agency_C2B  \\\n",
       "0       186      -29.0                  9.57   81           0           0   \n",
       "1       186      -29.0                  9.57   71           0           0   \n",
       "2        65      -49.5                 29.70   32           0           0   \n",
       "3        60      -39.6                 23.76   32           0           0   \n",
       "4        79      -19.8                 11.88   41           0           0   \n",
       "\n",
       "   Agency_CBH  Agency_CCR  Agency_CSR  Agency_CWT  ...  \\\n",
       "0           1           0           0           0  ...   \n",
       "1           1           0           0           0  ...   \n",
       "2           0           0           0           1  ...   \n",
       "3           0           0           0           1  ...   \n",
       "4           0           0           0           1  ...   \n",
       "\n",
       "   Destination_UNITED KINGDOM  Destination_UNITED STATES  Destination_URUGUAY  \\\n",
       "0                           0                          0                    0   \n",
       "1                           0                          0                    0   \n",
       "2                           0                          0                    0   \n",
       "3                           0                          0                    0   \n",
       "4                           0                          0                    0   \n",
       "\n",
       "   Destination_UZBEKISTAN  Destination_VANUATU  Destination_VENEZUELA  \\\n",
       "0                       0                    0                      0   \n",
       "1                       0                    0                      0   \n",
       "2                       0                    0                      0   \n",
       "3                       0                    0                      0   \n",
       "4                       0                    0                      0   \n",
       "\n",
       "   Destination_VIET NAM  Destination_VIRGIN ISLANDS, U.S.  Destination_ZAMBIA  \\\n",
       "0                     0                                 0                   0   \n",
       "1                     0                                 0                   0   \n",
       "2                     0                                 0                   0   \n",
       "3                     0                                 0                   0   \n",
       "4                     0                                 0                   0   \n",
       "\n",
       "   Destination_ZIMBABWE  \n",
       "0                     0  \n",
       "1                     0  \n",
       "2                     0  \n",
       "3                     0  \n",
       "4                     0  \n",
       "\n",
       "[5 rows x 195 columns]"
      ]
     },
     "execution_count": 165,
     "metadata": {},
     "output_type": "execute_result"
    }
   ],
   "source": [
    "df.head()"
   ]
  },
  {
   "cell_type": "code",
   "execution_count": 166,
   "id": "taken-navigator",
   "metadata": {},
   "outputs": [
    {
     "data": {
      "text/plain": [
       "(63321, 195)"
      ]
     },
     "execution_count": 166,
     "metadata": {},
     "output_type": "execute_result"
    }
   ],
   "source": [
    "df.shape"
   ]
  },
  {
   "cell_type": "code",
   "execution_count": 167,
   "id": "patient-suspension",
   "metadata": {},
   "outputs": [
    {
     "data": {
      "text/plain": [
       "0        0\n",
       "1        0\n",
       "2        0\n",
       "3        0\n",
       "4        0\n",
       "        ..\n",
       "63321    0\n",
       "63322    0\n",
       "63323    0\n",
       "63324    0\n",
       "63325    0\n",
       "Name: Claim_Yes, Length: 63321, dtype: uint8"
      ]
     },
     "execution_count": 167,
     "metadata": {},
     "output_type": "execute_result"
    }
   ],
   "source": [
    "df['Claim_Yes']"
   ]
  },
  {
   "cell_type": "code",
   "execution_count": 168,
   "id": "occasional-knight",
   "metadata": {},
   "outputs": [],
   "source": [
    "x=df.drop(columns=\"Claim_Yes\")\n",
    "y=df['Claim_Yes']"
   ]
  },
  {
   "cell_type": "code",
   "execution_count": 169,
   "id": "potential-worker",
   "metadata": {},
   "outputs": [],
   "source": [
    "from sklearn.model_selection import train_test_split\n",
    "from sklearn.linear_model import LogisticRegression\n",
    "from sklearn.neighbors import KNeighborsClassifier\n",
    "from sklearn import tree\n",
    "from sklearn.ensemble import BaggingClassifier\n",
    "from sklearn.ensemble import RandomForestClassifier\n",
    "from sklearn.svm import SVC\n",
    "\n",
    "\n",
    "from sklearn.metrics import accuracy_score,confusion_matrix,f1_score,classification_report\n"
   ]
  },
  {
   "cell_type": "code",
   "execution_count": 170,
   "id": "structural-spread",
   "metadata": {},
   "outputs": [],
   "source": [
    "x_train , x_test , y_train , y_test = train_test_split(x,y ,test_size = 0.1 ,random_state =0)"
   ]
  },
  {
   "cell_type": "code",
   "execution_count": 171,
   "id": "incomplete-basement",
   "metadata": {},
   "outputs": [
    {
     "name": "stderr",
     "output_type": "stream",
     "text": [
      "c:\\python\\python37\\lib\\site-packages\\sklearn\\linear_model\\_logistic.py:818: ConvergenceWarning: lbfgs failed to converge (status=1):\n",
      "STOP: TOTAL NO. of ITERATIONS REACHED LIMIT.\n",
      "\n",
      "Increase the number of iterations (max_iter) or scale the data as shown in:\n",
      "    https://scikit-learn.org/stable/modules/preprocessing.html\n",
      "Please also refer to the documentation for alternative solver options:\n",
      "    https://scikit-learn.org/stable/modules/linear_model.html#logistic-regression\n",
      "  extra_warning_msg=_LOGISTIC_SOLVER_CONVERGENCE_MSG,\n"
     ]
    },
    {
     "data": {
      "text/plain": [
       "LogisticRegression()"
      ]
     },
     "execution_count": 171,
     "metadata": {},
     "output_type": "execute_result"
    }
   ],
   "source": [
    "model_lr=LogisticRegression()\n",
    "model_lr.fit(x_train,y_train)\n"
   ]
  },
  {
   "cell_type": "code",
   "execution_count": 172,
   "id": "infinite-physics",
   "metadata": {},
   "outputs": [
    {
     "name": "stdout",
     "output_type": "stream",
     "text": [
      "accuracy :  0.9840517921995895\n",
      "              precision    recall  f1-score   support\n",
      "\n",
      "           0       0.98      1.00      0.99      6232\n",
      "           1       0.00      0.00      0.00       101\n",
      "\n",
      "    accuracy                           0.98      6333\n",
      "   macro avg       0.49      0.50      0.50      6333\n",
      "weighted avg       0.97      0.98      0.98      6333\n",
      "\n"
     ]
    },
    {
     "name": "stderr",
     "output_type": "stream",
     "text": [
      "c:\\python\\python37\\lib\\site-packages\\sklearn\\metrics\\_classification.py:1318: UndefinedMetricWarning: Precision and F-score are ill-defined and being set to 0.0 in labels with no predicted samples. Use `zero_division` parameter to control this behavior.\n",
      "  _warn_prf(average, modifier, msg_start, len(result))\n",
      "c:\\python\\python37\\lib\\site-packages\\sklearn\\metrics\\_classification.py:1318: UndefinedMetricWarning: Precision and F-score are ill-defined and being set to 0.0 in labels with no predicted samples. Use `zero_division` parameter to control this behavior.\n",
      "  _warn_prf(average, modifier, msg_start, len(result))\n",
      "c:\\python\\python37\\lib\\site-packages\\sklearn\\metrics\\_classification.py:1318: UndefinedMetricWarning: Precision and F-score are ill-defined and being set to 0.0 in labels with no predicted samples. Use `zero_division` parameter to control this behavior.\n",
      "  _warn_prf(average, modifier, msg_start, len(result))\n"
     ]
    }
   ],
   "source": [
    "print(\"accuracy : \",accuracy_score(y_test,model_lr.predict(x_test)))\n",
    "print(classification_report(y_true=y_test, y_pred=model_lr.predict(x_test)))"
   ]
  },
  {
   "cell_type": "code",
   "execution_count": 173,
   "id": "acting-pizza",
   "metadata": {},
   "outputs": [
    {
     "data": {
      "text/plain": [
       "KNeighborsClassifier(n_neighbors=3)"
      ]
     },
     "execution_count": 173,
     "metadata": {},
     "output_type": "execute_result"
    }
   ],
   "source": [
    "model_knn=KNeighborsClassifier(n_neighbors=3)\n",
    "model_knn.fit(x_train,y_train)"
   ]
  },
  {
   "cell_type": "code",
   "execution_count": 174,
   "id": "magnetic-confidence",
   "metadata": {},
   "outputs": [
    {
     "name": "stdout",
     "output_type": "stream",
     "text": [
      "accuracy :  0.9824727617243013\n",
      "              precision    recall  f1-score   support\n",
      "\n",
      "           0       0.98      1.00      0.99      6232\n",
      "           1       0.08      0.01      0.02       101\n",
      "\n",
      "    accuracy                           0.98      6333\n",
      "   macro avg       0.53      0.50      0.50      6333\n",
      "weighted avg       0.97      0.98      0.98      6333\n",
      "\n"
     ]
    }
   ],
   "source": [
    "print(\"accuracy : \",accuracy_score(y_test,model_knn.predict(x_test)))\n",
    "print(classification_report(y_true=y_test, y_pred=model_knn.predict(x_test)))"
   ]
  },
  {
   "cell_type": "code",
   "execution_count": 175,
   "id": "extraordinary-device",
   "metadata": {},
   "outputs": [
    {
     "data": {
      "text/plain": [
       "DecisionTreeClassifier(max_depth=5)"
      ]
     },
     "execution_count": 175,
     "metadata": {},
     "output_type": "execute_result"
    }
   ],
   "source": [
    "model_tree=tree.DecisionTreeClassifier(max_depth=5)\n",
    "model_tree.fit(x_train,y_train)"
   ]
  },
  {
   "cell_type": "code",
   "execution_count": 176,
   "id": "british-increase",
   "metadata": {},
   "outputs": [
    {
     "name": "stdout",
     "output_type": "stream",
     "text": [
      "accuracy :  0.9838938891520607\n",
      "              precision    recall  f1-score   support\n",
      "\n",
      "           0       0.98      1.00      0.99      6232\n",
      "           1       0.00      0.00      0.00       101\n",
      "\n",
      "    accuracy                           0.98      6333\n",
      "   macro avg       0.49      0.50      0.50      6333\n",
      "weighted avg       0.97      0.98      0.98      6333\n",
      "\n"
     ]
    }
   ],
   "source": [
    "print(\"accuracy : \",accuracy_score(y_test,model_tree.predict(x_test)))\n",
    "print(classification_report(y_true=y_test, y_pred=model_tree.predict(x_test)))"
   ]
  },
  {
   "cell_type": "code",
   "execution_count": 177,
   "id": "administrative-imaging",
   "metadata": {},
   "outputs": [
    {
     "name": "stdout",
     "output_type": "stream",
     "text": [
      "accuracy :  0.9815253434391283\n",
      "              precision    recall  f1-score   support\n",
      "\n",
      "           0       0.98      1.00      0.99      6232\n",
      "           1       0.06      0.01      0.02       101\n",
      "\n",
      "    accuracy                           0.98      6333\n",
      "   macro avg       0.52      0.50      0.50      6333\n",
      "weighted avg       0.97      0.98      0.98      6333\n",
      "\n"
     ]
    }
   ],
   "source": [
    "model_rf = RandomForestClassifier(n_estimators=100,random_state=42)\n",
    "model_rf.fit(x_train, y_train)\n",
    "print(\"accuracy : \",accuracy_score(y_test,model_rf.predict(x_test)))\n",
    "print(classification_report(y_true=y_test, y_pred=model_rf.predict(x_test)))"
   ]
  },
  {
   "cell_type": "markdown",
   "id": "median-inventory",
   "metadata": {},
   "source": [
    "## Resampling"
   ]
  },
  {
   "cell_type": "markdown",
   "id": "practical-cemetery",
   "metadata": {},
   "source": [
    "## 1.Randomoversampler"
   ]
  },
  {
   "cell_type": "code",
   "execution_count": 55,
   "id": "average-andrews",
   "metadata": {},
   "outputs": [],
   "source": [
    "# import library\n",
    "from imblearn.over_sampling import RandomOverSampler\n",
    "\n",
    "ros = RandomOverSampler(random_state=42)\n",
    "\n",
    "# fit predictor and target variable\n",
    "x_ros, y_ros = ros.fit_resample(x, y)\n"
   ]
  },
  {
   "cell_type": "code",
   "execution_count": 56,
   "id": "australian-secret",
   "metadata": {},
   "outputs": [
    {
     "data": {
      "text/plain": [
       "<AxesSubplot:xlabel='Claim_Yes', ylabel='count'>"
      ]
     },
     "execution_count": 56,
     "metadata": {},
     "output_type": "execute_result"
    },
    {
     "data": {
      "image/png": "[encoded data removed]",
      "text/plain": [
       "<Figure size 432x288 with 1 Axes>"
      ]
     },
     "metadata": {
      "needs_background": "light"
     },
     "output_type": "display_data"
    }
   ],
   "source": [
    "sns.countplot(x=y_ros)"
   ]
  },
  {
   "cell_type": "code",
   "execution_count": 57,
   "id": "opposed-tomato",
   "metadata": {},
   "outputs": [],
   "source": [
    "x_train , x_test , y_train , y_test = train_test_split(x_ros,y_ros ,test_size = 0.2 ,random_state =42)"
   ]
  },
  {
   "cell_type": "code",
   "execution_count": 58,
   "id": "applied-malawi",
   "metadata": {},
   "outputs": [
    {
     "name": "stderr",
     "output_type": "stream",
     "text": [
      "c:\\python\\python37\\lib\\site-packages\\sklearn\\linear_model\\_logistic.py:818: ConvergenceWarning: lbfgs failed to converge (status=1):\n",
      "STOP: TOTAL NO. of ITERATIONS REACHED LIMIT.\n",
      "\n",
      "Increase the number of iterations (max_iter) or scale the data as shown in:\n",
      "    https://scikit-learn.org/stable/modules/preprocessing.html\n",
      "Please also refer to the documentation for alternative solver options:\n",
      "    https://scikit-learn.org/stable/modules/linear_model.html#logistic-regression\n",
      "  extra_warning_msg=_LOGISTIC_SOLVER_CONVERGENCE_MSG,\n"
     ]
    },
    {
     "name": "stdout",
     "output_type": "stream",
     "text": [
      "accuracy :  0.7594358522317494\n",
      "              precision    recall  f1-score   support\n",
      "\n",
      "           0       0.75      0.79      0.77     12578\n",
      "           1       0.78      0.73      0.75     12380\n",
      "\n",
      "    accuracy                           0.76     24958\n",
      "   macro avg       0.76      0.76      0.76     24958\n",
      "weighted avg       0.76      0.76      0.76     24958\n",
      "\n"
     ]
    }
   ],
   "source": [
    "model_lr=LogisticRegression()\n",
    "model_lr.fit(x_train,y_train)\n",
    "print(\"accuracy : \",accuracy_score(y_test,model_lr.predict(x_test)))\n",
    "print(classification_report(y_true=y_test, y_pred=model_lr.predict(x_test)))"
   ]
  },
  {
   "cell_type": "code",
   "execution_count": 59,
   "id": "novel-syndicate",
   "metadata": {},
   "outputs": [
    {
     "name": "stdout",
     "output_type": "stream",
     "text": [
      "accuracy :  0.9700296498116836\n",
      "              precision    recall  f1-score   support\n",
      "\n",
      "           0       1.00      0.94      0.97     12578\n",
      "           1       0.94      1.00      0.97     12380\n",
      "\n",
      "    accuracy                           0.97     24958\n",
      "   macro avg       0.97      0.97      0.97     24958\n",
      "weighted avg       0.97      0.97      0.97     24958\n",
      "\n"
     ]
    }
   ],
   "source": [
    "model_knn=KNeighborsClassifier(n_neighbors=5)\n",
    "model_knn.fit(x_train,y_train)\n",
    "print(\"accuracy : \",accuracy_score(y_test,model_knn.predict(x_test)))\n",
    "print(classification_report(y_true=y_test, y_pred=model_knn.predict(x_test)))"
   ]
  },
  {
   "cell_type": "code",
   "execution_count": 60,
   "id": "innovative-somerset",
   "metadata": {},
   "outputs": [
    {
     "name": "stdout",
     "output_type": "stream",
     "text": [
      "accuracy :  0.7619600929561664\n",
      "              precision    recall  f1-score   support\n",
      "\n",
      "           0       0.76      0.78      0.77     12578\n",
      "           1       0.77      0.74      0.76     12380\n",
      "\n",
      "    accuracy                           0.76     24958\n",
      "   macro avg       0.76      0.76      0.76     24958\n",
      "weighted avg       0.76      0.76      0.76     24958\n",
      "\n"
     ]
    }
   ],
   "source": [
    "model_tree=tree.DecisionTreeClassifier(max_depth=5)\n",
    "model_tree.fit(x_train,y_train)\n",
    "print(\"accuracy : \",accuracy_score(y_test,model_tree.predict(x_test)))\n",
    "print(classification_report(y_true=y_test, y_pred=model_tree.predict(x_test)))"
   ]
  },
  {
   "cell_type": "code",
   "execution_count": 61,
   "id": "russian-lender",
   "metadata": {},
   "outputs": [
    {
     "name": "stdout",
     "output_type": "stream",
     "text": [
      "accuracy :  0.9937895664716724\n",
      "              precision    recall  f1-score   support\n",
      "\n",
      "           0       1.00      0.99      0.99     12578\n",
      "           1       0.99      1.00      0.99     12380\n",
      "\n",
      "    accuracy                           0.99     24958\n",
      "   macro avg       0.99      0.99      0.99     24958\n",
      "weighted avg       0.99      0.99      0.99     24958\n",
      "\n"
     ]
    }
   ],
   "source": [
    "model_rf = RandomForestClassifier(n_estimators=100,random_state=42)\n",
    "model_rf.fit(x_train, y_train)\n",
    "print(\"accuracy : \",accuracy_score(y_test,model_rf.predict(x_test)))\n",
    "print(classification_report(y_true=y_test, y_pred=model_rf.predict(x_test)))"
   ]
  },
  {
   "cell_type": "code",
   "execution_count": 62,
   "id": "occupational-diamond",
   "metadata": {},
   "outputs": [],
   "source": [
    "# model_svc=SVC(kernel=\"linear\",C=0.01)\n",
    "# model_svc.fit(x_train,y_train)\n",
    "# print(\"accuracy : \",accuracy_score(y_test,model_svc.predict(x_test)))\n",
    "# print(classification_report(y_true=y_test, y_pred=model_svc.predict(x_test)))"
   ]
  },
  {
   "cell_type": "markdown",
   "id": "ideal-supplier",
   "metadata": {},
   "source": [
    "## 2.SMOTE"
   ]
  },
  {
   "cell_type": "code",
   "execution_count": 68,
   "id": "atmospheric-karen",
   "metadata": {},
   "outputs": [],
   "source": [
    "from imblearn.over_sampling import SMOTE\n",
    "\n",
    "smote = SMOTE()\n",
    "\n",
    "# fit predictor and target variable\n",
    "x_smote, y_smote = smote.fit_resample(x, y)"
   ]
  },
  {
   "cell_type": "code",
   "execution_count": 69,
   "id": "acceptable-relevance",
   "metadata": {},
   "outputs": [],
   "source": [
    "x_train , x_test , y_train , y_test = train_test_split(x_smote,y_smote ,test_size = 0.2 ,random_state =42)"
   ]
  },
  {
   "cell_type": "code",
   "execution_count": 70,
   "id": "mighty-envelope",
   "metadata": {},
   "outputs": [
    {
     "name": "stdout",
     "output_type": "stream",
     "text": [
      "accuracy :  0.8605657504607741\n",
      "              precision    recall  f1-score   support\n",
      "\n",
      "           0       0.92      0.79      0.85     12578\n",
      "           1       0.81      0.93      0.87     12380\n",
      "\n",
      "    accuracy                           0.86     24958\n",
      "   macro avg       0.87      0.86      0.86     24958\n",
      "weighted avg       0.87      0.86      0.86     24958\n",
      "\n"
     ]
    },
    {
     "name": "stderr",
     "output_type": "stream",
     "text": [
      "c:\\python\\python37\\lib\\site-packages\\sklearn\\linear_model\\_logistic.py:818: ConvergenceWarning: lbfgs failed to converge (status=1):\n",
      "STOP: TOTAL NO. of ITERATIONS REACHED LIMIT.\n",
      "\n",
      "Increase the number of iterations (max_iter) or scale the data as shown in:\n",
      "    https://scikit-learn.org/stable/modules/preprocessing.html\n",
      "Please also refer to the documentation for alternative solver options:\n",
      "    https://scikit-learn.org/stable/modules/linear_model.html#logistic-regression\n",
      "  extra_warning_msg=_LOGISTIC_SOLVER_CONVERGENCE_MSG,\n"
     ]
    }
   ],
   "source": [
    "model_lr=LogisticRegression()\n",
    "model_lr.fit(x_train,y_train)\n",
    "print(\"accuracy : \",accuracy_score(y_test,model_lr.predict(x_test)))\n",
    "print(classification_report(y_true=y_test, y_pred=model_lr.predict(x_test)))"
   ]
  },
  {
   "cell_type": "code",
   "execution_count": 74,
   "id": "welsh-pipeline",
   "metadata": {},
   "outputs": [
    {
     "data": {
      "text/plain": [
       "array([[ 9907,  2671],\n",
       "       [  809, 11571]], dtype=int64)"
      ]
     },
     "execution_count": 74,
     "metadata": {},
     "output_type": "execute_result"
    }
   ],
   "source": [
    "confusion_matrix(y_test,model_lr.predict(x_test))"
   ]
  },
  {
   "cell_type": "code",
   "execution_count": 71,
   "id": "considered-adolescent",
   "metadata": {},
   "outputs": [
    {
     "name": "stdout",
     "output_type": "stream",
     "text": [
      "accuracy :  0.9250741245292091\n",
      "              precision    recall  f1-score   support\n",
      "\n",
      "           0       0.99      0.86      0.92     12578\n",
      "           1       0.88      0.99      0.93     12380\n",
      "\n",
      "    accuracy                           0.93     24958\n",
      "   macro avg       0.93      0.93      0.92     24958\n",
      "weighted avg       0.93      0.93      0.92     24958\n",
      "\n"
     ]
    }
   ],
   "source": [
    "model_knn=KNeighborsClassifier(n_neighbors=5)\n",
    "model_knn.fit(x_train,y_train)\n",
    "print(\"accuracy : \",accuracy_score(y_test,model_knn.predict(x_test)))\n",
    "print(classification_report(y_true=y_test, y_pred=model_knn.predict(x_test)))"
   ]
  },
  {
   "cell_type": "code",
   "execution_count": 72,
   "id": "median-toner",
   "metadata": {},
   "outputs": [
    {
     "name": "stdout",
     "output_type": "stream",
     "text": [
      "accuracy :  0.7902075486817854\n",
      "              precision    recall  f1-score   support\n",
      "\n",
      "           0       0.88      0.67      0.76     12578\n",
      "           1       0.73      0.91      0.81     12380\n",
      "\n",
      "    accuracy                           0.79     24958\n",
      "   macro avg       0.81      0.79      0.79     24958\n",
      "weighted avg       0.81      0.79      0.79     24958\n",
      "\n"
     ]
    }
   ],
   "source": [
    "model_tree=tree.DecisionTreeClassifier(max_depth=5)\n",
    "model_tree.fit(x_train,y_train)\n",
    "print(\"accuracy : \",accuracy_score(y_test,model_tree.predict(x_test)))\n",
    "print(classification_report(y_true=y_test, y_pred=model_tree.predict(x_test)))"
   ]
  },
  {
   "cell_type": "code",
   "execution_count": 73,
   "id": "mighty-gossip",
   "metadata": {},
   "outputs": [
    {
     "name": "stdout",
     "output_type": "stream",
     "text": [
      "accuracy :  0.9799663434570077\n",
      "              precision    recall  f1-score   support\n",
      "\n",
      "           0       0.99      0.97      0.98     12578\n",
      "           1       0.97      0.99      0.98     12380\n",
      "\n",
      "    accuracy                           0.98     24958\n",
      "   macro avg       0.98      0.98      0.98     24958\n",
      "weighted avg       0.98      0.98      0.98     24958\n",
      "\n"
     ]
    }
   ],
   "source": [
    "model_rf = RandomForestClassifier(n_estimators=100,random_state=42)\n",
    "model_rf.fit(x_train, y_train)\n",
    "print(\"accuracy : \",accuracy_score(y_test,model_rf.predict(x_test)))\n",
    "print(classification_report(y_true=y_test, y_pred=model_rf.predict(x_test)))"
   ]
  },
  {
   "cell_type": "code",
   "execution_count": 75,
   "id": "confidential-picture",
   "metadata": {},
   "outputs": [
    {
     "data": {
      "text/plain": [
       "array([[12225,   353],\n",
       "       [  147, 12233]], dtype=int64)"
      ]
     },
     "execution_count": 75,
     "metadata": {},
     "output_type": "execute_result"
    }
   ],
   "source": [
    "confusion_matrix(y_test,model_rf.predict(x_test))"
   ]
  },
  {
   "cell_type": "markdown",
   "id": "adjustable-builder",
   "metadata": {},
   "source": [
    "## Weighting"
   ]
  },
  {
   "cell_type": "code",
   "execution_count": 80,
   "id": "passing-rocket",
   "metadata": {},
   "outputs": [],
   "source": [
    "x_train , x_test , y_train , y_test = train_test_split(x,y ,test_size = 0.3 ,random_state =100,stratify=y)"
   ]
  },
  {
   "cell_type": "code",
   "execution_count": 81,
   "id": "possible-emergency",
   "metadata": {},
   "outputs": [
    {
     "name": "stdout",
     "output_type": "stream",
     "text": [
      "accuracy :  0.7124282781491814\n",
      "              precision    recall  f1-score   support\n",
      "\n",
      "           0       1.00      0.71      0.83     18719\n",
      "           1       0.04      0.82      0.08       278\n",
      "\n",
      "    accuracy                           0.71     18997\n",
      "   macro avg       0.52      0.77      0.45     18997\n",
      "weighted avg       0.98      0.71      0.82     18997\n",
      "\n"
     ]
    },
    {
     "name": "stderr",
     "output_type": "stream",
     "text": [
      "c:\\python\\python37\\lib\\site-packages\\sklearn\\linear_model\\_logistic.py:818: ConvergenceWarning: lbfgs failed to converge (status=1):\n",
      "STOP: TOTAL NO. of ITERATIONS REACHED LIMIT.\n",
      "\n",
      "Increase the number of iterations (max_iter) or scale the data as shown in:\n",
      "    https://scikit-learn.org/stable/modules/preprocessing.html\n",
      "Please also refer to the documentation for alternative solver options:\n",
      "    https://scikit-learn.org/stable/modules/linear_model.html#logistic-regression\n",
      "  extra_warning_msg=_LOGISTIC_SOLVER_CONVERGENCE_MSG,\n"
     ]
    }
   ],
   "source": [
    "model_lr=LogisticRegression(class_weight={0: 1, 1: 98.5})\n",
    "model_lr.fit(x_train,y_train)\n",
    "print(\"accuracy : \",accuracy_score(y_test,model_lr.predict(x_test)))\n",
    "print(classification_report(y_true=y_test, y_pred=model_lr.predict(x_test)))"
   ]
  },
  {
   "cell_type": "code",
   "execution_count": 82,
   "id": "suffering-thriller",
   "metadata": {},
   "outputs": [
    {
     "name": "stdout",
     "output_type": "stream",
     "text": [
      "accuracy :  0.5630889087750698\n",
      "              precision    recall  f1-score   support\n",
      "\n",
      "           0       1.00      0.56      0.72     18719\n",
      "           1       0.03      0.85      0.05       278\n",
      "\n",
      "    accuracy                           0.56     18997\n",
      "   macro avg       0.51      0.70      0.38     18997\n",
      "weighted avg       0.98      0.56      0.71     18997\n",
      "\n"
     ]
    }
   ],
   "source": [
    "model_tree=tree.DecisionTreeClassifier(max_depth=5,class_weight={0: 1, 1: 98.5})\n",
    "model_tree.fit(x_train,y_train)\n",
    "print(\"accuracy : \",accuracy_score(y_test,model_tree.predict(x_test)))\n",
    "print(classification_report(y_true=y_test, y_pred=model_tree.predict(x_test)))"
   ]
  },
  {
   "cell_type": "code",
   "execution_count": 85,
   "id": "quick-campaign",
   "metadata": {},
   "outputs": [
    {
     "name": "stdout",
     "output_type": "stream",
     "text": [
      "accuracy :  0.9822077170079486\n",
      "              precision    recall  f1-score   support\n",
      "\n",
      "           0       0.99      1.00      0.99     18719\n",
      "           1       0.12      0.03      0.05       278\n",
      "\n",
      "    accuracy                           0.98     18997\n",
      "   macro avg       0.55      0.51      0.52     18997\n",
      "weighted avg       0.97      0.98      0.98     18997\n",
      "\n"
     ]
    }
   ],
   "source": [
    "model_rf = RandomForestClassifier(n_estimators=100,random_state=0,class_weight={0: 1, 1: 99})\n",
    "model_rf.fit(x_train, y_train)\n",
    "print(\"accuracy : \",accuracy_score(y_test,model_rf.predict(x_test)))\n",
    "print(classification_report(y_true=y_test, y_pred=model_rf.predict(x_test)))"
   ]
  },
  {
   "cell_type": "code",
   "execution_count": null,
   "id": "applied-supervision",
   "metadata": {},
   "outputs": [],
   "source": []
  }
 ],
 "metadata": {
  "kernelspec": {
   "display_name": "Python 3",
   "language": "python",
   "name": "python3"
  },
  "language_info": {
   "codemirror_mode": {
    "name": "ipython",
    "version": 3
   },
   "file_extension": ".py",
   "mimetype": "text/x-python",
   "name": "python",
   "nbconvert_exporter": "python",
   "pygments_lexer": "ipython3",
   "version": "3.7.4"
  }
 },
 "nbformat": 4,
 "nbformat_minor": 5
}
