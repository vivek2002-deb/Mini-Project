{
 "cells": [
  {
   "cell_type": "markdown",
   "metadata": {},
   "source": [
    "# Netflix Movie Recommendation System"
   ]
  },
  {
   "cell_type": "markdown",
   "metadata": {},
   "source": [
    "## Business Problem\n",
    "\n",
    "<p>Netflix is all about connecting people to the movies they love. To help customers find those movies, they developed world-class movie recommendation system: CinematchSM. Its job is to predict whether someone will enjoy a movie based on how much they liked or disliked other movies. Netflix use those predictions to make personal movie recommendations based on each customer’s unique tastes. And while Cinematch is doing pretty well, it can always be made better.</p>\n",
    "\n",
    "<p>Now there are a lot of interesting alternative approaches to how Cinematch works that netflix haven’t tried. Some are described in the literature, some aren’t. We’re curious whether any of these can beat Cinematch by making better predictions. Because, frankly, if there is a much better approach it could make a big difference to our customers and our business.</p>\n",
    "\n",
    "<p>Credits: https://www.netflixprize.com/rules.html</p>\n",
    "\n",
    "## Problem Statement\n",
    "<p>Netflix provided a lot of anonymous rating data, and a prediction accuracy bar that is 10% better than what Cinematch can do on the same training data set. (Accuracy is a measurement of how closely predicted ratings of movies match subsequent actual ratings.)</p>\n",
    "\n",
    "## Sources\n",
    "* https://www.netflixprize.com/rules.html\n",
    "* https://www.kaggle.com/netflix-inc/netflix-prize-data\n",
    "* Netflix blog: https://medium.com/netflix-techblog/netflix-recommendations-beyond-the-5-stars-part-1-55838468f429 (very nice blog)\n",
    "* surprise library: http://surpriselib.com/ (we use many models from this library)\n",
    "* surprise library doc: http://surprise.readthedocs.io/en/stable/getting_started.html (we use many models from this library)\n",
    "* installing surprise: https://github.com/NicolasHug/Surprise#installation\n",
    "* Research paper: http://courses.ischool.berkeley.edu/i290-dm/s11/SECURE/a1-koren.pdf (most of our work was inspired by this paper)\n",
    "* SVD Decomposition : https://www.youtube.com/watch?v=P5mlg91as1c\n",
    "\n",
    "<p><b>Real world/Business Objectives and constraints</b></p> \n",
    "\n",
    "<p><b>Objectives:</b></p>\n",
    "1.\tPredict the rating that a user would give to a movie that he has not yet rated.<br>\n",
    "2.\tMinimize the difference between predicted and actual rating (RMSE and MAPE).\n",
    "\n",
    "<p><b>Constraints:</b></p>\n",
    "1.\tSome form of interpretability.\n",
    "2.\tThere is no low latency requirement as the recommended movies can be precomputed earlier.\n",
    "\n",
    "<p><b>Type of Data:</b></p>\n",
    "* There are 17770 unique movie IDs.\n",
    "* There are 480189 unique user IDs.\n",
    "* There are ratings. Ratings are on a five star (integral) scale from 1 to 5."
   ]
  },
  {
   "cell_type": "markdown",
   "metadata": {},
   "source": [
    "<p><b>Data Overview</b></p>\n",
    "<b>Data files :</b><br>\n",
    "\n",
    "1. combined_data_1.txt\n",
    "2. combined_data_2.txt\n",
    "3. combined_data_3.txt\n",
    "4. combined_data_4.txt\n",
    "5. movie_titles.csv\n",
    "  \n",
    "The first line of each file [combined_data_1.txt, combined_data_2.txt, combined_data_3.txt, combined_data_4.txt] contains the movie id followed by a colon. Each subsequent line in the file corresponds to a customerID, rating from a customer and its date."
   ]
  },
  {
   "cell_type": "markdown",
   "metadata": {},
   "source": [
    "<p style = \"font-size: 22px\"><b>Example Data Point</b></p>\n",
    "<pre>\n",
    "1:\n",
    "1488844,3,2005-09-06\n",
    "822109,5,2005-05-13\n",
    "885013,4,2005-10-19\n",
    "30878,4,2005-12-26\n",
    "823519,3,2004-05-03\n",
    "893988,3,2005-11-17\n",
    "124105,4,2004-08-05\n",
    "1248029,3,2004-04-22\n",
    "1842128,4,2004-05-09\n",
    "2238063,3,2005-05-11\n",
    "1503895,4,2005-05-19\n",
    "2207774,5,2005-06-06\n",
    "2590061,3,2004-08-12\n",
    "2442,3,2004-04-14\n",
    "543865,4,2004-05-28\n",
    "1209119,4,2004-03-23\n",
    "804919,4,2004-06-10\n",
    "1086807,3,2004-12-28\n",
    "1711859,4,2005-05-08\n",
    "372233,5,2005-11-23\n",
    "1080361,3,2005-03-28\n",
    "1245640,3,2005-12-19\n",
    "558634,4,2004-12-14\n",
    "2165002,4,2004-04-06\n",
    "1181550,3,2004-02-01\n",
    "1227322,4,2004-02-06\n",
    "427928,4,2004-02-26\n",
    "814701,5,2005-09-29\n",
    "808731,4,2005-10-31\n",
    "662870,5,2005-08-24\n",
    "337541,5,2005-03-23\n",
    "786312,3,2004-11-16\n",
    "1133214,4,2004-03-07\n",
    "1537427,4,2004-03-29\n",
    "1209954,5,2005-05-09\n",
    "2381599,3,2005-09-12\n",
    "525356,2,2004-07-11\n",
    "1910569,4,2004-04-12\n",
    "2263586,4,2004-08-20\n",
    "2421815,2,2004-02-26\n",
    "1009622,1,2005-01-19\n",
    "1481961,2,2005-05-24\n",
    "401047,4,2005-06-03\n",
    "2179073,3,2004-08-29\n",
    "1434636,3,2004-05-01\n",
    "93986,5,2005-10-06\n",
    "1308744,5,2005-10-29\n",
    "2647871,4,2005-12-30\n",
    "1905581,5,2005-08-16\n",
    "2508819,3,2004-05-18\n",
    "1578279,1,2005-05-19\n",
    "1159695,4,2005-02-15\n",
    "2588432,3,2005-03-31\n",
    "2423091,3,2005-09-12\n",
    "470232,4,2004-04-08\n",
    "2148699,2,2004-06-05\n",
    "1342007,3,2004-07-16\n",
    "466135,4,2004-07-13\n",
    "2472440,3,2005-08-13\n",
    "1283744,3,2004-04-17\n",
    "1927580,4,2004-11-08\n",
    "716874,5,2005-05-06\n",
    "4326,4,2005-10-29\n",
    "</pre>"
   ]
  },
  {
   "cell_type": "markdown",
   "metadata": {},
   "source": [
    "## Mapping the real world problem to a Machine Learning Problem"
   ]
  },
  {
   "cell_type": "markdown",
   "metadata": {},
   "source": [
    "<p><b>Type of Machine Learning Problem</b></p>\n",
    "<p>\n",
    "For a given movie and user we need to predict the rating would be given by him/her to the movie. \n",
    "The given problem is a Recommendation problem \n",
    "It can also seen as a Regression problem \n",
    "</p>"
   ]
  },
  {
   "cell_type": "markdown",
   "metadata": {},
   "source": [
    "<p><b>Performance metric</b></p>\n",
    "1. Mean Absolute Percentage Error\n",
    "2. Root Mean Square Error\n"
   ]
  },
  {
   "cell_type": "markdown",
   "metadata": {},
   "source": [
    "<p><b>Machine Learning Objective and Constraints</b></p>\n",
    "1. Try to Minimize RMSE\n",
    "2. Provide some form of interpretability"
   ]
  },
  {
   "cell_type": "code",
   "execution_count": 1,
   "metadata": {},
   "outputs": [],
   "source": [
    "from datetime import datetime\n",
    "import pandas as pd\n",
    "import numpy as np\n",
    "import seaborn as sns\n",
    "sns.set_style(\"whitegrid\")\n",
    "import os\n",
    "import random\n",
    "import matplotlib\n",
    "import matplotlib.pyplot as plt\n",
    "from scipy import sparse\n",
    "from sklearn.metrics.pairwise import cosine_similarity\n",
    "from sklearn.metrics import mean_squared_error\n",
    "\n",
    "\n",
    "import xgboost as xgb\n",
    "from surprise import Reader, Dataset\n",
    "from surprise import BaselineOnly\n",
    "from surprise import KNNBaseline\n",
    "from surprise import SVD\n",
    "from surprise import SVDpp\n",
    "from surprise.model_selection import GridSearchCV"
   ]
  },
  {
   "cell_type": "markdown",
   "metadata": {},
   "source": [
    "## 1. Reading and Storing Data"
   ]
  },
  {
   "cell_type": "markdown",
   "metadata": {},
   "source": [
    "### Data Pre-processing"
   ]
  },
  {
   "cell_type": "code",
   "execution_count": 2,
   "metadata": {},
   "outputs": [],
   "source": [
    "if not os.path.isfile(r\"C:\\Users\\Vivek Raj\\Desktop\\project\\netflix\\NetflixRatings.csv\"): \n",
    "    data = open(r\"C:\\Users\\Vivek Raj\\Desktop\\project\\netflix\\NetflixRatings.csv\", mode = \"w\")\n",
    "    files = [r\"C:\\Users\\Vivek Raj\\Desktop\\project\\netflix\\combined_data_2.txt\", r\"C:\\Users\\Vivek Raj\\Desktop\\project\\netflix\\combined_data_4.txt\"]\n",
    "    for file in files:\n",
    "        with open(file) as f:  \n",
    "            for line in f:\n",
    "                line = line.strip()\n",
    "                if line.endswith(\":\"):\n",
    "                    movieID = line.replace(\":\", \"\") \n",
    "                else:\n",
    "                    row = [] \n",
    "                    row = [x for x in line.split(\",\")] \n",
    "                    row.insert(0, movieID)\n",
    "                    data.write(\",\".join(row))\n",
    "                    data.write(\"\\n\")\n",
    "        \n",
    "    data.close()"
   ]
  },
  {
   "cell_type": "code",
   "execution_count": 3,
   "metadata": {},
   "outputs": [],
   "source": [
    "# creating data frame from our output csv file.\n",
    "if not os.path.isfile(r\"C:\\Users\\Vivek Raj\\Desktop\\project\\netflix\\NetflixData.pkl\"):\n",
    "    Final_Data = pd.read_csv(r\"C:\\Users\\Vivek Raj\\Desktop\\project\\netflix\\NetflixRatings.csv\", sep=\",\", names = [\"MovieID\",\"CustID\", \"Ratings\", \"Date\"])\n",
    "    Final_Data[\"Date\"] = pd.to_datetime(Final_Data[\"Date\"])\n",
    "    Final_Data.sort_values(by = \"Date\", inplace = True)\n",
    "    "
   ]
  },
  {
   "cell_type": "code",
   "execution_count": 4,
   "metadata": {},
   "outputs": [],
   "source": [
    "# storing pandas dataframe as a picklefile for later use\n",
    "if not os.path.isfile(r\"C:\\Users\\Vivek Raj\\Desktop\\project\\netflix\\NetflixData.pkl\"):\n",
    "    Final_Data.to_pickle(r\"C:\\Users\\Vivek Raj\\Desktop\\project\\netflix\\NetflixData.pkl\")\n",
    "else:\n",
    "    Final_Data = pd.read_pickle(r\"C:\\Users\\Vivek Raj\\Desktop\\project\\netflix\\NetflixData.pkl\")"
   ]
  },
  {
   "cell_type": "code",
   "execution_count": 5,
   "metadata": {},
   "outputs": [
    {
     "data": {
      "text/html": [
       "<div>\n",
       "<style scoped>\n",
       "    .dataframe tbody tr th:only-of-type {\n",
       "        vertical-align: middle;\n",
       "    }\n",
       "\n",
       "    .dataframe tbody tr th {\n",
       "        vertical-align: top;\n",
       "    }\n",
       "\n",
       "    .dataframe thead th {\n",
       "        text-align: right;\n",
       "    }\n",
       "</style>\n",
       "<table border=\"1\" class=\"dataframe\">\n",
       "  <thead>\n",
       "    <tr style=\"text-align: right;\">\n",
       "      <th></th>\n",
       "      <th>MovieID</th>\n",
       "      <th>CustID</th>\n",
       "      <th>Ratings</th>\n",
       "      <th>Date</th>\n",
       "    </tr>\n",
       "  </thead>\n",
       "  <tbody>\n",
       "    <tr>\n",
       "      <th>49557332</th>\n",
       "      <td>17064</td>\n",
       "      <td>510180</td>\n",
       "      <td>2</td>\n",
       "      <td>1999-11-11</td>\n",
       "    </tr>\n",
       "    <tr>\n",
       "      <th>46370047</th>\n",
       "      <td>16465</td>\n",
       "      <td>510180</td>\n",
       "      <td>3</td>\n",
       "      <td>1999-11-11</td>\n",
       "    </tr>\n",
       "    <tr>\n",
       "      <th>22463125</th>\n",
       "      <td>8357</td>\n",
       "      <td>510180</td>\n",
       "      <td>4</td>\n",
       "      <td>1999-11-11</td>\n",
       "    </tr>\n",
       "    <tr>\n",
       "      <th>35237815</th>\n",
       "      <td>14660</td>\n",
       "      <td>510180</td>\n",
       "      <td>2</td>\n",
       "      <td>1999-11-11</td>\n",
       "    </tr>\n",
       "    <tr>\n",
       "      <th>21262258</th>\n",
       "      <td>8079</td>\n",
       "      <td>510180</td>\n",
       "      <td>2</td>\n",
       "      <td>1999-11-11</td>\n",
       "    </tr>\n",
       "  </tbody>\n",
       "</table>\n",
       "</div>"
      ],
      "text/plain": [
       "          MovieID  CustID  Ratings       Date\n",
       "49557332    17064  510180        2 1999-11-11\n",
       "46370047    16465  510180        3 1999-11-11\n",
       "22463125     8357  510180        4 1999-11-11\n",
       "35237815    14660  510180        2 1999-11-11\n",
       "21262258     8079  510180        2 1999-11-11"
      ]
     },
     "execution_count": 5,
     "metadata": {},
     "output_type": "execute_result"
    }
   ],
   "source": [
    "Final_Data.head()"
   ]
  },
  {
   "cell_type": "code",
   "execution_count": 6,
   "metadata": {},
   "outputs": [
    {
     "data": {
      "text/plain": [
       "count    5.382511e+07\n",
       "mean     3.606058e+00\n",
       "std      1.082326e+00\n",
       "min      1.000000e+00\n",
       "25%      3.000000e+00\n",
       "50%      4.000000e+00\n",
       "75%      4.000000e+00\n",
       "max      5.000000e+00\n",
       "Name: Ratings, dtype: float64"
      ]
     },
     "execution_count": 6,
     "metadata": {},
     "output_type": "execute_result"
    }
   ],
   "source": [
    "Final_Data.describe()[\"Ratings\"]"
   ]
  },
  {
   "cell_type": "code",
   "execution_count": 7,
   "metadata": {},
   "outputs": [
    {
     "data": {
      "text/html": [
       "<div>\n",
       "<style scoped>\n",
       "    .dataframe tbody tr th:only-of-type {\n",
       "        vertical-align: middle;\n",
       "    }\n",
       "\n",
       "    .dataframe tbody tr th {\n",
       "        vertical-align: top;\n",
       "    }\n",
       "\n",
       "    .dataframe thead th {\n",
       "        text-align: right;\n",
       "    }\n",
       "</style>\n",
       "<table border=\"1\" class=\"dataframe\">\n",
       "  <thead>\n",
       "    <tr style=\"text-align: right;\">\n",
       "      <th></th>\n",
       "      <th>MovieID</th>\n",
       "      <th>CustID</th>\n",
       "      <th>Ratings</th>\n",
       "    </tr>\n",
       "  </thead>\n",
       "  <tbody>\n",
       "    <tr>\n",
       "      <th>count</th>\n",
       "      <td>5.382511e+07</td>\n",
       "      <td>5.382511e+07</td>\n",
       "      <td>5.382511e+07</td>\n",
       "    </tr>\n",
       "    <tr>\n",
       "      <th>mean</th>\n",
       "      <td>1.113493e+04</td>\n",
       "      <td>1.322515e+06</td>\n",
       "      <td>3.606058e+00</td>\n",
       "    </tr>\n",
       "    <tr>\n",
       "      <th>std</th>\n",
       "      <td>4.577057e+03</td>\n",
       "      <td>7.645207e+05</td>\n",
       "      <td>1.082326e+00</td>\n",
       "    </tr>\n",
       "    <tr>\n",
       "      <th>min</th>\n",
       "      <td>4.500000e+03</td>\n",
       "      <td>6.000000e+00</td>\n",
       "      <td>1.000000e+00</td>\n",
       "    </tr>\n",
       "    <tr>\n",
       "      <th>25%</th>\n",
       "      <td>6.692000e+03</td>\n",
       "      <td>6.613310e+05</td>\n",
       "      <td>3.000000e+00</td>\n",
       "    </tr>\n",
       "    <tr>\n",
       "      <th>50%</th>\n",
       "      <td>9.205000e+03</td>\n",
       "      <td>1.319107e+06</td>\n",
       "      <td>4.000000e+00</td>\n",
       "    </tr>\n",
       "    <tr>\n",
       "      <th>75%</th>\n",
       "      <td>1.545000e+04</td>\n",
       "      <td>1.984445e+06</td>\n",
       "      <td>4.000000e+00</td>\n",
       "    </tr>\n",
       "    <tr>\n",
       "      <th>max</th>\n",
       "      <td>1.777000e+04</td>\n",
       "      <td>2.649429e+06</td>\n",
       "      <td>5.000000e+00</td>\n",
       "    </tr>\n",
       "  </tbody>\n",
       "</table>\n",
       "</div>"
      ],
      "text/plain": [
       "            MovieID        CustID       Ratings\n",
       "count  5.382511e+07  5.382511e+07  5.382511e+07\n",
       "mean   1.113493e+04  1.322515e+06  3.606058e+00\n",
       "std    4.577057e+03  7.645207e+05  1.082326e+00\n",
       "min    4.500000e+03  6.000000e+00  1.000000e+00\n",
       "25%    6.692000e+03  6.613310e+05  3.000000e+00\n",
       "50%    9.205000e+03  1.319107e+06  4.000000e+00\n",
       "75%    1.545000e+04  1.984445e+06  4.000000e+00\n",
       "max    1.777000e+04  2.649429e+06  5.000000e+00"
      ]
     },
     "execution_count": 7,
     "metadata": {},
     "output_type": "execute_result"
    }
   ],
   "source": [
    "Final_Data.describe()"
   ]
  },
  {
   "cell_type": "code",
   "execution_count": 8,
   "metadata": {},
   "outputs": [
    {
     "name": "stdout",
     "output_type": "stream",
     "text": [
      "<class 'pandas.core.frame.DataFrame'>\n",
      "Int64Index: 53825114 entries, 49557332 to 17495310\n",
      "Data columns (total 4 columns):\n",
      " #   Column   Dtype         \n",
      "---  ------   -----         \n",
      " 0   MovieID  int64         \n",
      " 1   CustID   int64         \n",
      " 2   Ratings  int64         \n",
      " 3   Date     datetime64[ns]\n",
      "dtypes: datetime64[ns](1), int64(3)\n",
      "memory usage: 2.0 GB\n"
     ]
    }
   ],
   "source": [
    "Final_Data.info()"
   ]
  },
  {
   "cell_type": "markdown",
   "metadata": {},
   "source": [
    "### Checking for NaN"
   ]
  },
  {
   "cell_type": "code",
   "execution_count": 9,
   "metadata": {},
   "outputs": [
    {
     "name": "stdout",
     "output_type": "stream",
     "text": [
      "Number of NaN values = MovieID    0\n",
      "CustID     0\n",
      "Ratings    0\n",
      "Date       0\n",
      "dtype: int64\n"
     ]
    }
   ],
   "source": [
    "print(\"Number of NaN values = \"+str(Final_Data.isnull().sum()))"
   ]
  },
  {
   "cell_type": "markdown",
   "metadata": {},
   "source": [
    "### Removing Duplicates"
   ]
  },
  {
   "cell_type": "code",
   "execution_count": 10,
   "metadata": {},
   "outputs": [
    {
     "name": "stdout",
     "output_type": "stream",
     "text": [
      "Number of duplicate rows = 0\n"
     ]
    }
   ],
   "source": [
    "duplicates = Final_Data.duplicated([\"MovieID\",\"CustID\", \"Ratings\"])\n",
    "print(\"Number of duplicate rows = \"+str(duplicates.sum()))"
   ]
  },
  {
   "cell_type": "markdown",
   "metadata": {},
   "source": [
    "### Basic Statistics"
   ]
  },
  {
   "cell_type": "code",
   "execution_count": 11,
   "metadata": {},
   "outputs": [
    {
     "name": "stdout",
     "output_type": "stream",
     "text": [
      "Total Data:\n",
      "Total number of movie ratings = 53825114\n",
      "Number of unique users = 478723\n",
      "Number of unique movies = 9114\n"
     ]
    }
   ],
   "source": [
    "print(\"Total Data:\")\n",
    "print(\"Total number of movie ratings = \"+str(Final_Data.shape[0]))\n",
    "print(\"Number of unique users = \"+str(len(np.unique(Final_Data[\"CustID\"]))))\n",
    "print(\"Number of unique movies = \"+str(len(np.unique(Final_Data[\"MovieID\"]))))"
   ]
  },
  {
   "cell_type": "markdown",
   "metadata": {},
   "source": [
    "### Spliting data into Train and Test(80:20)"
   ]
  },
  {
   "cell_type": "code",
   "execution_count": 37,
   "metadata": {},
   "outputs": [],
   "source": [
    "if not os.path.isfile(r\"C:\\Users\\Vivek Raj\\Desktop\\project\\netflix\\TrainData.pkl\"):\n",
    "    Final_Data.iloc[:int(Final_Data.shape[0]*0.80)].to_pickle(r\"C:\\Users\\Vivek Raj\\Desktop\\project\\netflix\\TrainData.pkl\")\n",
    "    Train_Data = pd.read_pickle(r\"C:\\Users\\Vivek Raj\\Desktop\\project\\netflix\\TrainData.pkl\")\n",
    "    Train_Data.reset_index(drop = True, inplace = True)\n",
    "else:\n",
    "    Train_Data = pd.read_pickle(r\"C:\\Users\\Vivek Raj\\Desktop\\project\\netflix\\TrainData.pkl\")\n",
    "    Train_Data.reset_index(drop = True, inplace = True)\n",
    "\n",
    "if not os.path.isfile(r\"C:\\Users\\Vivek Raj\\Desktop\\project\\netflix\\TestData.pkl\"):\n",
    "    Final_Data.iloc[int(Final_Data.shape[0]*0.80):].to_pickle(r\"C:\\Users\\Vivek Raj\\Desktop\\project\\netflix\\TestData.pkl\")\n",
    "    Test_Data = pd.read_pickle(r\"C:\\Users\\Vivek Raj\\Desktop\\project\\netflix\\TestData.pkl\")\n",
    "    Test_Data.reset_index(drop = True, inplace = True)\n",
    "else:\n",
    "    Test_Data = pd.read_pickle(r\"C:\\Users\\Vivek Raj\\Desktop\\project\\netflix\\TestData.pkl\")\n",
    "    Test_Data.reset_index(drop = True, inplace = True)"
   ]
  },
  {
   "cell_type": "markdown",
   "metadata": {},
   "source": [
    "### Basic Statistics in Train data"
   ]
  },
  {
   "cell_type": "code",
   "execution_count": 38,
   "metadata": {},
   "outputs": [
    {
     "data": {
      "text/html": [
       "<div>\n",
       "<style scoped>\n",
       "    .dataframe tbody tr th:only-of-type {\n",
       "        vertical-align: middle;\n",
       "    }\n",
       "\n",
       "    .dataframe tbody tr th {\n",
       "        vertical-align: top;\n",
       "    }\n",
       "\n",
       "    .dataframe thead th {\n",
       "        text-align: right;\n",
       "    }\n",
       "</style>\n",
       "<table border=\"1\" class=\"dataframe\">\n",
       "  <thead>\n",
       "    <tr style=\"text-align: right;\">\n",
       "      <th></th>\n",
       "      <th>MovieID</th>\n",
       "      <th>CustID</th>\n",
       "      <th>Ratings</th>\n",
       "      <th>Date</th>\n",
       "    </tr>\n",
       "  </thead>\n",
       "  <tbody>\n",
       "    <tr>\n",
       "      <th>0</th>\n",
       "      <td>17064</td>\n",
       "      <td>510180</td>\n",
       "      <td>2</td>\n",
       "      <td>1999-11-11</td>\n",
       "    </tr>\n",
       "    <tr>\n",
       "      <th>1</th>\n",
       "      <td>16465</td>\n",
       "      <td>510180</td>\n",
       "      <td>3</td>\n",
       "      <td>1999-11-11</td>\n",
       "    </tr>\n",
       "    <tr>\n",
       "      <th>2</th>\n",
       "      <td>8357</td>\n",
       "      <td>510180</td>\n",
       "      <td>4</td>\n",
       "      <td>1999-11-11</td>\n",
       "    </tr>\n",
       "    <tr>\n",
       "      <th>3</th>\n",
       "      <td>14660</td>\n",
       "      <td>510180</td>\n",
       "      <td>2</td>\n",
       "      <td>1999-11-11</td>\n",
       "    </tr>\n",
       "    <tr>\n",
       "      <th>4</th>\n",
       "      <td>8079</td>\n",
       "      <td>510180</td>\n",
       "      <td>2</td>\n",
       "      <td>1999-11-11</td>\n",
       "    </tr>\n",
       "  </tbody>\n",
       "</table>\n",
       "</div>"
      ],
      "text/plain": [
       "   MovieID  CustID  Ratings       Date\n",
       "0    17064  510180        2 1999-11-11\n",
       "1    16465  510180        3 1999-11-11\n",
       "2     8357  510180        4 1999-11-11\n",
       "3    14660  510180        2 1999-11-11\n",
       "4     8079  510180        2 1999-11-11"
      ]
     },
     "execution_count": 38,
     "metadata": {},
     "output_type": "execute_result"
    }
   ],
   "source": [
    "Train_Data.head()"
   ]
  },
  {
   "cell_type": "code",
   "execution_count": 39,
   "metadata": {},
   "outputs": [
    {
     "data": {
      "text/html": [
       "<div>\n",
       "<style scoped>\n",
       "    .dataframe tbody tr th:only-of-type {\n",
       "        vertical-align: middle;\n",
       "    }\n",
       "\n",
       "    .dataframe tbody tr th {\n",
       "        vertical-align: top;\n",
       "    }\n",
       "\n",
       "    .dataframe thead th {\n",
       "        text-align: right;\n",
       "    }\n",
       "</style>\n",
       "<table border=\"1\" class=\"dataframe\">\n",
       "  <thead>\n",
       "    <tr style=\"text-align: right;\">\n",
       "      <th></th>\n",
       "      <th>MovieID</th>\n",
       "      <th>CustID</th>\n",
       "      <th>Ratings</th>\n",
       "    </tr>\n",
       "  </thead>\n",
       "  <tbody>\n",
       "    <tr>\n",
       "      <th>count</th>\n",
       "      <td>4.306009e+07</td>\n",
       "      <td>4.306009e+07</td>\n",
       "      <td>4.306009e+07</td>\n",
       "    </tr>\n",
       "    <tr>\n",
       "      <th>mean</th>\n",
       "      <td>1.112464e+04</td>\n",
       "      <td>1.321580e+06</td>\n",
       "      <td>3.584494e+00</td>\n",
       "    </tr>\n",
       "    <tr>\n",
       "      <th>std</th>\n",
       "      <td>4.566439e+03</td>\n",
       "      <td>7.646501e+05</td>\n",
       "      <td>1.079506e+00</td>\n",
       "    </tr>\n",
       "    <tr>\n",
       "      <th>min</th>\n",
       "      <td>4.500000e+03</td>\n",
       "      <td>6.000000e+00</td>\n",
       "      <td>1.000000e+00</td>\n",
       "    </tr>\n",
       "    <tr>\n",
       "      <th>25%</th>\n",
       "      <td>6.692000e+03</td>\n",
       "      <td>6.608340e+05</td>\n",
       "      <td>3.000000e+00</td>\n",
       "    </tr>\n",
       "    <tr>\n",
       "      <th>50%</th>\n",
       "      <td>9.189000e+03</td>\n",
       "      <td>1.317026e+06</td>\n",
       "      <td>4.000000e+00</td>\n",
       "    </tr>\n",
       "    <tr>\n",
       "      <th>75%</th>\n",
       "      <td>1.542800e+04</td>\n",
       "      <td>1.983679e+06</td>\n",
       "      <td>4.000000e+00</td>\n",
       "    </tr>\n",
       "    <tr>\n",
       "      <th>max</th>\n",
       "      <td>1.777000e+04</td>\n",
       "      <td>2.649429e+06</td>\n",
       "      <td>5.000000e+00</td>\n",
       "    </tr>\n",
       "  </tbody>\n",
       "</table>\n",
       "</div>"
      ],
      "text/plain": [
       "            MovieID        CustID       Ratings\n",
       "count  4.306009e+07  4.306009e+07  4.306009e+07\n",
       "mean   1.112464e+04  1.321580e+06  3.584494e+00\n",
       "std    4.566439e+03  7.646501e+05  1.079506e+00\n",
       "min    4.500000e+03  6.000000e+00  1.000000e+00\n",
       "25%    6.692000e+03  6.608340e+05  3.000000e+00\n",
       "50%    9.189000e+03  1.317026e+06  4.000000e+00\n",
       "75%    1.542800e+04  1.983679e+06  4.000000e+00\n",
       "max    1.777000e+04  2.649429e+06  5.000000e+00"
      ]
     },
     "execution_count": 39,
     "metadata": {},
     "output_type": "execute_result"
    }
   ],
   "source": [
    "Train_Data.describe()"
   ]
  },
  {
   "cell_type": "code",
   "execution_count": 40,
   "metadata": {},
   "outputs": [
    {
     "name": "stdout",
     "output_type": "stream",
     "text": [
      "Total Train Data:\n",
      "Total number of movie ratings in train data = 43060091\n",
      "Number of unique users in train data = 401901\n",
      "Number of unique movies in train data = 8931\n",
      "Highest value of a User ID = 2649429\n",
      "Highest value of a Movie ID = 17770\n"
     ]
    }
   ],
   "source": [
    "print(\"Total Train Data:\")\n",
    "print(\"Total number of movie ratings in train data = \"+str(Train_Data.shape[0]))\n",
    "print(\"Number of unique users in train data = \"+str(len(np.unique(Train_Data[\"CustID\"]))))\n",
    "print(\"Number of unique movies in train data = \"+str(len(np.unique(Train_Data[\"MovieID\"]))))\n",
    "print(\"Highest value of a User ID = \"+str(max(Train_Data[\"CustID\"].values)))\n",
    "print(\"Highest value of a Movie ID = \"+str(max(Train_Data[\"MovieID\"].values)))"
   ]
  },
  {
   "cell_type": "markdown",
   "metadata": {},
   "source": [
    "### Basic Statistics in Test data"
   ]
  },
  {
   "cell_type": "code",
   "execution_count": 41,
   "metadata": {},
   "outputs": [
    {
     "data": {
      "text/html": [
       "<div>\n",
       "<style scoped>\n",
       "    .dataframe tbody tr th:only-of-type {\n",
       "        vertical-align: middle;\n",
       "    }\n",
       "\n",
       "    .dataframe tbody tr th {\n",
       "        vertical-align: top;\n",
       "    }\n",
       "\n",
       "    .dataframe thead th {\n",
       "        text-align: right;\n",
       "    }\n",
       "</style>\n",
       "<table border=\"1\" class=\"dataframe\">\n",
       "  <thead>\n",
       "    <tr style=\"text-align: right;\">\n",
       "      <th></th>\n",
       "      <th>MovieID</th>\n",
       "      <th>CustID</th>\n",
       "      <th>Ratings</th>\n",
       "      <th>Date</th>\n",
       "    </tr>\n",
       "  </thead>\n",
       "  <tbody>\n",
       "    <tr>\n",
       "      <th>0</th>\n",
       "      <td>17405</td>\n",
       "      <td>1557557</td>\n",
       "      <td>4</td>\n",
       "      <td>2005-08-09</td>\n",
       "    </tr>\n",
       "    <tr>\n",
       "      <th>1</th>\n",
       "      <td>13462</td>\n",
       "      <td>2017421</td>\n",
       "      <td>4</td>\n",
       "      <td>2005-08-09</td>\n",
       "    </tr>\n",
       "    <tr>\n",
       "      <th>2</th>\n",
       "      <td>6475</td>\n",
       "      <td>934053</td>\n",
       "      <td>4</td>\n",
       "      <td>2005-08-09</td>\n",
       "    </tr>\n",
       "    <tr>\n",
       "      <th>3</th>\n",
       "      <td>6007</td>\n",
       "      <td>1156578</td>\n",
       "      <td>5</td>\n",
       "      <td>2005-08-09</td>\n",
       "    </tr>\n",
       "    <tr>\n",
       "      <th>4</th>\n",
       "      <td>5085</td>\n",
       "      <td>2311323</td>\n",
       "      <td>4</td>\n",
       "      <td>2005-08-09</td>\n",
       "    </tr>\n",
       "  </tbody>\n",
       "</table>\n",
       "</div>"
      ],
      "text/plain": [
       "   MovieID   CustID  Ratings       Date\n",
       "0    17405  1557557        4 2005-08-09\n",
       "1    13462  2017421        4 2005-08-09\n",
       "2     6475   934053        4 2005-08-09\n",
       "3     6007  1156578        5 2005-08-09\n",
       "4     5085  2311323        4 2005-08-09"
      ]
     },
     "execution_count": 41,
     "metadata": {},
     "output_type": "execute_result"
    }
   ],
   "source": [
    "Test_Data.head()"
   ]
  },
  {
   "cell_type": "code",
   "execution_count": 42,
   "metadata": {},
   "outputs": [
    {
     "name": "stdout",
     "output_type": "stream",
     "text": [
      "Total Test Data:\n",
      "Total number of movie ratings in Test data = 10765023\n",
      "Number of unique users in Test data = 327355\n",
      "Number of unique movies in Test data = 9107\n",
      "Highest value of a User ID = 2649429\n",
      "Highest value of a Movie ID = 17770\n"
     ]
    }
   ],
   "source": [
    "print(\"Total Test Data:\")\n",
    "print(\"Total number of movie ratings in Test data = \"+str(Test_Data.shape[0]))\n",
    "print(\"Number of unique users in Test data = \"+str(len(np.unique(Test_Data[\"CustID\"]))))\n",
    "print(\"Number of unique movies in Test data = \"+str(len(np.unique(Test_Data[\"MovieID\"]))))\n",
    "print(\"Highest value of a User ID = \"+str(max(Test_Data[\"CustID\"].values)))\n",
    "print(\"Highest value of a Movie ID = \"+str(max(Test_Data[\"MovieID\"].values)))"
   ]
  },
  {
   "cell_type": "markdown",
   "metadata": {},
   "source": [
    "## 2. Exploratory Data Analysis on Train Data"
   ]
  },
  {
   "cell_type": "code",
   "execution_count": 43,
   "metadata": {},
   "outputs": [],
   "source": [
    "def Barplot(df,y,z):\n",
    "    plt.figure(figsize=(10,5))\n",
    "    sns.countplot(x=y,data=df)\n",
    "    plt.title(\"Distribution of Ratings\",fontsize=20)\n",
    "    plt.xlabel(z)\n",
    "    plt.ylabel(\"Number of Movies\")\n",
    "    plt.show()"
   ]
  },
  {
   "cell_type": "code",
   "execution_count": 44,
   "metadata": {},
   "outputs": [
    {
     "data": {
      "image/png": "[encoded data removed]",
      "text/plain": [
       "<Figure size 720x360 with 1 Axes>"
      ]
     },
     "metadata": {},
     "output_type": "display_data"
    }
   ],
   "source": [
    "Barplot(Train_Data,\"Ratings\",\"Rating\")"
   ]
  },
  {
   "cell_type": "code",
   "execution_count": 45,
   "metadata": {},
   "outputs": [],
   "source": [
    "x=Train_Data.copy()"
   ]
  },
  {
   "cell_type": "code",
   "execution_count": 46,
   "metadata": {},
   "outputs": [
    {
     "data": {
      "text/html": [
       "<div>\n",
       "<style scoped>\n",
       "    .dataframe tbody tr th:only-of-type {\n",
       "        vertical-align: middle;\n",
       "    }\n",
       "\n",
       "    .dataframe tbody tr th {\n",
       "        vertical-align: top;\n",
       "    }\n",
       "\n",
       "    .dataframe thead th {\n",
       "        text-align: right;\n",
       "    }\n",
       "</style>\n",
       "<table border=\"1\" class=\"dataframe\">\n",
       "  <thead>\n",
       "    <tr style=\"text-align: right;\">\n",
       "      <th></th>\n",
       "      <th>MovieID</th>\n",
       "      <th>CustID</th>\n",
       "      <th>Ratings</th>\n",
       "      <th>month</th>\n",
       "      <th>year</th>\n",
       "      <th>weekday</th>\n",
       "    </tr>\n",
       "  </thead>\n",
       "  <tbody>\n",
       "    <tr>\n",
       "      <th>count</th>\n",
       "      <td>5.382511e+07</td>\n",
       "      <td>5.382511e+07</td>\n",
       "      <td>5.382511e+07</td>\n",
       "      <td>5.382511e+07</td>\n",
       "      <td>5.382511e+07</td>\n",
       "      <td>5.382511e+07</td>\n",
       "    </tr>\n",
       "    <tr>\n",
       "      <th>mean</th>\n",
       "      <td>1.113493e+04</td>\n",
       "      <td>1.322515e+06</td>\n",
       "      <td>3.606058e+00</td>\n",
       "      <td>6.730142e+00</td>\n",
       "      <td>2.004245e+03</td>\n",
       "      <td>2.618791e+00</td>\n",
       "    </tr>\n",
       "    <tr>\n",
       "      <th>std</th>\n",
       "      <td>4.577057e+03</td>\n",
       "      <td>7.645207e+05</td>\n",
       "      <td>1.082326e+00</td>\n",
       "      <td>3.368249e+00</td>\n",
       "      <td>1.035768e+00</td>\n",
       "      <td>1.941509e+00</td>\n",
       "    </tr>\n",
       "    <tr>\n",
       "      <th>min</th>\n",
       "      <td>4.500000e+03</td>\n",
       "      <td>6.000000e+00</td>\n",
       "      <td>1.000000e+00</td>\n",
       "      <td>1.000000e+00</td>\n",
       "      <td>1.999000e+03</td>\n",
       "      <td>0.000000e+00</td>\n",
       "    </tr>\n",
       "    <tr>\n",
       "      <th>25%</th>\n",
       "      <td>6.692000e+03</td>\n",
       "      <td>6.613310e+05</td>\n",
       "      <td>3.000000e+00</td>\n",
       "      <td>4.000000e+00</td>\n",
       "      <td>2.004000e+03</td>\n",
       "      <td>1.000000e+00</td>\n",
       "    </tr>\n",
       "    <tr>\n",
       "      <th>50%</th>\n",
       "      <td>9.205000e+03</td>\n",
       "      <td>1.319107e+06</td>\n",
       "      <td>4.000000e+00</td>\n",
       "      <td>7.000000e+00</td>\n",
       "      <td>2.005000e+03</td>\n",
       "      <td>2.000000e+00</td>\n",
       "    </tr>\n",
       "    <tr>\n",
       "      <th>75%</th>\n",
       "      <td>1.545000e+04</td>\n",
       "      <td>1.984445e+06</td>\n",
       "      <td>4.000000e+00</td>\n",
       "      <td>1.000000e+01</td>\n",
       "      <td>2.005000e+03</td>\n",
       "      <td>4.000000e+00</td>\n",
       "    </tr>\n",
       "    <tr>\n",
       "      <th>max</th>\n",
       "      <td>1.777000e+04</td>\n",
       "      <td>2.649429e+06</td>\n",
       "      <td>5.000000e+00</td>\n",
       "      <td>1.200000e+01</td>\n",
       "      <td>2.005000e+03</td>\n",
       "      <td>6.000000e+00</td>\n",
       "    </tr>\n",
       "  </tbody>\n",
       "</table>\n",
       "</div>"
      ],
      "text/plain": [
       "            MovieID        CustID       Ratings         month          year  \\\n",
       "count  5.382511e+07  5.382511e+07  5.382511e+07  5.382511e+07  5.382511e+07   \n",
       "mean   1.113493e+04  1.322515e+06  3.606058e+00  6.730142e+00  2.004245e+03   \n",
       "std    4.577057e+03  7.645207e+05  1.082326e+00  3.368249e+00  1.035768e+00   \n",
       "min    4.500000e+03  6.000000e+00  1.000000e+00  1.000000e+00  1.999000e+03   \n",
       "25%    6.692000e+03  6.613310e+05  3.000000e+00  4.000000e+00  2.004000e+03   \n",
       "50%    9.205000e+03  1.319107e+06  4.000000e+00  7.000000e+00  2.005000e+03   \n",
       "75%    1.545000e+04  1.984445e+06  4.000000e+00  1.000000e+01  2.005000e+03   \n",
       "max    1.777000e+04  2.649429e+06  5.000000e+00  1.200000e+01  2.005000e+03   \n",
       "\n",
       "            weekday  \n",
       "count  5.382511e+07  \n",
       "mean   2.618791e+00  \n",
       "std    1.941509e+00  \n",
       "min    0.000000e+00  \n",
       "25%    1.000000e+00  \n",
       "50%    2.000000e+00  \n",
       "75%    4.000000e+00  \n",
       "max    6.000000e+00  "
      ]
     },
     "execution_count": 46,
     "metadata": {},
     "output_type": "execute_result"
    }
   ],
   "source": [
    "Final_Data['month'] = Final_Data.Date.dt.month\n",
    "Final_Data['year'] = Final_Data.Date.dt.year\n",
    "Final_Data['weekday'] = Final_Data.Date.dt.dayofweek\n",
    "Final_Data.describe()"
   ]
  },
  {
   "cell_type": "code",
   "execution_count": 47,
   "metadata": {},
   "outputs": [
    {
     "data": {
      "image/png": "[encoded data removed]",
      "text/plain": [
       "<Figure size 720x360 with 1 Axes>"
      ]
     },
     "metadata": {},
     "output_type": "display_data"
    }
   ],
   "source": [
    "Barplot(Final_Data,\"month\",\"Month\")"
   ]
  },
  {
   "cell_type": "code",
   "execution_count": 48,
   "metadata": {},
   "outputs": [
    {
     "data": {
      "text/plain": [
       "[1999, 2000, 2001, 2002, 2003, 2004, 2005]"
      ]
     },
     "execution_count": 48,
     "metadata": {},
     "output_type": "execute_result"
    }
   ],
   "source": [
    "years=np.unique(Final_Data.year)\n",
    "years=list(years)\n",
    "years"
   ]
  },
  {
   "cell_type": "code",
   "execution_count": 49,
   "metadata": {},
   "outputs": [
    {
     "name": "stdout",
     "output_type": "stream",
     "text": [
      "1999\n"
     ]
    },
    {
     "data": {
      "image/png": "[encoded data removed]",
      "text/plain": [
       "<Figure size 720x360 with 1 Axes>"
      ]
     },
     "metadata": {},
     "output_type": "display_data"
    },
    {
     "name": "stdout",
     "output_type": "stream",
     "text": [
      "2000\n"
     ]
    },
    {
     "data": {
      "image/png": "[encoded data removed]",
      "text/plain": [
       "<Figure size 720x360 with 1 Axes>"
      ]
     },
     "metadata": {},
     "output_type": "display_data"
    },
    {
     "name": "stdout",
     "output_type": "stream",
     "text": [
      "2001\n"
     ]
    },
    {
     "data": {
      "image/png": "[encoded data removed]",
      "text/plain": [
       "<Figure size 720x360 with 1 Axes>"
      ]
     },
     "metadata": {},
     "output_type": "display_data"
    },
    {
     "name": "stdout",
     "output_type": "stream",
     "text": [
      "2002\n"
     ]
    },
    {
     "data": {
      "image/png": "[encoded data removed]",
      "text/plain": [
       "<Figure size 720x360 with 1 Axes>"
      ]
     },
     "metadata": {},
     "output_type": "display_data"
    },
    {
     "name": "stdout",
     "output_type": "stream",
     "text": [
      "2003\n"
     ]
    },
    {
     "data": {
      "image/png": "[encoded data removed]",
      "text/plain": [
       "<Figure size 720x360 with 1 Axes>"
      ]
     },
     "metadata": {},
     "output_type": "display_data"
    },
    {
     "name": "stdout",
     "output_type": "stream",
     "text": [
      "2004\n"
     ]
    },
    {
     "data": {
      "image/png": "[encoded data removed]",
      "text/plain": [
       "<Figure size 720x360 with 1 Axes>"
      ]
     },
     "metadata": {},
     "output_type": "display_data"
    },
    {
     "name": "stdout",
     "output_type": "stream",
     "text": [
      "2005\n"
     ]
    },
    {
     "data": {
      "image/png": "[encoded data removed]",
      "text/plain": [
       "<Figure size 720x360 with 1 Axes>"
      ]
     },
     "metadata": {},
     "output_type": "display_data"
    }
   ],
   "source": [
    "for i in years:\n",
    "    print(i)\n",
    "    Barplot(Final_Data[Final_Data.year==i],\"month\",\"Month\")"
   ]
  },
  {
   "cell_type": "code",
   "execution_count": 50,
   "metadata": {},
   "outputs": [
    {
     "data": {
      "image/png": "[encoded data removed]",
      "text/plain": [
       "<Figure size 720x360 with 1 Axes>"
      ]
     },
     "metadata": {},
     "output_type": "display_data"
    }
   ],
   "source": [
    "Barplot(Final_Data,\"year\",\"Year\")"
   ]
  },
  {
   "cell_type": "code",
   "execution_count": 51,
   "metadata": {},
   "outputs": [
    {
     "data": {
      "image/png": "[encoded data removed]",
      "text/plain": [
       "<Figure size 720x360 with 1 Axes>"
      ]
     },
     "metadata": {},
     "output_type": "display_data"
    }
   ],
   "source": [
    "Barplot(Final_Data,\"weekday\",\"Weekday\")"
   ]
  },
  {
   "cell_type": "code",
   "execution_count": 52,
   "metadata": {},
   "outputs": [
    {
     "data": {
      "text/html": [
       "<div>\n",
       "<style scoped>\n",
       "    .dataframe tbody tr th:only-of-type {\n",
       "        vertical-align: middle;\n",
       "    }\n",
       "\n",
       "    .dataframe tbody tr th {\n",
       "        vertical-align: top;\n",
       "    }\n",
       "\n",
       "    .dataframe thead th {\n",
       "        text-align: right;\n",
       "    }\n",
       "</style>\n",
       "<table border=\"1\" class=\"dataframe\">\n",
       "  <thead>\n",
       "    <tr style=\"text-align: right;\">\n",
       "      <th></th>\n",
       "      <th>MovieID</th>\n",
       "      <th>CustID</th>\n",
       "      <th>Ratings</th>\n",
       "      <th>Date</th>\n",
       "    </tr>\n",
       "  </thead>\n",
       "  <tbody>\n",
       "    <tr>\n",
       "      <th>0</th>\n",
       "      <td>17064</td>\n",
       "      <td>510180</td>\n",
       "      <td>2</td>\n",
       "      <td>1999-11-11</td>\n",
       "    </tr>\n",
       "    <tr>\n",
       "      <th>1</th>\n",
       "      <td>16465</td>\n",
       "      <td>510180</td>\n",
       "      <td>3</td>\n",
       "      <td>1999-11-11</td>\n",
       "    </tr>\n",
       "    <tr>\n",
       "      <th>2</th>\n",
       "      <td>8357</td>\n",
       "      <td>510180</td>\n",
       "      <td>4</td>\n",
       "      <td>1999-11-11</td>\n",
       "    </tr>\n",
       "    <tr>\n",
       "      <th>3</th>\n",
       "      <td>14660</td>\n",
       "      <td>510180</td>\n",
       "      <td>2</td>\n",
       "      <td>1999-11-11</td>\n",
       "    </tr>\n",
       "    <tr>\n",
       "      <th>4</th>\n",
       "      <td>8079</td>\n",
       "      <td>510180</td>\n",
       "      <td>2</td>\n",
       "      <td>1999-11-11</td>\n",
       "    </tr>\n",
       "  </tbody>\n",
       "</table>\n",
       "</div>"
      ],
      "text/plain": [
       "   MovieID  CustID  Ratings       Date\n",
       "0    17064  510180        2 1999-11-11\n",
       "1    16465  510180        3 1999-11-11\n",
       "2     8357  510180        4 1999-11-11\n",
       "3    14660  510180        2 1999-11-11\n",
       "4     8079  510180        2 1999-11-11"
      ]
     },
     "execution_count": 52,
     "metadata": {},
     "output_type": "execute_result"
    }
   ],
   "source": [
    "Train_Data.head()"
   ]
  },
  {
   "cell_type": "code",
   "execution_count": null,
   "metadata": {},
   "outputs": [],
   "source": []
  },
  {
   "cell_type": "markdown",
   "metadata": {},
   "source": [
    "### Analysis of Ratings given by user"
   ]
  },
  {
   "cell_type": "code",
   "execution_count": 53,
   "metadata": {},
   "outputs": [],
   "source": [
    "no_of_rated_movies_per_user = Train_Data.groupby(by = \"CustID\")[\"Ratings\"].count().sort_values(ascending = False)"
   ]
  },
  {
   "cell_type": "code",
   "execution_count": 54,
   "metadata": {
    "scrolled": false
   },
   "outputs": [
    {
     "data": {
      "text/plain": [
       "CustID\n",
       "305344     8779\n",
       "2439493    8126\n",
       "387418     7884\n",
       "1639792    4983\n",
       "1461435    4846\n",
       "Name: Ratings, dtype: int64"
      ]
     },
     "execution_count": 54,
     "metadata": {},
     "output_type": "execute_result"
    }
   ],
   "source": [
    "no_of_rated_movies_per_user.head()"
   ]
  },
  {
   "cell_type": "code",
   "execution_count": 55,
   "metadata": {},
   "outputs": [
    {
     "data": {
      "image/png": "[encoded data removed]",
      "text/plain": [
       "<Figure size 1008x504 with 2 Axes>"
      ]
     },
     "metadata": {},
     "output_type": "display_data"
    }
   ],
   "source": [
    "fig, axes = plt.subplots(nrows = 1, ncols = 2, figsize=(14,7))\n",
    "\n",
    "sns.kdeplot(no_of_rated_movies_per_user.values, shade = True, ax = axes[0])\n",
    "axes[0].set_title(\"PDF\", fontsize = 18)\n",
    "axes[0].set_xlabel(\"Number of Ratings by user\", fontsize = 18)\n",
    "axes[0].tick_params(labelsize = 15)\n",
    "\n",
    "sns.kdeplot(no_of_rated_movies_per_user.values, shade = True, cumulative = True, ax = axes[1])\n",
    "axes[1].set_title(\"CDF\", fontsize = 18)\n",
    "axes[1].set_xlabel(\"Number of Ratings by user\", fontsize = 18)\n",
    "axes[1].tick_params(labelsize = 15)\n",
    "\n",
    "fig.subplots_adjust(wspace=2)\n",
    "plt.tight_layout()\n",
    "plt.show()"
   ]
  },
  {
   "cell_type": "markdown",
   "metadata": {},
   "source": [
    "* Above PDF graph shows that almost all of the users give very few ratings. There are very few users who's ratings count is high.\n",
    "* Similarly, above CDF graph shows that almost 99% of users give very few ratings."
   ]
  },
  {
   "cell_type": "code",
   "execution_count": 56,
   "metadata": {},
   "outputs": [
    {
     "name": "stdout",
     "output_type": "stream",
     "text": [
      "Information about movie ratings grouped by users:\n"
     ]
    },
    {
     "data": {
      "text/plain": [
       "count    401901.00000\n",
       "mean        107.14104\n",
       "std         155.05350\n",
       "min           1.00000\n",
       "25%          19.00000\n",
       "50%          48.00000\n",
       "75%         133.00000\n",
       "max        8779.00000\n",
       "Name: Ratings, dtype: float64"
      ]
     },
     "execution_count": 56,
     "metadata": {},
     "output_type": "execute_result"
    }
   ],
   "source": [
    "print(\"Information about movie ratings grouped by users:\")\n",
    "no_of_rated_movies_per_user.describe()"
   ]
  },
  {
   "cell_type": "markdown",
   "metadata": {},
   "source": [
    "### Analysis of Ratings Per Movie"
   ]
  },
  {
   "cell_type": "code",
   "execution_count": 57,
   "metadata": {},
   "outputs": [],
   "source": [
    "no_of_ratings_per_movie = Train_Data.groupby(by = \"MovieID\")[\"Ratings\"].count().sort_values(ascending = False)"
   ]
  },
  {
   "cell_type": "code",
   "execution_count": 58,
   "metadata": {},
   "outputs": [
    {
     "data": {
      "image/png": "[encoded data removed]",
      "text/plain": [
       "<Figure size 864x432 with 1 Axes>"
      ]
     },
     "metadata": {},
     "output_type": "display_data"
    }
   ],
   "source": [
    "fig = plt.figure(figsize = (12, 6))\n",
    "axes = fig.add_axes([0.1,0.1,1,1])\n",
    "plt.title(\"Number of Ratings Per Movie\", fontsize = 20)\n",
    "plt.xlabel(\"Movie\", fontsize = 20)\n",
    "plt.ylabel(\"Count of Ratings\", fontsize = 20)\n",
    "plt.plot(no_of_ratings_per_movie.values)\n",
    "plt.tick_params(labelsize = 15)\n",
    "axes.set_xticklabels([])\n",
    "plt.show()"
   ]
  },
  {
   "cell_type": "markdown",
   "metadata": {},
   "source": [
    "<b>It is very skewed</b>\n",
    "<p>It clearly shows that there are some movies which are very popular and were rated by many users as comapared to other movies</p>"
   ]
  },
  {
   "cell_type": "markdown",
   "metadata": {},
   "source": [
    "### Analysis of Movie Ratings on Day of Week"
   ]
  },
  {
   "cell_type": "code",
   "execution_count": 59,
   "metadata": {},
   "outputs": [
    {
     "data": {
      "image/png": "[encoded data removed]",
      "text/plain": [
       "<Figure size 864x576 with 1 Axes>"
      ]
     },
     "metadata": {},
     "output_type": "display_data"
    }
   ],
   "source": [
    "fig = plt.figure(figsize = (12, 8))\n",
    "Train_Data[\"weekday\"]=Train_Data.Date.dt.dayofweek\n",
    "axes = sns.boxplot(x = \"weekday\", y = \"Ratings\", data = Train_Data)\n",
    "axes.set_title(\"Day of week VS Number of Ratings\", fontsize = 20)\n",
    "axes.set_xlabel(\"Day of Week\", fontsize = 20)\n",
    "axes.set_ylabel(\"Number of Ratings\", fontsize = 20)\n",
    "axes.tick_params(labelsize = 15)\n",
    "\n",
    "plt.show()"
   ]
  },
  {
   "cell_type": "code",
   "execution_count": 60,
   "metadata": {},
   "outputs": [
    {
     "name": "stdout",
     "output_type": "stream",
     "text": [
      "Average Ratings on Day of Weeks\n",
      "weekday\n",
      "0    3.577235\n",
      "1    3.574852\n",
      "2    3.585002\n",
      "3    3.583570\n",
      "4    3.589555\n",
      "5    3.595120\n",
      "6    3.596637\n",
      "Name: Ratings, dtype: float64\n"
     ]
    }
   ],
   "source": [
    "\n",
    "average_ratings_dayofweek = Train_Data.groupby(by = \"weekday\")[\"Ratings\"].mean()\n",
    "print(\"Average Ratings on Day of Weeks\")\n",
    "print(average_ratings_dayofweek)"
   ]
  },
  {
   "cell_type": "markdown",
   "metadata": {},
   "source": [
    "## 3. Creating USER-ITEM sparse matrix from data frame"
   ]
  },
  {
   "cell_type": "code",
   "execution_count": 61,
   "metadata": {},
   "outputs": [],
   "source": [
    "\n",
    "if os.path.isfile(r\"C:\\Users\\Vivek Raj\\Desktop\\project\\netflix\\TrainUISparseData.npz\"):\n",
    "    TrainUISparseData = sparse.load_npz(r\"C:\\Users\\Vivek Raj\\Desktop\\project\\netflix\\TrainUISparseData.npz\")\n",
    "else:\n",
    "    TrainUISparseData = sparse.csr_matrix((Train_Data.Ratings, (Train_Data.CustID, Train_Data.MovieID)))\n",
    "    sparse.save_npz(r\"C:\\Users\\Vivek Raj\\Desktop\\project\\netflix\\TrainUISparseData.npz\", TrainUISparseData)"
   ]
  },
  {
   "cell_type": "code",
   "execution_count": 62,
   "metadata": {},
   "outputs": [],
   "source": [
    "\n",
    "if os.path.isfile(r\"C:\\Users\\Vivek Raj\\Desktop\\project\\netflix\\TestUISparseData.npz\"):\n",
    "    TestUISparseData = sparse.load_npz(r\"C:\\Users\\Vivek Raj\\Desktop\\project\\netflix\\TestUISparseData.npz\")\n",
    "else:\n",
    "    TestUISparseData = sparse.csr_matrix((Test_Data.Ratings, (Test_Data.CustID, Test_Data.MovieID)))\n",
    "    sparse.save_npz(r\"C:\\Users\\Vivek Raj\\Desktop\\project\\netflix\\TestUISparseData.npz\", TestUISparseData)"
   ]
  },
  {
   "cell_type": "code",
   "execution_count": 63,
   "metadata": {},
   "outputs": [],
   "source": [
    "#If you can see above that the shape of both train and test sparse matrices are same, furthermore, how come this shape of sparse\n",
    "#matrix has arrived:\n",
    "#Shape of sparse matrix depends on highest value of User ID and highest value of Movie ID. \n",
    "#Now the user whose user ID is highest is present in both train data and test data. Similarly, the movie whose movie ID is\n",
    "#highest is present in both train data and test data. Hence, shape of both train and test sparse matrices are same."
   ]
  },
  {
   "cell_type": "code",
   "execution_count": 64,
   "metadata": {},
   "outputs": [
    {
     "name": "stdout",
     "output_type": "stream",
     "text": [
      "Sparsity Of Train matrix : 99.90854433187319% \n"
     ]
    }
   ],
   "source": [
    "rows,cols = TrainUISparseData.shape\n",
    "presentElements = TrainUISparseData.count_nonzero()\n",
    "\n",
    "print(\"Sparsity Of Train matrix : {}% \".format((1-(presentElements/(rows*cols)))*100))"
   ]
  },
  {
   "cell_type": "code",
   "execution_count": 65,
   "metadata": {},
   "outputs": [
    {
     "name": "stdout",
     "output_type": "stream",
     "text": [
      "Sparsity Of Test matrix : 99.97713608243731% \n"
     ]
    }
   ],
   "source": [
    "rows,cols = TestUISparseData.shape\n",
    "presentElements = TestUISparseData.count_nonzero()\n",
    "\n",
    "print(\"Sparsity Of Test matrix : {}% \".format((1-(presentElements/(rows*cols)))*100))"
   ]
  },
  {
   "cell_type": "markdown",
   "metadata": {},
   "source": [
    "### Finding Global average of all movie ratings, Average rating per user, and Average rating per movie"
   ]
  },
  {
   "cell_type": "code",
   "execution_count": 66,
   "metadata": {},
   "outputs": [],
   "source": [
    "def getAverageRatings(sparseMatrix, if_user):\n",
    "    ax = 1 if if_user else 0\n",
    "    #axis = 1 means rows and axis = 0 means columns \n",
    "    sumOfRatings = sparseMatrix.sum(axis = ax).A1  #this will give an array of sum of all the ratings of user if axis = 1 else \n",
    "    #sum of all the ratings of movies if axis = 0\n",
    "    noOfRatings = (sparseMatrix!=0).sum(axis = ax).A1  #this will give a boolean True or False array, and True means 1 and False \n",
    "    #means 0, and further we are summing it to get the count of all the non-zero cells means length of non-zero cells\n",
    "    rows, cols = sparseMatrix.shape\n",
    "    averageRatings = {i: sumOfRatings[i]/noOfRatings[i] for i in range(rows if if_user else cols) if noOfRatings[i]!=0}\n",
    "    return averageRatings"
   ]
  },
  {
   "cell_type": "markdown",
   "metadata": {},
   "source": [
    "### Global Average Rating"
   ]
  },
  {
   "cell_type": "code",
   "execution_count": 67,
   "metadata": {},
   "outputs": [
    {
     "name": "stdout",
     "output_type": "stream",
     "text": [
      "Global Average Rating 3.5844935859517806\n"
     ]
    }
   ],
   "source": [
    "Global_Average_Rating = TrainUISparseData.sum()/TrainUISparseData.count_nonzero()\n",
    "print(\"Global Average Rating {}\".format(Global_Average_Rating))"
   ]
  },
  {
   "cell_type": "markdown",
   "metadata": {},
   "source": [
    "### Average Rating Per User"
   ]
  },
  {
   "cell_type": "code",
   "execution_count": 68,
   "metadata": {},
   "outputs": [],
   "source": [
    "AvgRatingUser = getAverageRatings(TrainUISparseData, True)"
   ]
  },
  {
   "cell_type": "code",
   "execution_count": 69,
   "metadata": {},
   "outputs": [
    {
     "name": "stdout",
     "output_type": "stream",
     "text": [
      "Average rating of user 25 = 3.0\n"
     ]
    }
   ],
   "source": [
    "print(\"Average rating of user 25 = {}\".format(AvgRatingUser[25]))"
   ]
  },
  {
   "cell_type": "markdown",
   "metadata": {},
   "source": [
    "### Average Rating Per Movie"
   ]
  },
  {
   "cell_type": "code",
   "execution_count": 70,
   "metadata": {},
   "outputs": [],
   "source": [
    "AvgRatingMovie = getAverageRatings(TrainUISparseData, False)"
   ]
  },
  {
   "cell_type": "code",
   "execution_count": 71,
   "metadata": {},
   "outputs": [
    {
     "name": "stdout",
     "output_type": "stream",
     "text": [
      "Average rating of movie 4500 = 3.28\n"
     ]
    }
   ],
   "source": [
    "print(\"Average rating of movie 4500 = {}\".format(AvgRatingMovie[4500]))"
   ]
  },
  {
   "cell_type": "markdown",
   "metadata": {},
   "source": [
    "### PDF and CDF of Average Ratings of Users and Movies"
   ]
  },
  {
   "cell_type": "code",
   "execution_count": 72,
   "metadata": {},
   "outputs": [
    {
     "name": "stderr",
     "output_type": "stream",
     "text": [
      "C:\\download\\ANACONDAC\\download\\ANACONDA\\lib\\site-packages\\seaborn\\distributions.py:2551: FutureWarning: `distplot` is a deprecated function and will be removed in a future version. Please adapt your code to use either `displot` (a figure-level function with similar flexibility) or `kdeplot` (an axes-level function for kernel density plots).\n",
      "  warnings.warn(msg, FutureWarning)\n",
      "C:\\download\\ANACONDAC\\download\\ANACONDA\\lib\\site-packages\\seaborn\\distributions.py:2551: FutureWarning: `distplot` is a deprecated function and will be removed in a future version. Please adapt your code to use either `displot` (a figure-level function with similar flexibility) or `kdeplot` (an axes-level function for kernel density plots).\n",
      "  warnings.warn(msg, FutureWarning)\n"
     ]
    },
    {
     "data": {
      "image/png": "[encoded data removed]",
      "text/plain": [
       "<Figure size 1152x504 with 2 Axes>"
      ]
     },
     "metadata": {},
     "output_type": "display_data"
    }
   ],
   "source": [
    "fig, axes = plt.subplots(nrows = 1, ncols = 2, figsize = (16, 7))\n",
    "fig.suptitle('Avg Ratings per User and per Movie', fontsize=25)\n",
    "\n",
    "user_average = [rats for rats in AvgRatingUser.values()]\n",
    "sns.distplot(user_average, hist = False, ax = axes[0], label = \"PDF\")\n",
    "sns.kdeplot(user_average, cumulative = True, ax = axes[0], label = \"CDF\")\n",
    "axes[0].set_title(\"Average Rating Per User\", fontsize=20)\n",
    "axes[0].tick_params(labelsize = 15)\n",
    "axes[0].legend(loc='upper left', fontsize = 17)\n",
    "\n",
    "movie_average = [ratm for ratm in AvgRatingMovie.values()]\n",
    "sns.distplot(movie_average, hist = False, ax = axes[1], label = \"PDF\")\n",
    "sns.kdeplot(movie_average, cumulative = True, ax = axes[1], label = \"CDF\")\n",
    "axes[1].set_title(\"Average Rating Per Movie\", fontsize=20)\n",
    "axes[1].tick_params(labelsize = 15)\n",
    "axes[1].legend(loc='upper left', fontsize = 17)\n",
    "\n",
    "plt.subplots_adjust(wspace=0.2, top=0.85)\n",
    "plt.show()"
   ]
  },
  {
   "cell_type": "markdown",
   "metadata": {},
   "source": [
    "### Cold Start Problem"
   ]
  },
  {
   "cell_type": "markdown",
   "metadata": {},
   "source": [
    "#### Cold Start Problem with Users"
   ]
  },
  {
   "cell_type": "code",
   "execution_count": 73,
   "metadata": {},
   "outputs": [
    {
     "name": "stdout",
     "output_type": "stream",
     "text": [
      "Total number of Users = 478723\n",
      "Number of Users in train data= 401901\n",
      "Number of Users not present in train data = 76822(16.0%)\n"
     ]
    }
   ],
   "source": [
    "total_users = len(np.unique(Final_Data[\"CustID\"]))\n",
    "train_users = len(AvgRatingUser)\n",
    "uncommonUsers = total_users - train_users\n",
    "                  \n",
    "print(\"Total number of Users = {}\".format(total_users))\n",
    "print(\"Number of Users in train data= {}\".format(train_users))\n",
    "print(\"Number of Users not present in train data = {}({}%)\".format(uncommonUsers, np.round((uncommonUsers/total_users)*100), 2))"
   ]
  },
  {
   "cell_type": "markdown",
   "metadata": {},
   "source": [
    "#### Cold Start Problem with Movies"
   ]
  },
  {
   "cell_type": "code",
   "execution_count": 74,
   "metadata": {},
   "outputs": [
    {
     "name": "stdout",
     "output_type": "stream",
     "text": [
      "Total number of Movies = 9114\n",
      "Number of Movies in train data= 8931\n",
      "Number of Movies not present in train data = 183(2.0%)\n"
     ]
    }
   ],
   "source": [
    "total_movies = len(np.unique(Final_Data[\"MovieID\"]))\n",
    "train_movies = len(AvgRatingMovie)\n",
    "uncommonMovies = total_movies - train_movies\n",
    "                  \n",
    "print(\"Total number of Movies = {}\".format(total_movies))\n",
    "print(\"Number of Movies in train data= {}\".format(train_movies))\n",
    "print(\"Number of Movies not present in train data = {}({}%)\".format(uncommonMovies, np.round((uncommonMovies/total_movies)*100), 2))"
   ]
  },
  {
   "cell_type": "markdown",
   "metadata": {},
   "source": [
    "## 4. Computing Similarity Matrices"
   ]
  },
  {
   "cell_type": "markdown",
   "metadata": {},
   "source": [
    "### Computing User-User Similarity Matrix"
   ]
  },
  {
   "cell_type": "markdown",
   "metadata": {},
   "source": [
    "Calculating User User Similarity_Matrix is __not very easy__(_unless you have huge Computing Power and lots of time_)"
   ]
  },
  {
   "cell_type": "code",
   "execution_count": 75,
   "metadata": {},
   "outputs": [
    {
     "name": "stdout",
     "output_type": "stream",
     "text": [
      "6\n",
      "7\n",
      "10\n",
      "25\n",
      "33\n",
      "42\n",
      "59\n",
      "79\n",
      "83\n",
      "87\n",
      "94\n",
      "97\n",
      "131\n",
      "134\n",
      "142\n",
      "149\n",
      "158\n",
      "168\n",
      "169\n",
      "178\n",
      "183\n",
      "188\n",
      "189\n",
      "192\n",
      "195\n",
      "199\n",
      "201\n",
      "242\n",
      "247\n",
      "248\n",
      "261\n",
      "265\n",
      "266\n",
      "267\n",
      "268\n",
      "283\n",
      "291\n",
      "296\n",
      "298\n",
      "299\n",
      "301\n",
      "302\n",
      "304\n",
      "305\n",
      "307\n",
      "308\n",
      "310\n",
      "312\n",
      "314\n",
      "330\n",
      "331\n",
      "333\n",
      "352\n",
      "363\n",
      "368\n",
      "369\n",
      "379\n",
      "383\n",
      "384\n",
      "385\n",
      "392\n",
      "413\n",
      "416\n",
      "424\n",
      "437\n",
      "439\n",
      "440\n",
      "442\n",
      "453\n",
      "462\n",
      "470\n",
      "471\n",
      "477\n",
      "478\n",
      "479\n",
      "481\n",
      "485\n",
      "490\n",
      "491\n",
      "492\n",
      "495\n",
      "508\n",
      "515\n",
      "517\n",
      "527\n",
      "529\n",
      "536\n",
      "540\n",
      "544\n",
      "546\n",
      "550\n",
      "561\n",
      "576\n",
      "585\n",
      "592\n",
      "596\n",
      "602\n",
      "609\n",
      "614\n",
      "616\n"
     ]
    }
   ],
   "source": [
    "row_index, col_index = TrainUISparseData.nonzero()\n",
    "rows = np.unique(row_index)\n",
    "for i in rows[:100]:\n",
    "    print(i)"
   ]
  },
  {
   "cell_type": "code",
   "execution_count": 76,
   "metadata": {},
   "outputs": [],
   "source": [
    "#Here, we are calculating user-user similarity matrix only for first 100 users in our sparse matrix. And we are calculating \n",
    "#top 100 most similar users with them.\n",
    "def getUser_UserSimilarity(sparseMatrix, top = 100):\n",
    "    startTimestamp20 = datetime.now()  \n",
    "    \n",
    "    row_index, col_index = sparseMatrix.nonzero()  #this will give indices of rows in \"row_index\" and indices of columns in \n",
    "    #\"col_index\" where there is a non-zero value exist.\n",
    "    rows = np.unique(row_index)\n",
    "    similarMatrix = np.zeros(61700).reshape(617,100)    # 617*100 = 61700. As we are building similarity matrix only \n",
    "    #for top 100 most similar users.\n",
    "    timeTaken = []\n",
    "    howManyDone = 0\n",
    "    for row in rows[:top]:\n",
    "        howManyDone += 1\n",
    "        startTimestamp = datetime.now().timestamp()  #it will give seconds elapsed\n",
    "        sim = cosine_similarity(sparseMatrix.getrow(row), sparseMatrix).ravel()\n",
    "        top100_similar_indices = sim.argsort()[-top:]\n",
    "        top100_similar = sim[top100_similar_indices]\n",
    "        similarMatrix[row] = top100_similar\n",
    "        timeforOne = datetime.now().timestamp() - startTimestamp\n",
    "        timeTaken.append(timeforOne)\n",
    "        if howManyDone % 20 == 0:\n",
    "            print(\"Time elapsed for {} users = {}sec\".format(howManyDone, (datetime.now() - startTimestamp20)))\n",
    "    print(\"Average Time taken to compute similarity matrix for 1 user = \"+str(sum(timeTaken)/len(timeTaken))+\"seconds\")\n",
    "    \n",
    "    fig = plt.figure(figsize = (12,8))\n",
    "    plt.plot(timeTaken, label = 'Time Taken For Each User')\n",
    "    plt.plot(np.cumsum(timeTaken), label='Cumulative Time')\n",
    "    plt.legend(loc='upper left', fontsize = 15)\n",
    "    plt.xlabel('Users', fontsize = 20)\n",
    "    plt.ylabel('Time(Seconds)', fontsize = 20)\n",
    "    plt.tick_params(labelsize = 15)\n",
    "    plt.show()\n",
    "    \n",
    "    return similarMatrix"
   ]
  },
  {
   "cell_type": "code",
   "execution_count": 77,
   "metadata": {},
   "outputs": [
    {
     "name": "stdout",
     "output_type": "stream",
     "text": [
      "Time elapsed for 20 users = 0:01:15.375087sec\n",
      "Time elapsed for 40 users = 0:02:27.427998sec\n",
      "Time elapsed for 60 users = 0:03:37.367976sec\n",
      "Time elapsed for 80 users = 0:04:54.744642sec\n",
      "Time elapsed for 100 users = 0:06:16.558817sec\n",
      "Average Time taken to compute similarity matrix for 1 user = 3.732189235687256seconds\n"
     ]
    },
    {
     "data": {
      "image/png": "[encoded data removed]",
      "text/plain": [
       "<Figure size 864x576 with 1 Axes>"
      ]
     },
     "metadata": {},
     "output_type": "display_data"
    }
   ],
   "source": [
    "simMatrix = getUser_UserSimilarity(TrainUISparseData, 100)"
   ]
  },
  {
   "cell_type": "markdown",
   "metadata": {},
   "source": [
    "<p>We have __401901 Users__ in our training data.<br><br>Average time taken to compute similarity matrix for one user is __3.635 sec.__<br><br>For 401901 users:<br><br>_401901*3.635 == 1460910.135sec == 405.808hours == 17Days_<br><br>Computation of user-user similarity matrix is impossible if computational power is limited. On the other hand, if we try to reduce the dimension say by truncated SVD then it would take even more time because truncated SVD creates dense matrix and amount of multiplication for creation of user-user similarity matrix would increase dramatically.<br><br>__Is there any other way to compute user-user similarity???__<br><br>We maintain a binary Vector for users, which tells us whether we already computed similarity for this user or not..<br><br>\n",
    "__OR__<br><br>Compute top (let's just say, 1000) most similar users for this given user, and add this to our datastructure, so that we can just access it(similar users) without recomputing it again. <br><br>__If it is already computed__<br><br>Just get it directly from our datastructure, which has that information. In production time, We might have to recompute similarities, if it is computed a long time ago. Because user preferences changes over time. If we could maintain some kind of Timer, which when expires, we have to update it ( recompute it ). <br><br>Which datastructure to use:<br><br>It is purely implementation dependant.<br><br>\n",
    "One simple method is to maintain a **Dictionary Of Dictionaries**.<br><br>\n",
    "\n",
    "key    :    userid<br>\n",
    "value  :    Again a dictionary<br>\n",
    "            key   : _Similar User<br>\n",
    "            value: Similarity Value>"
   ]
  },
  {
   "cell_type": "markdown",
   "metadata": {},
   "source": [
    "### Computing Movie-Movie Similarity Matrix"
   ]
  },
  {
   "cell_type": "code",
   "execution_count": 78,
   "metadata": {},
   "outputs": [
    {
     "name": "stdout",
     "output_type": "stream",
     "text": [
      "File exists in the disk. Loading the file...\n",
      "Dimension of Matrix = (17771, 17771)\n",
      "0:00:16.450170\n"
     ]
    }
   ],
   "source": [
    "start = datetime.now()\n",
    "\n",
    "if not os.path.isfile(r\"C:\\Users\\Vivek Raj\\Desktop\\project\\netflix\\m_m_similarity.npz\"):\n",
    "    print(\"Movie-Movie Similarity file does not exist in your disk. Creating Movie-Movie Similarity Matrix...\")\n",
    "    \n",
    "    m_m_similarity = cosine_similarity(TrainUISparseData.T, dense_output = False)\n",
    "    print(\"Done\")\n",
    "    print(\"Dimension of Matrix = {}\".format(m_m_similarity.shape))\n",
    "    print(\"Storing the Movie Similarity matrix on disk for further usage\")\n",
    "    sparse.save_npz(r\"C:\\Users\\Vivek Raj\\Desktop\\project\\netflix\\m_m_similarity.npz\", m_m_similarity)\n",
    "else:\n",
    "    print(\"File exists in the disk. Loading the file...\")\n",
    "    m_m_similarity = sparse.load_npz(r\"C:\\Users\\Vivek Raj\\Desktop\\project\\netflix\\m_m_similarity.npz\")\n",
    "    print(\"Dimension of Matrix = {}\".format(m_m_similarity.shape))\n",
    "    \n",
    "print(datetime.now() - start)"
   ]
  },
  {
   "cell_type": "markdown",
   "metadata": {},
   "source": [
    "### Does Movie-Movie Similarity Works?\n",
    "### Let's pick random movie and check it's top 10 most similar movies."
   ]
  },
  {
   "cell_type": "code",
   "execution_count": 79,
   "metadata": {},
   "outputs": [],
   "source": [
    "movie_ids = np.unique(m_m_similarity.nonzero())"
   ]
  },
  {
   "cell_type": "code",
   "execution_count": 80,
   "metadata": {},
   "outputs": [],
   "source": [
    "similar_movies_dict = dict()\n",
    "for movie in movie_ids:\n",
    "    smlr = np.argsort(-m_m_similarity[movie].toarray().ravel())[1:100]\n",
    "    similar_movies_dict[movie] = smlr"
   ]
  },
  {
   "cell_type": "code",
   "execution_count": 81,
   "metadata": {},
   "outputs": [],
   "source": [
    "movie_titles_df = pd.read_csv(r\"C:\\Users\\Vivek Raj\\Desktop\\project\\netflix\\movie_titles.csv\",sep = \",\", header = None, names=['MovieID', 'Year_of_Release', 'Movie_Title'], index_col = \"MovieID\", encoding = \"iso8859_2\")"
   ]
  },
  {
   "cell_type": "code",
   "execution_count": 82,
   "metadata": {},
   "outputs": [
    {
     "data": {
      "text/html": [
       "<div>\n",
       "<style scoped>\n",
       "    .dataframe tbody tr th:only-of-type {\n",
       "        vertical-align: middle;\n",
       "    }\n",
       "\n",
       "    .dataframe tbody tr th {\n",
       "        vertical-align: top;\n",
       "    }\n",
       "\n",
       "    .dataframe thead th {\n",
       "        text-align: right;\n",
       "    }\n",
       "</style>\n",
       "<table border=\"1\" class=\"dataframe\">\n",
       "  <thead>\n",
       "    <tr style=\"text-align: right;\">\n",
       "      <th></th>\n",
       "      <th>Year_of_Release</th>\n",
       "      <th>Movie_Title</th>\n",
       "    </tr>\n",
       "    <tr>\n",
       "      <th>MovieID</th>\n",
       "      <th></th>\n",
       "      <th></th>\n",
       "    </tr>\n",
       "  </thead>\n",
       "  <tbody>\n",
       "    <tr>\n",
       "      <th>1</th>\n",
       "      <td>2003.0</td>\n",
       "      <td>Dinosaur Planet</td>\n",
       "    </tr>\n",
       "    <tr>\n",
       "      <th>2</th>\n",
       "      <td>2004.0</td>\n",
       "      <td>Isle of Man TT 2004 Review</td>\n",
       "    </tr>\n",
       "    <tr>\n",
       "      <th>3</th>\n",
       "      <td>1997.0</td>\n",
       "      <td>Character</td>\n",
       "    </tr>\n",
       "    <tr>\n",
       "      <th>4</th>\n",
       "      <td>1994.0</td>\n",
       "      <td>Paula Abdul's Get Up &amp; Dance</td>\n",
       "    </tr>\n",
       "    <tr>\n",
       "      <th>5</th>\n",
       "      <td>2004.0</td>\n",
       "      <td>The Rise and Fall of ECW</td>\n",
       "    </tr>\n",
       "  </tbody>\n",
       "</table>\n",
       "</div>"
      ],
      "text/plain": [
       "         Year_of_Release                   Movie_Title\n",
       "MovieID                                               \n",
       "1                 2003.0               Dinosaur Planet\n",
       "2                 2004.0    Isle of Man TT 2004 Review\n",
       "3                 1997.0                     Character\n",
       "4                 1994.0  Paula Abdul's Get Up & Dance\n",
       "5                 2004.0      The Rise and Fall of ECW"
      ]
     },
     "execution_count": 82,
     "metadata": {},
     "output_type": "execute_result"
    }
   ],
   "source": [
    "movie_titles_df.head()"
   ]
  },
  {
   "cell_type": "markdown",
   "metadata": {},
   "source": [
    "### Similar Movies to: __Godzilla's Revenge__"
   ]
  },
  {
   "cell_type": "code",
   "execution_count": 83,
   "metadata": {},
   "outputs": [
    {
     "name": "stdout",
     "output_type": "stream",
     "text": [
      "Name of the movie -------> Godzilla's Revenge\n",
      "Number of ratings by users for movie Godzilla's Revenge is 285\n",
      "Number of similar movies to Godzilla's Revenge is 8863\n"
     ]
    }
   ],
   "source": [
    "movieID_GR = 17765\n",
    "\n",
    "print(\"Name of the movie -------> \"+str(movie_titles_df.loc[movieID_GR][1]))\n",
    "\n",
    "print(\"Number of ratings by users for movie {} is {}\".format(movie_titles_df.loc[movieID_GR][1], TrainUISparseData[:,movieID_GR].getnnz()))\n",
    "\n",
    "print(\"Number of similar movies to {} is {}\".format(movie_titles_df.loc[movieID_GR][1], m_m_similarity[movieID_GR].count_nonzero()))"
   ]
  },
  {
   "cell_type": "code",
   "execution_count": 84,
   "metadata": {},
   "outputs": [],
   "source": [
    "# Meaning of \"[:,17765]\" means get all the values of column \"17765\".\n",
    "# \"getnnz()\" give count of explicitly-stored values (nonzeros)."
   ]
  },
  {
   "cell_type": "code",
   "execution_count": 85,
   "metadata": {},
   "outputs": [],
   "source": [
    "all_similar = sorted(m_m_similarity[movieID_GR].toarray().ravel(), reverse = True)[1:]\n",
    "\n",
    "similar_100 = all_similar[:101]"
   ]
  },
  {
   "cell_type": "code",
   "execution_count": 86,
   "metadata": {},
   "outputs": [
    {
     "data": {
      "image/png": "[encoded data removed]",
      "text/plain": [
       "<Figure size 720x576 with 1 Axes>"
      ]
     },
     "metadata": {},
     "output_type": "display_data"
    }
   ],
   "source": [
    "plt.figure(figsize = (10, 8))\n",
    "plt.plot(all_similar, label = \"All Similar\")\n",
    "plt.plot(similar_100, label = \"Top 100 Similar Movies\")\n",
    "plt.title(\"Similar Movies to Godzilla's Revenge\", fontsize = 25)\n",
    "plt.ylabel(\"Cosine Similarity Values\", fontsize = 20)\n",
    "plt.tick_params(labelsize = 15)\n",
    "plt.legend(fontsize = 20)\n",
    "plt.show()"
   ]
  },
  {
   "cell_type": "markdown",
   "metadata": {},
   "source": [
    "### Top 10 Similar Movies to: __Godzilla's Revenge__"
   ]
  },
  {
   "cell_type": "code",
   "execution_count": 87,
   "metadata": {},
   "outputs": [
    {
     "data": {
      "text/html": [
       "<div>\n",
       "<style scoped>\n",
       "    .dataframe tbody tr th:only-of-type {\n",
       "        vertical-align: middle;\n",
       "    }\n",
       "\n",
       "    .dataframe tbody tr th {\n",
       "        vertical-align: top;\n",
       "    }\n",
       "\n",
       "    .dataframe thead th {\n",
       "        text-align: right;\n",
       "    }\n",
       "</style>\n",
       "<table border=\"1\" class=\"dataframe\">\n",
       "  <thead>\n",
       "    <tr style=\"text-align: right;\">\n",
       "      <th></th>\n",
       "      <th>Year_of_Release</th>\n",
       "      <th>Movie_Title</th>\n",
       "    </tr>\n",
       "    <tr>\n",
       "      <th>MovieID</th>\n",
       "      <th></th>\n",
       "      <th></th>\n",
       "    </tr>\n",
       "  </thead>\n",
       "  <tbody>\n",
       "    <tr>\n",
       "      <th>15810</th>\n",
       "      <td>1964.0</td>\n",
       "      <td>Godzilla vs. Mothra</td>\n",
       "    </tr>\n",
       "    <tr>\n",
       "      <th>5907</th>\n",
       "      <td>1956.0</td>\n",
       "      <td>Godzilla: King of the Monsters</td>\n",
       "    </tr>\n",
       "    <tr>\n",
       "      <th>14623</th>\n",
       "      <td>1971.0</td>\n",
       "      <td>Godzilla vs. Hedorah</td>\n",
       "    </tr>\n",
       "    <tr>\n",
       "      <th>8233</th>\n",
       "      <td>1968.0</td>\n",
       "      <td>Destroy All Monsters</td>\n",
       "    </tr>\n",
       "    <tr>\n",
       "      <th>17746</th>\n",
       "      <td>1991.0</td>\n",
       "      <td>Godzilla &amp; Mothra: Battle for Earth / Vs. King...</td>\n",
       "    </tr>\n",
       "    <tr>\n",
       "      <th>15123</th>\n",
       "      <td>1995.0</td>\n",
       "      <td>Godzilla vs. Destroyah / Godzilla vs. Space Go...</td>\n",
       "    </tr>\n",
       "    <tr>\n",
       "      <th>8601</th>\n",
       "      <td>1997.0</td>\n",
       "      <td>Rebirth of Mothra 1 &amp; 2: Double Feature</td>\n",
       "    </tr>\n",
       "    <tr>\n",
       "      <th>8656</th>\n",
       "      <td>1993.0</td>\n",
       "      <td>Godzilla vs. Mechagodzilla II</td>\n",
       "    </tr>\n",
       "    <tr>\n",
       "      <th>7140</th>\n",
       "      <td>2003.0</td>\n",
       "      <td>Godzilla: Tokyo S.O.S.</td>\n",
       "    </tr>\n",
       "    <tr>\n",
       "      <th>7228</th>\n",
       "      <td>1996.0</td>\n",
       "      <td>Gamera 2: Attack of Legion</td>\n",
       "    </tr>\n",
       "  </tbody>\n",
       "</table>\n",
       "</div>"
      ],
      "text/plain": [
       "         Year_of_Release                                        Movie_Title\n",
       "MovieID                                                                    \n",
       "15810             1964.0                                Godzilla vs. Mothra\n",
       "5907              1956.0                     Godzilla: King of the Monsters\n",
       "14623             1971.0                               Godzilla vs. Hedorah\n",
       "8233              1968.0                               Destroy All Monsters\n",
       "17746             1991.0  Godzilla & Mothra: Battle for Earth / Vs. King...\n",
       "15123             1995.0  Godzilla vs. Destroyah / Godzilla vs. Space Go...\n",
       "8601              1997.0            Rebirth of Mothra 1 & 2: Double Feature\n",
       "8656              1993.0                      Godzilla vs. Mechagodzilla II\n",
       "7140              2003.0                             Godzilla: Tokyo S.O.S.\n",
       "7228              1996.0                         Gamera 2: Attack of Legion"
      ]
     },
     "execution_count": 87,
     "metadata": {},
     "output_type": "execute_result"
    }
   ],
   "source": [
    "movie_titles_df.loc[similar_movies_dict[movieID_GR][:10]]"
   ]
  },
  {
   "cell_type": "markdown",
   "metadata": {},
   "source": [
    "<p>__It seems that Movie-Movie similarity is working perfectly.__</p>"
   ]
  },
  {
   "cell_type": "markdown",
   "metadata": {},
   "source": [
    "## 5. Machine Learning Models"
   ]
  },
  {
   "cell_type": "code",
   "execution_count": 88,
   "metadata": {},
   "outputs": [],
   "source": [
    "def get_sample_sparse_matrix(sparseMatrix, n_users, n_movies):\n",
    "    startTime = datetime.now()\n",
    "    users, movies, ratings = sparse.find(sparseMatrix)\n",
    "    uniq_users = np.unique(users)\n",
    "    uniq_movies = np.unique(movies)\n",
    "    np.random.seed(15)   #this will give same random number everytime, without replacement\n",
    "    userS = np.random.choice(uniq_users, n_users, replace = False)\n",
    "    movieS = np.random.choice(uniq_movies, n_movies, replace = False)\n",
    "    mask = np.logical_and(np.isin(users, userS), np.isin(movies, movieS))\n",
    "    sparse_sample = sparse.csr_matrix((ratings[mask], (users[mask], movies[mask])), \n",
    "                                                     shape = (max(userS)+1, max(movieS)+1))\n",
    "    print(\"Sparse Matrix creation done. Saving it for later use.\")\n",
    "    sparse.save_npz(path, sparse_sample)\n",
    "    print(\"Done\")\n",
    "    print(\"Shape of Sparse Sampled Matrix = \"+str(sparse_sample.shape))\n",
    "    \n",
    "    print(datetime.now() - start)\n",
    "    return sparse_sample"
   ]
  },
  {
   "cell_type": "markdown",
   "metadata": {},
   "source": [
    "### Creating Sample Sparse Matrix for Train Data"
   ]
  },
  {
   "cell_type": "code",
   "execution_count": 89,
   "metadata": {},
   "outputs": [
    {
     "name": "stdout",
     "output_type": "stream",
     "text": [
      "File is already present in the disk. Loading the file...\n",
      "File loading done.\n",
      "Shape of Train Sample Sparse Matrix = (2649117, 17764)\n"
     ]
    }
   ],
   "source": [
    "path = r\"C:\\Users\\Vivek Raj\\Desktop\\project\\netflix\\TrainUISparseData_Sample.npz\"\n",
    "if not os.path.isfile(path):\n",
    "    print(\"Sample sparse matrix is not present in the disk. We are creating it...\")\n",
    "    train_sample_sparse = get_sample_sparse_matrix(TrainUISparseData, 4000, 400)\n",
    "else:\n",
    "    print(\"File is already present in the disk. Loading the file...\")\n",
    "    train_sample_sparse = sparse.load_npz(path)\n",
    "    print(\"File loading done.\")\n",
    "    print(\"Shape of Train Sample Sparse Matrix = \"+str(train_sample_sparse.shape))"
   ]
  },
  {
   "cell_type": "markdown",
   "metadata": {},
   "source": [
    "### Creating Sample Sparse Matrix for Test Data"
   ]
  },
  {
   "cell_type": "code",
   "execution_count": 90,
   "metadata": {},
   "outputs": [
    {
     "name": "stdout",
     "output_type": "stream",
     "text": [
      "File is already present in the disk. Loading the file...\n",
      "File loading done.\n",
      "Shape of Test Sample Sparse Matrix = (2647588, 17689)\n"
     ]
    }
   ],
   "source": [
    "path = r\"C:\\Users\\Vivek Raj\\Desktop\\project\\netflix\\TestUISparseData_Sample.npz\"\n",
    "if not os.path.isfile(path):\n",
    "    print(\"Sample sparse matrix is not present in the disk. We are creating it...\")\n",
    "    test_sample_sparse = get_sample_sparse_matrix(TestUISparseData, 2000, 200)\n",
    "else:\n",
    "    print(\"File is already present in the disk. Loading the file...\")\n",
    "    test_sample_sparse = sparse.load_npz(path)\n",
    "    print(\"File loading done.\")\n",
    "    print(\"Shape of Test Sample Sparse Matrix = \"+str(test_sample_sparse.shape))"
   ]
  },
  {
   "cell_type": "markdown",
   "metadata": {},
   "source": [
    "### Finding Global Average of all movie ratings, Average rating per User, and Average rating per Movie (from sampled train)"
   ]
  },
  {
   "cell_type": "code",
   "execution_count": 91,
   "metadata": {},
   "outputs": [
    {
     "name": "stdout",
     "output_type": "stream",
     "text": [
      "Global average of all movies ratings in Train Sample Sparse is 3.58\n"
     ]
    }
   ],
   "source": [
    "print(\"Global average of all movies ratings in Train Sample Sparse is {}\".format(np.round((train_sample_sparse.sum()/train_sample_sparse.count_nonzero()), 2)))"
   ]
  },
  {
   "cell_type": "markdown",
   "metadata": {},
   "source": [
    "### Finding Average of all movie ratings"
   ]
  },
  {
   "cell_type": "code",
   "execution_count": 92,
   "metadata": {},
   "outputs": [
    {
     "name": "stdout",
     "output_type": "stream",
     "text": [
      "Average move rating for movie 14890 is 3.2870967741935484\n"
     ]
    }
   ],
   "source": [
    "globalAvgMovies = getAverageRatings(train_sample_sparse, False)\n",
    "print(\"Average move rating for movie 14890 is {}\".format(globalAvgMovies[14890]))"
   ]
  },
  {
   "cell_type": "markdown",
   "metadata": {},
   "source": [
    "### Finding Average rating per User"
   ]
  },
  {
   "cell_type": "code",
   "execution_count": 93,
   "metadata": {},
   "outputs": [
    {
     "name": "stdout",
     "output_type": "stream",
     "text": [
      "Average user rating for user 16879 is 3.738095238095238\n"
     ]
    }
   ],
   "source": [
    "globalAvgUsers = getAverageRatings(train_sample_sparse, True)\n",
    "print(\"Average user rating for user 16879 is {}\".format(globalAvgMovies[16879]))"
   ]
  },
  {
   "cell_type": "markdown",
   "metadata": {},
   "source": [
    "### Featurizing data"
   ]
  },
  {
   "cell_type": "code",
   "execution_count": 94,
   "metadata": {},
   "outputs": [
    {
     "name": "stdout",
     "output_type": "stream",
     "text": [
      "No of ratings in Our Sampled train matrix is : 19214\n",
      "No of ratings in Our Sampled test matrix is : 1150\n"
     ]
    }
   ],
   "source": [
    "print(\"No of ratings in Our Sampled train matrix is : {}\".format(train_sample_sparse.count_nonzero()))\n",
    "print(\"No of ratings in Our Sampled test matrix is : {}\".format(test_sample_sparse.count_nonzero()))"
   ]
  },
  {
   "cell_type": "markdown",
   "metadata": {},
   "source": [
    "### Featurizing data for regression problem"
   ]
  },
  {
   "cell_type": "markdown",
   "metadata": {},
   "source": [
    "### Featurizing Train Data"
   ]
  },
  {
   "cell_type": "code",
   "execution_count": 95,
   "metadata": {},
   "outputs": [],
   "source": [
    "sample_train_users, sample_train_movies, sample_train_ratings = sparse.find(train_sample_sparse)"
   ]
  },
  {
   "cell_type": "code",
   "execution_count": 165,
   "metadata": {},
   "outputs": [
    {
     "data": {
      "text/plain": [
       "array([2, 0, 1, 4], dtype=int64)"
      ]
     },
     "execution_count": 165,
     "metadata": {},
     "output_type": "execute_result"
    }
   ],
   "source": [
    "# u=sample_train_users\n",
    "# x=cosine_similarity(train_sample_sparse[u[0]], train_sample_sparse).ravel()\n",
    "# np.argsort(-u)[1:]\n",
    "x=np.array([3,2,4,6,1])\n",
    "np.argsort(-x)[1:]"
   ]
  },
  {
   "cell_type": "code",
   "execution_count": 96,
   "metadata": {},
   "outputs": [
    {
     "name": "stdout",
     "output_type": "stream",
     "text": [
      "File is already present in your disk. You do not have to prepare it again.\n"
     ]
    }
   ],
   "source": [
    "if os.path.isfile(r\"C:\\Users\\Vivek Raj\\Desktop\\project\\netflix\\Train_Regression.csv\"):\n",
    "    print(\"File is already present in your disk. You do not have to prepare it again.\")\n",
    "else:\n",
    "    startTime = datetime.now()\n",
    "    print(\"Preparing Train csv file for {} rows\".format(len(sample_train_ratings)))\n",
    "    with open(r\"C:\\Users\\Vivek Raj\\Desktop\\project\\netflix\\Train_Regression.csv\", mode = \"w\") as data:\n",
    "        count = 0\n",
    "        for user, movie, rating in zip(sample_train_users, sample_train_movies, sample_train_ratings):\n",
    "            row = list()\n",
    "            row.append(user)  #appending user ID\n",
    "            row.append(movie) #appending movie ID\n",
    "            row.append(train_sample_sparse.sum()/train_sample_sparse.count_nonzero()) #appending global average rating\n",
    "\n",
    "#----------------------------------Ratings given to \"movie\" by top 5 similar users with \"user\"--------------------#\n",
    "            similar_users = cosine_similarity(train_sample_sparse[user], train_sample_sparse).ravel()\n",
    "            similar_users_indices = np.argsort(-similar_users)[1:]\n",
    "            similar_users_ratings = train_sample_sparse[similar_users_indices, movie].toarray().ravel()\n",
    "            top_similar_user_ratings = list(similar_users_ratings[similar_users_ratings != 0][:5])\n",
    "            top_similar_user_ratings.extend([globalAvgMovies[movie]]*(5-len(top_similar_user_ratings)))\n",
    "            #above line means that if top 5 ratings are not available then rest of the ratings will be filled by \"movie\" average\n",
    "            #rating. Let say only 3 out of 5 ratings are available then rest 2 will be \"movie\" average rating.\n",
    "            row.extend(top_similar_user_ratings)\n",
    "            \n",
    " #----------------------------------Ratings given by \"user\" to top 5 similar movies with \"movie\"------------------#\n",
    "            similar_movies = cosine_similarity(train_sample_sparse[:,movie].T, train_sample_sparse.T).ravel()\n",
    "            similar_movies_indices = np.argsort(-similar_movies)[1:]\n",
    "            similar_movies_ratings = train_sample_sparse[user, similar_movies_indices].toarray().ravel()\n",
    "            top_similar_movie_ratings = list(similar_movies_ratings[similar_movies_ratings != 0][:5])\n",
    "            top_similar_movie_ratings.extend([globalAvgUsers[user]]*(5-len(top_similar_movie_ratings)))\n",
    "            #above line means that if top 5 ratings are not available then rest of the ratings will be filled by \"user\" average\n",
    "            #rating. Let say only 3 out of 5 ratings are available then rest 2 will be \"user\" average rating.\n",
    "            row.extend(top_similar_movie_ratings)\n",
    "            \n",
    " #----------------------------------Appending \"user\" average, \"movie\" average & rating of \"user\"\"movie\"-----------#\n",
    "            row.append(globalAvgUsers[user])\n",
    "            row.append(globalAvgMovies[movie])\n",
    "            row.append(rating)\n",
    "            \n",
    "#-----------------------------------Converting rows and appending them as comma separated values to csv file------#\n",
    "            data.write(\",\".join(map(str, row)))\n",
    "            data.write(\"\\n\")\n",
    "    \n",
    "            count += 1\n",
    "            if count % 2000 == 0:\n",
    "                print(\"Done for {}. Time elapsed: {}\".format(count, (datetime.now() - startTime)))\n",
    "                \n",
    "    print(\"Total Time for {} rows = {}\".format(len(sample_train_ratings), (datetime.now() - startTime)))"
   ]
  },
  {
   "cell_type": "code",
   "execution_count": 97,
   "metadata": {},
   "outputs": [
    {
     "data": {
      "text/html": [
       "<div>\n",
       "<style scoped>\n",
       "    .dataframe tbody tr th:only-of-type {\n",
       "        vertical-align: middle;\n",
       "    }\n",
       "\n",
       "    .dataframe tbody tr th {\n",
       "        vertical-align: top;\n",
       "    }\n",
       "\n",
       "    .dataframe thead th {\n",
       "        text-align: right;\n",
       "    }\n",
       "</style>\n",
       "<table border=\"1\" class=\"dataframe\">\n",
       "  <thead>\n",
       "    <tr style=\"text-align: right;\">\n",
       "      <th></th>\n",
       "      <th>User_ID</th>\n",
       "      <th>Movie_ID</th>\n",
       "      <th>Global_Average</th>\n",
       "      <th>SUR1</th>\n",
       "      <th>SUR2</th>\n",
       "      <th>SUR3</th>\n",
       "      <th>SUR4</th>\n",
       "      <th>SUR5</th>\n",
       "      <th>SMR1</th>\n",
       "      <th>SMR2</th>\n",
       "      <th>SMR3</th>\n",
       "      <th>SMR4</th>\n",
       "      <th>SMR5</th>\n",
       "      <th>User_Average</th>\n",
       "      <th>Movie_Average</th>\n",
       "      <th>Rating</th>\n",
       "    </tr>\n",
       "  </thead>\n",
       "  <tbody>\n",
       "    <tr>\n",
       "      <th>0</th>\n",
       "      <td>180921</td>\n",
       "      <td>4512</td>\n",
       "      <td>3.582804</td>\n",
       "      <td>3.0</td>\n",
       "      <td>2.0</td>\n",
       "      <td>1.0</td>\n",
       "      <td>2.0</td>\n",
       "      <td>1.0</td>\n",
       "      <td>4.0</td>\n",
       "      <td>3.0</td>\n",
       "      <td>4.0</td>\n",
       "      <td>2.0</td>\n",
       "      <td>2.0</td>\n",
       "      <td>2.900000</td>\n",
       "      <td>2.5</td>\n",
       "      <td>1</td>\n",
       "    </tr>\n",
       "    <tr>\n",
       "      <th>1</th>\n",
       "      <td>210185</td>\n",
       "      <td>4512</td>\n",
       "      <td>3.582804</td>\n",
       "      <td>2.0</td>\n",
       "      <td>1.0</td>\n",
       "      <td>3.0</td>\n",
       "      <td>3.0</td>\n",
       "      <td>4.0</td>\n",
       "      <td>3.0</td>\n",
       "      <td>3.0</td>\n",
       "      <td>3.0</td>\n",
       "      <td>4.0</td>\n",
       "      <td>4.0</td>\n",
       "      <td>3.388889</td>\n",
       "      <td>2.5</td>\n",
       "      <td>2</td>\n",
       "    </tr>\n",
       "    <tr>\n",
       "      <th>2</th>\n",
       "      <td>218038</td>\n",
       "      <td>4512</td>\n",
       "      <td>3.582804</td>\n",
       "      <td>2.0</td>\n",
       "      <td>3.0</td>\n",
       "      <td>3.0</td>\n",
       "      <td>2.0</td>\n",
       "      <td>4.0</td>\n",
       "      <td>4.0</td>\n",
       "      <td>4.0</td>\n",
       "      <td>4.0</td>\n",
       "      <td>3.0</td>\n",
       "      <td>5.0</td>\n",
       "      <td>4.250000</td>\n",
       "      <td>2.5</td>\n",
       "      <td>4</td>\n",
       "    </tr>\n",
       "    <tr>\n",
       "      <th>3</th>\n",
       "      <td>221936</td>\n",
       "      <td>4512</td>\n",
       "      <td>3.582804</td>\n",
       "      <td>4.0</td>\n",
       "      <td>2.0</td>\n",
       "      <td>2.0</td>\n",
       "      <td>1.0</td>\n",
       "      <td>2.0</td>\n",
       "      <td>3.0</td>\n",
       "      <td>4.0</td>\n",
       "      <td>4.0</td>\n",
       "      <td>5.0</td>\n",
       "      <td>3.0</td>\n",
       "      <td>3.458333</td>\n",
       "      <td>2.5</td>\n",
       "      <td>3</td>\n",
       "    </tr>\n",
       "    <tr>\n",
       "      <th>4</th>\n",
       "      <td>370736</td>\n",
       "      <td>4512</td>\n",
       "      <td>3.582804</td>\n",
       "      <td>2.0</td>\n",
       "      <td>4.0</td>\n",
       "      <td>1.0</td>\n",
       "      <td>2.0</td>\n",
       "      <td>2.0</td>\n",
       "      <td>4.0</td>\n",
       "      <td>4.0</td>\n",
       "      <td>4.0</td>\n",
       "      <td>4.0</td>\n",
       "      <td>5.0</td>\n",
       "      <td>4.038462</td>\n",
       "      <td>2.5</td>\n",
       "      <td>4</td>\n",
       "    </tr>\n",
       "  </tbody>\n",
       "</table>\n",
       "</div>"
      ],
      "text/plain": [
       "   User_ID  Movie_ID  Global_Average  SUR1  SUR2  SUR3  SUR4  SUR5  SMR1  \\\n",
       "0   180921      4512        3.582804   3.0   2.0   1.0   2.0   1.0   4.0   \n",
       "1   210185      4512        3.582804   2.0   1.0   3.0   3.0   4.0   3.0   \n",
       "2   218038      4512        3.582804   2.0   3.0   3.0   2.0   4.0   4.0   \n",
       "3   221936      4512        3.582804   4.0   2.0   2.0   1.0   2.0   3.0   \n",
       "4   370736      4512        3.582804   2.0   4.0   1.0   2.0   2.0   4.0   \n",
       "\n",
       "   SMR2  SMR3  SMR4  SMR5  User_Average  Movie_Average  Rating  \n",
       "0   3.0   4.0   2.0   2.0      2.900000            2.5       1  \n",
       "1   3.0   3.0   4.0   4.0      3.388889            2.5       2  \n",
       "2   4.0   4.0   3.0   5.0      4.250000            2.5       4  \n",
       "3   4.0   4.0   5.0   3.0      3.458333            2.5       3  \n",
       "4   4.0   4.0   4.0   5.0      4.038462            2.5       4  "
      ]
     },
     "execution_count": 97,
     "metadata": {},
     "output_type": "execute_result"
    }
   ],
   "source": [
    "Train_Reg = pd.read_csv(r\"C:\\Users\\Vivek Raj\\Desktop\\project\\netflix\\Train_Regression.csv\", names = [\"User_ID\", \"Movie_ID\", \"Global_Average\", \"SUR1\", \"SUR2\", \"SUR3\", \"SUR4\", \"SUR5\", \"SMR1\", \"SMR2\", \"SMR3\", \"SMR4\", \"SMR5\", \"User_Average\", \"Movie_Average\", \"Rating\"])\n",
    "Train_Reg.head()"
   ]
  },
  {
   "cell_type": "code",
   "execution_count": 171,
   "metadata": {},
   "outputs": [
    {
     "data": {
      "text/html": [
       "<div>\n",
       "<style scoped>\n",
       "    .dataframe tbody tr th:only-of-type {\n",
       "        vertical-align: middle;\n",
       "    }\n",
       "\n",
       "    .dataframe tbody tr th {\n",
       "        vertical-align: top;\n",
       "    }\n",
       "\n",
       "    .dataframe thead th {\n",
       "        text-align: right;\n",
       "    }\n",
       "</style>\n",
       "<table border=\"1\" class=\"dataframe\">\n",
       "  <thead>\n",
       "    <tr style=\"text-align: right;\">\n",
       "      <th></th>\n",
       "      <th>User_ID</th>\n",
       "      <th>Movie_ID</th>\n",
       "      <th>Global_Average</th>\n",
       "      <th>SUR1</th>\n",
       "      <th>SUR2</th>\n",
       "      <th>SUR3</th>\n",
       "      <th>SUR4</th>\n",
       "      <th>SUR5</th>\n",
       "      <th>SMR1</th>\n",
       "      <th>SMR2</th>\n",
       "      <th>...</th>\n",
       "      <th>SMR4</th>\n",
       "      <th>SMR5</th>\n",
       "      <th>User_Average</th>\n",
       "      <th>Movie_Average</th>\n",
       "      <th>Rating</th>\n",
       "      <th>BaselineOnly</th>\n",
       "      <th>KNNBaseline_User</th>\n",
       "      <th>KNNBaseline_Item</th>\n",
       "      <th>SVD</th>\n",
       "      <th>SVDpp</th>\n",
       "    </tr>\n",
       "  </thead>\n",
       "  <tbody>\n",
       "    <tr>\n",
       "      <th>count</th>\n",
       "      <td>1.921400e+04</td>\n",
       "      <td>19214.000000</td>\n",
       "      <td>1.921400e+04</td>\n",
       "      <td>19214.000000</td>\n",
       "      <td>19214.000000</td>\n",
       "      <td>19214.000000</td>\n",
       "      <td>19214.000000</td>\n",
       "      <td>19214.000000</td>\n",
       "      <td>19214.000000</td>\n",
       "      <td>19214.000000</td>\n",
       "      <td>...</td>\n",
       "      <td>19214.000000</td>\n",
       "      <td>19214.000000</td>\n",
       "      <td>19214.000000</td>\n",
       "      <td>19214.000000</td>\n",
       "      <td>19214.000000</td>\n",
       "      <td>19214.000000</td>\n",
       "      <td>19214.000000</td>\n",
       "      <td>19214.000000</td>\n",
       "      <td>19214.000000</td>\n",
       "      <td>19214.000000</td>\n",
       "    </tr>\n",
       "    <tr>\n",
       "      <th>mean</th>\n",
       "      <td>1.341306e+06</td>\n",
       "      <td>11538.321745</td>\n",
       "      <td>3.582804e+00</td>\n",
       "      <td>3.733319</td>\n",
       "      <td>3.741543</td>\n",
       "      <td>3.733788</td>\n",
       "      <td>3.711356</td>\n",
       "      <td>3.756584</td>\n",
       "      <td>3.712397</td>\n",
       "      <td>3.669824</td>\n",
       "      <td>...</td>\n",
       "      <td>3.603883</td>\n",
       "      <td>3.602477</td>\n",
       "      <td>3.582804</td>\n",
       "      <td>3.582804</td>\n",
       "      <td>3.582804</td>\n",
       "      <td>3.573123</td>\n",
       "      <td>3.592635</td>\n",
       "      <td>3.583187</td>\n",
       "      <td>3.580405</td>\n",
       "      <td>3.571485</td>\n",
       "    </tr>\n",
       "    <tr>\n",
       "      <th>std</th>\n",
       "      <td>7.714045e+05</td>\n",
       "      <td>4724.996134</td>\n",
       "      <td>1.825254e-13</td>\n",
       "      <td>1.003443</td>\n",
       "      <td>1.013378</td>\n",
       "      <td>1.008319</td>\n",
       "      <td>1.014952</td>\n",
       "      <td>1.015766</td>\n",
       "      <td>1.040799</td>\n",
       "      <td>1.034847</td>\n",
       "      <td>...</td>\n",
       "      <td>1.004021</td>\n",
       "      <td>0.977661</td>\n",
       "      <td>0.583872</td>\n",
       "      <td>0.378291</td>\n",
       "      <td>1.087485</td>\n",
       "      <td>0.559209</td>\n",
       "      <td>0.902927</td>\n",
       "      <td>0.994457</td>\n",
       "      <td>0.490151</td>\n",
       "      <td>0.589770</td>\n",
       "    </tr>\n",
       "    <tr>\n",
       "      <th>min</th>\n",
       "      <td>1.893000e+03</td>\n",
       "      <td>4512.000000</td>\n",
       "      <td>3.582804e+00</td>\n",
       "      <td>1.000000</td>\n",
       "      <td>1.000000</td>\n",
       "      <td>1.000000</td>\n",
       "      <td>1.000000</td>\n",
       "      <td>1.000000</td>\n",
       "      <td>1.000000</td>\n",
       "      <td>1.000000</td>\n",
       "      <td>...</td>\n",
       "      <td>1.000000</td>\n",
       "      <td>1.000000</td>\n",
       "      <td>1.000000</td>\n",
       "      <td>1.000000</td>\n",
       "      <td>1.000000</td>\n",
       "      <td>1.028380</td>\n",
       "      <td>1.000000</td>\n",
       "      <td>1.000000</td>\n",
       "      <td>1.142190</td>\n",
       "      <td>1.000000</td>\n",
       "    </tr>\n",
       "    <tr>\n",
       "      <th>25%</th>\n",
       "      <td>6.500880e+05</td>\n",
       "      <td>6337.000000</td>\n",
       "      <td>3.582804e+00</td>\n",
       "      <td>3.000000</td>\n",
       "      <td>3.000000</td>\n",
       "      <td>3.000000</td>\n",
       "      <td>3.000000</td>\n",
       "      <td>3.000000</td>\n",
       "      <td>3.000000</td>\n",
       "      <td>3.000000</td>\n",
       "      <td>...</td>\n",
       "      <td>3.000000</td>\n",
       "      <td>3.000000</td>\n",
       "      <td>3.225000</td>\n",
       "      <td>3.381729</td>\n",
       "      <td>3.000000</td>\n",
       "      <td>3.216851</td>\n",
       "      <td>3.000218</td>\n",
       "      <td>3.000000</td>\n",
       "      <td>3.278799</td>\n",
       "      <td>3.197507</td>\n",
       "    </tr>\n",
       "    <tr>\n",
       "      <th>50%</th>\n",
       "      <td>1.361896e+06</td>\n",
       "      <td>13973.000000</td>\n",
       "      <td>3.582804e+00</td>\n",
       "      <td>4.000000</td>\n",
       "      <td>4.000000</td>\n",
       "      <td>4.000000</td>\n",
       "      <td>4.000000</td>\n",
       "      <td>4.000000</td>\n",
       "      <td>4.000000</td>\n",
       "      <td>4.000000</td>\n",
       "      <td>...</td>\n",
       "      <td>4.000000</td>\n",
       "      <td>4.000000</td>\n",
       "      <td>3.571429</td>\n",
       "      <td>3.553872</td>\n",
       "      <td>4.000000</td>\n",
       "      <td>3.581187</td>\n",
       "      <td>3.824156</td>\n",
       "      <td>3.858650</td>\n",
       "      <td>3.581885</td>\n",
       "      <td>3.594990</td>\n",
       "    </tr>\n",
       "    <tr>\n",
       "      <th>75%</th>\n",
       "      <td>2.019936e+06</td>\n",
       "      <td>15755.000000</td>\n",
       "      <td>3.582804e+00</td>\n",
       "      <td>4.000000</td>\n",
       "      <td>5.000000</td>\n",
       "      <td>5.000000</td>\n",
       "      <td>4.000000</td>\n",
       "      <td>5.000000</td>\n",
       "      <td>5.000000</td>\n",
       "      <td>4.000000</td>\n",
       "      <td>...</td>\n",
       "      <td>4.000000</td>\n",
       "      <td>4.000000</td>\n",
       "      <td>4.000000</td>\n",
       "      <td>3.887410</td>\n",
       "      <td>4.000000</td>\n",
       "      <td>3.952123</td>\n",
       "      <td>4.141920</td>\n",
       "      <td>4.093359</td>\n",
       "      <td>3.910706</td>\n",
       "      <td>3.983387</td>\n",
       "    </tr>\n",
       "    <tr>\n",
       "      <th>max</th>\n",
       "      <td>2.649116e+06</td>\n",
       "      <td>17763.000000</td>\n",
       "      <td>3.582804e+00</td>\n",
       "      <td>5.000000</td>\n",
       "      <td>5.000000</td>\n",
       "      <td>5.000000</td>\n",
       "      <td>5.000000</td>\n",
       "      <td>5.000000</td>\n",
       "      <td>5.000000</td>\n",
       "      <td>5.000000</td>\n",
       "      <td>...</td>\n",
       "      <td>5.000000</td>\n",
       "      <td>5.000000</td>\n",
       "      <td>5.000000</td>\n",
       "      <td>5.000000</td>\n",
       "      <td>5.000000</td>\n",
       "      <td>5.000000</td>\n",
       "      <td>5.000000</td>\n",
       "      <td>5.000000</td>\n",
       "      <td>5.000000</td>\n",
       "      <td>5.000000</td>\n",
       "    </tr>\n",
       "  </tbody>\n",
       "</table>\n",
       "<p>8 rows × 21 columns</p>\n",
       "</div>"
      ],
      "text/plain": [
       "            User_ID      Movie_ID  Global_Average          SUR1          SUR2  \\\n",
       "count  1.921400e+04  19214.000000    1.921400e+04  19214.000000  19214.000000   \n",
       "mean   1.341306e+06  11538.321745    3.582804e+00      3.733319      3.741543   \n",
       "std    7.714045e+05   4724.996134    1.825254e-13      1.003443      1.013378   \n",
       "min    1.893000e+03   4512.000000    3.582804e+00      1.000000      1.000000   \n",
       "25%    6.500880e+05   6337.000000    3.582804e+00      3.000000      3.000000   \n",
       "50%    1.361896e+06  13973.000000    3.582804e+00      4.000000      4.000000   \n",
       "75%    2.019936e+06  15755.000000    3.582804e+00      4.000000      5.000000   \n",
       "max    2.649116e+06  17763.000000    3.582804e+00      5.000000      5.000000   \n",
       "\n",
       "               SUR3          SUR4          SUR5          SMR1          SMR2  \\\n",
       "count  19214.000000  19214.000000  19214.000000  19214.000000  19214.000000   \n",
       "mean       3.733788      3.711356      3.756584      3.712397      3.669824   \n",
       "std        1.008319      1.014952      1.015766      1.040799      1.034847   \n",
       "min        1.000000      1.000000      1.000000      1.000000      1.000000   \n",
       "25%        3.000000      3.000000      3.000000      3.000000      3.000000   \n",
       "50%        4.000000      4.000000      4.000000      4.000000      4.000000   \n",
       "75%        5.000000      4.000000      5.000000      5.000000      4.000000   \n",
       "max        5.000000      5.000000      5.000000      5.000000      5.000000   \n",
       "\n",
       "       ...          SMR4          SMR5  User_Average  Movie_Average  \\\n",
       "count  ...  19214.000000  19214.000000  19214.000000   19214.000000   \n",
       "mean   ...      3.603883      3.602477      3.582804       3.582804   \n",
       "std    ...      1.004021      0.977661      0.583872       0.378291   \n",
       "min    ...      1.000000      1.000000      1.000000       1.000000   \n",
       "25%    ...      3.000000      3.000000      3.225000       3.381729   \n",
       "50%    ...      4.000000      4.000000      3.571429       3.553872   \n",
       "75%    ...      4.000000      4.000000      4.000000       3.887410   \n",
       "max    ...      5.000000      5.000000      5.000000       5.000000   \n",
       "\n",
       "             Rating  BaselineOnly  KNNBaseline_User  KNNBaseline_Item  \\\n",
       "count  19214.000000  19214.000000      19214.000000      19214.000000   \n",
       "mean       3.582804      3.573123          3.592635          3.583187   \n",
       "std        1.087485      0.559209          0.902927          0.994457   \n",
       "min        1.000000      1.028380          1.000000          1.000000   \n",
       "25%        3.000000      3.216851          3.000218          3.000000   \n",
       "50%        4.000000      3.581187          3.824156          3.858650   \n",
       "75%        4.000000      3.952123          4.141920          4.093359   \n",
       "max        5.000000      5.000000          5.000000          5.000000   \n",
       "\n",
       "                SVD         SVDpp  \n",
       "count  19214.000000  19214.000000  \n",
       "mean       3.580405      3.571485  \n",
       "std        0.490151      0.589770  \n",
       "min        1.142190      1.000000  \n",
       "25%        3.278799      3.197507  \n",
       "50%        3.581885      3.594990  \n",
       "75%        3.910706      3.983387  \n",
       "max        5.000000      5.000000  \n",
       "\n",
       "[8 rows x 21 columns]"
      ]
     },
     "execution_count": 171,
     "metadata": {},
     "output_type": "execute_result"
    }
   ],
   "source": [
    "Train_Reg.describe()"
   ]
  },
  {
   "cell_type": "code",
   "execution_count": 98,
   "metadata": {},
   "outputs": [
    {
     "name": "stdout",
     "output_type": "stream",
     "text": [
      "Number of nan Values = 0\n"
     ]
    }
   ],
   "source": [
    "print(\"Number of nan Values = \"+str(Train_Reg.isnull().sum().sum()))"
   ]
  },
  {
   "cell_type": "markdown",
   "metadata": {},
   "source": [
    "<p><b>User_ID:</b> ID of a this User</p>\n",
    "\n",
    "<p><b>Movie_ID:</b> ID of a this Movie</p>\n",
    "\n",
    "<p><b>Global_Average:</b> Global Average Rating</p>\n",
    "\n",
    "<p><b>Ratings given to this Movie by top 5 similar users with this User:</b> (SUR1, SUR2, SUR3, SUR4, SUR5)</p>\n",
    "   \n",
    "<p><b>Ratings given by this User to top 5 similar movies with this Movie:</b> (SMR1, SMR2, SMR3, SMR4, SMR5)</p>\n",
    "\n",
    "<p><b>User_Average:</b> Average Rating of this User</p>\n",
    "\n",
    "<p><b>Movie_Average:</b> Average Rating of this Movie</p>\n",
    "\n",
    "<p><b>Rating:</b> Rating given by this User to this Movie</p>"
   ]
  },
  {
   "cell_type": "code",
   "execution_count": 99,
   "metadata": {},
   "outputs": [
    {
     "name": "stdout",
     "output_type": "stream",
     "text": [
      "Shape of Train DataFrame = (19214, 16)\n"
     ]
    }
   ],
   "source": [
    "print(\"Shape of Train DataFrame = {}\".format(Train_Reg.shape))"
   ]
  },
  {
   "cell_type": "markdown",
   "metadata": {},
   "source": [
    "### Featurizing Test Data"
   ]
  },
  {
   "cell_type": "code",
   "execution_count": 100,
   "metadata": {},
   "outputs": [],
   "source": [
    "sample_test_users, sample_test_movies, sample_test_ratings = sparse.find(test_sample_sparse)"
   ]
  },
  {
   "cell_type": "code",
   "execution_count": 101,
   "metadata": {},
   "outputs": [
    {
     "name": "stdout",
     "output_type": "stream",
     "text": [
      "File is already present in your disk. You do not have to prepare it again.\n"
     ]
    }
   ],
   "source": [
    "if os.path.isfile(r\"C:\\Users\\Vivek Raj\\Desktop\\project\\netflix\\Test_Regression.csv\"):\n",
    "    print(\"File is already present in your disk. You do not have to prepare it again.\")\n",
    "else:\n",
    "    startTime = datetime.now()\n",
    "    print(\"Preparing Test csv file for {} rows\".format(len(sample_test_ratings)))\n",
    "    with open(r\"C:\\Users\\Vivek Raj\\Desktop\\project\\netflix\\Test_Regression.csv\", mode = \"w\") as data:\n",
    "        count = 0\n",
    "        for user, movie, rating in zip(sample_test_users, sample_test_movies, sample_test_ratings):\n",
    "            row = list()\n",
    "            row.append(user)  #appending user ID\n",
    "            row.append(movie) #appending movie ID\n",
    "            row.append(train_sample_sparse.sum()/train_sample_sparse.count_nonzero()) #appending global average rating\n",
    "\n",
    "#-----------------------------Ratings given to \"movie\" by top 5 similar users with \"user\"-------------------------#\n",
    "            try:\n",
    "                similar_users = cosine_similarity(train_sample_sparse[user], train_sample_sparse).ravel()\n",
    "                similar_users_indices = np.argsort(-similar_users)[1:]\n",
    "                similar_users_ratings = train_sample_sparse[similar_users_indices, movie].toarray().ravel()\n",
    "                top_similar_user_ratings = list(similar_users_ratings[similar_users_ratings != 0][:5])\n",
    "                top_similar_user_ratings.extend([globalAvgMovies[movie]]*(5-len(top_similar_user_ratings)))\n",
    "                #above line means that if top 5 ratings are not available then rest of the ratings will be filled by \"movie\" \n",
    "                #average rating. Let say only 3 out of 5 ratings are available then rest 2 will be \"movie\" average rating.\n",
    "                row.extend(top_similar_user_ratings)\n",
    "            #########Cold Start Problem, for a new user or a new movie#########    \n",
    "            except(IndexError, KeyError):\n",
    "                global_average_train_rating = [train_sample_sparse.sum()/train_sample_sparse.count_nonzero()]*5\n",
    "                row.extend(global_average_train_rating)\n",
    "            except:\n",
    "                raise\n",
    "                \n",
    " #-----------------------------Ratings given by \"user\" to top 5 similar movies with \"movie\"-----------------------#\n",
    "            try:\n",
    "                similar_movies = cosine_similarity(train_sample_sparse[:,movie].T, train_sample_sparse.T).ravel()\n",
    "                similar_movies_indices = np.argsort(-similar_movies)[1:]\n",
    "                similar_movies_ratings = train_sample_sparse[user, similar_movies_indices].toarray().ravel()\n",
    "                top_similar_movie_ratings = list(similar_movies_ratings[similar_movies_ratings != 0][:5])\n",
    "                top_similar_movie_ratings.extend([globalAvgUsers[user]]*(5-len(top_similar_movie_ratings)))\n",
    "                #above line means that if top 5 ratings are not available then rest of the ratings will be filled by \"user\" \n",
    "                #average rating. Let say only 3 out of 5 ratings are available then rest 2 will be \"user\" average rating.\n",
    "                row.extend(top_similar_movie_ratings)\n",
    "            #########Cold Start Problem, for a new user or a new movie#########\n",
    "            except(IndexError, KeyError):\n",
    "                global_average_train_rating = [train_sample_sparse.sum()/train_sample_sparse.count_nonzero()]*5\n",
    "                row.extend(global_average_train_rating)\n",
    "            except:\n",
    "                raise\n",
    "                \n",
    " #-----------------------------Appending \"user\" average, \"movie\" average & rating of \"user\"\"movie\"----------------#\n",
    "            try:        \n",
    "                row.append(globalAvgUsers[user])\n",
    "            except (KeyError):\n",
    "                global_average_train_rating = train_sample_sparse.sum()/train_sample_sparse.count_nonzero()\n",
    "                row.append(global_average_train_rating)\n",
    "            except:\n",
    "                raise\n",
    "                \n",
    "            try:\n",
    "                row.append(globalAvgMovies[movie])\n",
    "            except(KeyError):\n",
    "                global_average_train_rating = train_sample_sparse.sum()/train_sample_sparse.count_nonzero()\n",
    "                row.append(global_average_train_rating)\n",
    "            except:\n",
    "                raise\n",
    "                \n",
    "            row.append(rating)\n",
    "            \n",
    "#------------------------------Converting rows and appending them as comma separated values to csv file-----------#\n",
    "            data.write(\",\".join(map(str, row)))\n",
    "            data.write(\"\\n\")\n",
    "    \n",
    "            count += 1\n",
    "            if count % 100 == 0:\n",
    "                print(\"Done for {}. Time elapsed: {}\".format(count, (datetime.now() - startTime)))\n",
    "                \n",
    "    print(\"Total Time for {} rows = {}\".format(len(sample_test_ratings), (datetime.now() - startTime)))"
   ]
  },
  {
   "cell_type": "code",
   "execution_count": 103,
   "metadata": {},
   "outputs": [
    {
     "data": {
      "text/html": [
       "<div>\n",
       "<style scoped>\n",
       "    .dataframe tbody tr th:only-of-type {\n",
       "        vertical-align: middle;\n",
       "    }\n",
       "\n",
       "    .dataframe tbody tr th {\n",
       "        vertical-align: top;\n",
       "    }\n",
       "\n",
       "    .dataframe thead th {\n",
       "        text-align: right;\n",
       "    }\n",
       "</style>\n",
       "<table border=\"1\" class=\"dataframe\">\n",
       "  <thead>\n",
       "    <tr style=\"text-align: right;\">\n",
       "      <th></th>\n",
       "      <th>User_ID</th>\n",
       "      <th>Movie_ID</th>\n",
       "      <th>Global_Average</th>\n",
       "      <th>SUR1</th>\n",
       "      <th>SUR2</th>\n",
       "      <th>SUR3</th>\n",
       "      <th>SUR4</th>\n",
       "      <th>SUR5</th>\n",
       "      <th>SMR1</th>\n",
       "      <th>SMR2</th>\n",
       "      <th>SMR3</th>\n",
       "      <th>SMR4</th>\n",
       "      <th>SMR5</th>\n",
       "      <th>User_Average</th>\n",
       "      <th>Movie_Average</th>\n",
       "      <th>Rating</th>\n",
       "    </tr>\n",
       "  </thead>\n",
       "  <tbody>\n",
       "    <tr>\n",
       "      <th>0</th>\n",
       "      <td>464626</td>\n",
       "      <td>4614</td>\n",
       "      <td>3.582804</td>\n",
       "      <td>3.582804</td>\n",
       "      <td>3.582804</td>\n",
       "      <td>3.582804</td>\n",
       "      <td>3.582804</td>\n",
       "      <td>3.582804</td>\n",
       "      <td>3.582804</td>\n",
       "      <td>3.582804</td>\n",
       "      <td>3.582804</td>\n",
       "      <td>3.582804</td>\n",
       "      <td>3.582804</td>\n",
       "      <td>3.582804</td>\n",
       "      <td>3.582804</td>\n",
       "      <td>3</td>\n",
       "    </tr>\n",
       "    <tr>\n",
       "      <th>1</th>\n",
       "      <td>1815614</td>\n",
       "      <td>4627</td>\n",
       "      <td>3.582804</td>\n",
       "      <td>3.582804</td>\n",
       "      <td>3.582804</td>\n",
       "      <td>3.582804</td>\n",
       "      <td>3.582804</td>\n",
       "      <td>3.582804</td>\n",
       "      <td>3.582804</td>\n",
       "      <td>3.582804</td>\n",
       "      <td>3.582804</td>\n",
       "      <td>3.582804</td>\n",
       "      <td>3.582804</td>\n",
       "      <td>3.582804</td>\n",
       "      <td>3.582804</td>\n",
       "      <td>3</td>\n",
       "    </tr>\n",
       "    <tr>\n",
       "      <th>2</th>\n",
       "      <td>2298717</td>\n",
       "      <td>4627</td>\n",
       "      <td>3.582804</td>\n",
       "      <td>3.582804</td>\n",
       "      <td>3.582804</td>\n",
       "      <td>3.582804</td>\n",
       "      <td>3.582804</td>\n",
       "      <td>3.582804</td>\n",
       "      <td>3.582804</td>\n",
       "      <td>3.582804</td>\n",
       "      <td>3.582804</td>\n",
       "      <td>3.582804</td>\n",
       "      <td>3.582804</td>\n",
       "      <td>3.582804</td>\n",
       "      <td>3.582804</td>\n",
       "      <td>5</td>\n",
       "    </tr>\n",
       "    <tr>\n",
       "      <th>3</th>\n",
       "      <td>2532402</td>\n",
       "      <td>4627</td>\n",
       "      <td>3.582804</td>\n",
       "      <td>3.582804</td>\n",
       "      <td>3.582804</td>\n",
       "      <td>3.582804</td>\n",
       "      <td>3.582804</td>\n",
       "      <td>3.582804</td>\n",
       "      <td>3.582804</td>\n",
       "      <td>3.582804</td>\n",
       "      <td>3.582804</td>\n",
       "      <td>3.582804</td>\n",
       "      <td>3.582804</td>\n",
       "      <td>3.582804</td>\n",
       "      <td>3.582804</td>\n",
       "      <td>4</td>\n",
       "    </tr>\n",
       "    <tr>\n",
       "      <th>4</th>\n",
       "      <td>2027</td>\n",
       "      <td>4798</td>\n",
       "      <td>3.582804</td>\n",
       "      <td>3.582804</td>\n",
       "      <td>3.582804</td>\n",
       "      <td>3.582804</td>\n",
       "      <td>3.582804</td>\n",
       "      <td>3.582804</td>\n",
       "      <td>3.582804</td>\n",
       "      <td>3.582804</td>\n",
       "      <td>3.582804</td>\n",
       "      <td>3.582804</td>\n",
       "      <td>3.582804</td>\n",
       "      <td>3.582804</td>\n",
       "      <td>3.582804</td>\n",
       "      <td>5</td>\n",
       "    </tr>\n",
       "  </tbody>\n",
       "</table>\n",
       "</div>"
      ],
      "text/plain": [
       "   User_ID  Movie_ID  Global_Average      SUR1      SUR2      SUR3      SUR4  \\\n",
       "0   464626      4614        3.582804  3.582804  3.582804  3.582804  3.582804   \n",
       "1  1815614      4627        3.582804  3.582804  3.582804  3.582804  3.582804   \n",
       "2  2298717      4627        3.582804  3.582804  3.582804  3.582804  3.582804   \n",
       "3  2532402      4627        3.582804  3.582804  3.582804  3.582804  3.582804   \n",
       "4     2027      4798        3.582804  3.582804  3.582804  3.582804  3.582804   \n",
       "\n",
       "       SUR5      SMR1      SMR2      SMR3      SMR4      SMR5  User_Average  \\\n",
       "0  3.582804  3.582804  3.582804  3.582804  3.582804  3.582804      3.582804   \n",
       "1  3.582804  3.582804  3.582804  3.582804  3.582804  3.582804      3.582804   \n",
       "2  3.582804  3.582804  3.582804  3.582804  3.582804  3.582804      3.582804   \n",
       "3  3.582804  3.582804  3.582804  3.582804  3.582804  3.582804      3.582804   \n",
       "4  3.582804  3.582804  3.582804  3.582804  3.582804  3.582804      3.582804   \n",
       "\n",
       "   Movie_Average  Rating  \n",
       "0       3.582804       3  \n",
       "1       3.582804       3  \n",
       "2       3.582804       5  \n",
       "3       3.582804       4  \n",
       "4       3.582804       5  "
      ]
     },
     "execution_count": 103,
     "metadata": {},
     "output_type": "execute_result"
    }
   ],
   "source": [
    "Test_Reg = pd.read_csv(r\"C:\\Users\\Vivek Raj\\Desktop\\project\\netflix\\Test_Regression.csv\", names = [\"User_ID\", \"Movie_ID\", \"Global_Average\", \"SUR1\", \"SUR2\", \"SUR3\", \"SUR4\", \"SUR5\", \"SMR1\", \"SMR2\", \"SMR3\", \"SMR4\", \"SMR5\", \"User_Average\", \"Movie_Average\", \"Rating\"])\n",
    "Test_Reg.head()"
   ]
  },
  {
   "cell_type": "code",
   "execution_count": 104,
   "metadata": {},
   "outputs": [
    {
     "name": "stdout",
     "output_type": "stream",
     "text": [
      "Number of nan Values = 0\n"
     ]
    }
   ],
   "source": [
    "print(\"Number of nan Values = \"+str(Test_Reg.isnull().sum().sum()))"
   ]
  },
  {
   "cell_type": "markdown",
   "metadata": {},
   "source": [
    "<p><b>User_ID:</b> ID of a this User</p>\n",
    "\n",
    "\n",
    "\n",
    "<p><b>Movie_ID:</b> ID of a this Movie</p>\n",
    "\n",
    "\n",
    "\n",
    "<p><b>Global_Average:</b> Global Average Rating</p>\n",
    "\n",
    "\n",
    "\n",
    "<p><b>Ratings given to this Movie by top 5 similar users with this User:</b> (SUR1, SUR2, SUR3, SUR4, SUR5)</p>\n",
    "\n",
    "    \n",
    "    \n",
    "<p><b>Ratings given by this User to top 5 similar movies with this Movie:</b> (SMR1, SMR2, SMR3, SMR4, SMR5)</p>\n",
    "\n",
    "\n",
    "<p><b>User_Average:</b> Average Rating of this User</p>\n",
    "\n",
    "\n",
    "<p><b>Movie_Average:</b> Average Rating of this Movie</p>\n",
    "\n",
    "\n",
    "<p><b>Rating:</b> Rating given by this User to this Movie</p>"
   ]
  },
  {
   "cell_type": "code",
   "execution_count": 105,
   "metadata": {},
   "outputs": [
    {
     "name": "stdout",
     "output_type": "stream",
     "text": [
      "Shape of Test DataFrame = (1150, 16)\n"
     ]
    }
   ],
   "source": [
    "print(\"Shape of Test DataFrame = {}\".format(Test_Reg.shape))"
   ]
  },
  {
   "cell_type": "markdown",
   "metadata": {},
   "source": [
    "### Transforming Data for Surprise Models"
   ]
  },
  {
   "cell_type": "markdown",
   "metadata": {},
   "source": [
    "#### Transforming Train Data"
   ]
  },
  {
   "cell_type": "markdown",
   "metadata": {},
   "source": [
    "- We can't give raw data (movie, user, rating) to train the model in Surprise library.\n",
    "\n",
    "\n",
    "- They have a separate format for TRAIN and TEST data, which will be useful for training the models like SVD, KNNBaseLineOnly....etc..,in Surprise.\n",
    "\n",
    "\n",
    "- We can form the trainset from a file, or from a Pandas  DataFrame. \n",
    "http://surprise.readthedocs.io/en/stable/getting_started.html#load-dom-dataframe-py "
   ]
  },
  {
   "cell_type": "code",
   "execution_count": 106,
   "metadata": {},
   "outputs": [
    {
     "data": {
      "text/html": [
       "<div>\n",
       "<style scoped>\n",
       "    .dataframe tbody tr th:only-of-type {\n",
       "        vertical-align: middle;\n",
       "    }\n",
       "\n",
       "    .dataframe tbody tr th {\n",
       "        vertical-align: top;\n",
       "    }\n",
       "\n",
       "    .dataframe thead th {\n",
       "        text-align: right;\n",
       "    }\n",
       "</style>\n",
       "<table border=\"1\" class=\"dataframe\">\n",
       "  <thead>\n",
       "    <tr style=\"text-align: right;\">\n",
       "      <th></th>\n",
       "      <th>User_ID</th>\n",
       "      <th>Movie_ID</th>\n",
       "      <th>Rating</th>\n",
       "    </tr>\n",
       "  </thead>\n",
       "  <tbody>\n",
       "    <tr>\n",
       "      <th>0</th>\n",
       "      <td>180921</td>\n",
       "      <td>4512</td>\n",
       "      <td>1</td>\n",
       "    </tr>\n",
       "    <tr>\n",
       "      <th>1</th>\n",
       "      <td>210185</td>\n",
       "      <td>4512</td>\n",
       "      <td>2</td>\n",
       "    </tr>\n",
       "    <tr>\n",
       "      <th>2</th>\n",
       "      <td>218038</td>\n",
       "      <td>4512</td>\n",
       "      <td>4</td>\n",
       "    </tr>\n",
       "    <tr>\n",
       "      <th>3</th>\n",
       "      <td>221936</td>\n",
       "      <td>4512</td>\n",
       "      <td>3</td>\n",
       "    </tr>\n",
       "    <tr>\n",
       "      <th>4</th>\n",
       "      <td>370736</td>\n",
       "      <td>4512</td>\n",
       "      <td>4</td>\n",
       "    </tr>\n",
       "  </tbody>\n",
       "</table>\n",
       "</div>"
      ],
      "text/plain": [
       "   User_ID  Movie_ID  Rating\n",
       "0   180921      4512       1\n",
       "1   210185      4512       2\n",
       "2   218038      4512       4\n",
       "3   221936      4512       3\n",
       "4   370736      4512       4"
      ]
     },
     "execution_count": 106,
     "metadata": {},
     "output_type": "execute_result"
    }
   ],
   "source": [
    "Train_Reg[['User_ID', 'Movie_ID', 'Rating']].head(5)"
   ]
  },
  {
   "cell_type": "code",
   "execution_count": 107,
   "metadata": {},
   "outputs": [],
   "source": [
    "reader = Reader(rating_scale=(1, 5))\n",
    "\n",
    "data = Dataset.load_from_df(Train_Reg[['User_ID', 'Movie_ID', 'Rating']], reader)\n",
    "\n",
    "trainset = data.build_full_trainset()"
   ]
  },
  {
   "cell_type": "markdown",
   "metadata": {},
   "source": [
    "#### Transforming Test Data\n",
    "\n",
    "- For test data we just have to define a tuple (user, item, rating).\n",
    "- You can check out this link: https://github.com/NicolasHug/Surprise/commit/86cf44529ca0bbb97759b81d1716ff547b950812\n",
    "- Above link is a github of surprise library. Check methods \"def all_ratings(self)\" and \"def build_testset(self)\" from line\n",
    "  177 to 201(If they modify the file then line number may differ, but you can always check aforementioned two methods).\n",
    "- \"def build_testset(self)\" method returns a list of tuples of (user, item, rating)."
   ]
  },
  {
   "cell_type": "code",
   "execution_count": 108,
   "metadata": {},
   "outputs": [],
   "source": [
    "testset = list(zip(Test_Reg[\"User_ID\"].values, Test_Reg[\"Movie_ID\"].values, Test_Reg[\"Rating\"].values))"
   ]
  },
  {
   "cell_type": "code",
   "execution_count": 109,
   "metadata": {},
   "outputs": [
    {
     "data": {
      "text/plain": [
       "[(464626, 4614, 3),\n",
       " (1815614, 4627, 3),\n",
       " (2298717, 4627, 5),\n",
       " (2532402, 4627, 4),\n",
       " (2027, 4798, 5)]"
      ]
     },
     "execution_count": 109,
     "metadata": {},
     "output_type": "execute_result"
    }
   ],
   "source": [
    "testset[:5]"
   ]
  },
  {
   "cell_type": "markdown",
   "metadata": {},
   "source": [
    "### Applying Machine Learning Models"
   ]
  },
  {
   "cell_type": "markdown",
   "metadata": {},
   "source": [
    "<p>We have two Error Metrics.</p>\n",
    "<p><b>->   RMSE: Root Mean Square Error: </b>RMSE is the error of each point which is squared. Then mean is calculated. Finally root of that mean is taken as final value.</p>\n",
    "<p><b>->   MAPE: Mean Absolute Percentage Error: </b>The mean absolute percentage error (MAPE), also known as mean absolute percentage deviation (MAPD), is a measure of prediction accuracy of a forecasting method.</p>\n",
    "<p>where At is the actual value and Ft is the forecast value.</p>\n",
    "<p>\n",
    "The difference between At and Ft is divided by the actual value At again. The absolute value in this calculation is summed for every forecasted point in time and divided by the number of fitted points n. Multiplying by 100% makes it a percentage error.</p>"
   ]
  },
  {
   "cell_type": "markdown",
   "metadata": {},
   "source": [
    "<b>We can also use other regression models. But  we are using exclusively XGBoost as it is typically fairly powerful in practice.</b>"
   ]
  },
  {
   "cell_type": "code",
   "execution_count": 110,
   "metadata": {},
   "outputs": [],
   "source": [
    "error_table = pd.DataFrame(columns = [\"Model\", \"Train RMSE\", \"Train MAPE\", \"Test RMSE\", \"Test MAPE\"])\n",
    "model_train_evaluation = dict()\n",
    "model_test_evaluation = dict()"
   ]
  },
  {
   "cell_type": "code",
   "execution_count": 111,
   "metadata": {},
   "outputs": [],
   "source": [
    "def make_table(model_name, rmse_train, mape_train, rmse_test, mape_test):\n",
    "    global error_table\n",
    "    #All variable assignments in a function store the value in the local symbol table; whereas variable references first look \n",
    "    #in the local symbol table, then in the global symbol table, and then in the table of built-in names. Thus, global variables \n",
    "    #cannot be directly assigned a value within a function (unless named in a global statement), \n",
    "    #although they may be referenced.\n",
    "    error_table = error_table.append(pd.DataFrame([[model_name, rmse_train, mape_train, rmse_test, mape_test]], columns = [\"Model\", \"Train RMSE\", \"Train MAPE\", \"Test RMSE\", \"Test MAPE\"]))\n",
    "    error_table.reset_index(drop = True, inplace = True)"
   ]
  },
  {
   "cell_type": "markdown",
   "metadata": {},
   "source": [
    "### Utility Functions for Regression Models"
   ]
  },
  {
   "cell_type": "code",
   "execution_count": 112,
   "metadata": {},
   "outputs": [],
   "source": [
    "def error_metrics(y_true, y_pred):\n",
    "    rmse = np.sqrt(mean_squared_error(y_true, y_pred))\n",
    "    mape = np.mean(abs((y_true - y_pred)/y_true))*100\n",
    "    return rmse, mape"
   ]
  },
  {
   "cell_type": "code",
   "execution_count": 113,
   "metadata": {},
   "outputs": [],
   "source": [
    "def train_test_xgboost(x_train, x_test, y_train, y_test, model_name):\n",
    "    startTime = datetime.now()\n",
    "    train_result = dict()\n",
    "    test_result = dict()\n",
    "    \n",
    "    clf = xgb.XGBRegressor(n_estimators = 100, silent = False, n_jobs  = 10)\n",
    "    clf.fit(x_train, y_train)\n",
    "    \n",
    "    print(\"-\"*50)\n",
    "    print(\"TRAIN DATA\")\n",
    "    y_pred_train = clf.predict(x_train)\n",
    "    rmse_train, mape_train = error_metrics(y_train, y_pred_train)\n",
    "    print(\"RMSE = {}\".format(rmse_train))\n",
    "    print(\"MAPE = {}\".format(mape_train))\n",
    "    print(\"-\"*50)\n",
    "    train_result = {\"RMSE\": rmse_train, \"MAPE\": mape_train, \"Prediction\": y_pred_train}\n",
    "    \n",
    "    print(\"TEST DATA\")\n",
    "    y_pred_test = clf.predict(x_test)\n",
    "    rmse_test, mape_test = error_metrics(y_test, y_pred_test)\n",
    "    print(\"RMSE = {}\".format(rmse_test))\n",
    "    print(\"MAPE = {}\".format(mape_test))\n",
    "    print(\"-\"*50)\n",
    "    test_result = {\"RMSE\": rmse_test, \"MAPE\": mape_test, \"Prediction\": y_pred_test}\n",
    "        \n",
    "    print(\"Time Taken = \"+str(datetime.now() - startTime))\n",
    "    \n",
    "    plot_importance(xgb, clf)\n",
    "    \n",
    "    make_table(model_name, rmse_train, mape_train, rmse_test, mape_test)\n",
    "    \n",
    "    return train_result, test_result"
   ]
  },
  {
   "cell_type": "code",
   "execution_count": 114,
   "metadata": {},
   "outputs": [],
   "source": [
    "def plot_importance(model, clf):\n",
    "    fig = plt.figure(figsize = (8, 6))\n",
    "    ax = fig.add_axes([0,0,1,1])\n",
    "    model.plot_importance(clf, ax = ax, height = 0.3)\n",
    "    plt.xlabel(\"F Score\", fontsize = 20)\n",
    "    plt.ylabel(\"Features\", fontsize = 20)\n",
    "    plt.title(\"Feature Importance\", fontsize = 20)\n",
    "    plt.tick_params(labelsize = 15)\n",
    "    \n",
    "    plt.show()"
   ]
  },
  {
   "cell_type": "markdown",
   "metadata": {},
   "source": [
    "### Utility Functions for Surprise Models"
   ]
  },
  {
   "cell_type": "code",
   "execution_count": 115,
   "metadata": {},
   "outputs": [],
   "source": [
    "def get_ratings(predictions):\n",
    "    actual = np.array([pred.r_ui for pred in predictions])\n",
    "    predicted = np.array([pred.est for pred in predictions])\n",
    "    return actual, predicted\n",
    "#in surprise prediction of every data point is returned as dictionary like this:\n",
    "#\"user: 196        item: 302        r_ui = 4.00   est = 4.06   {'actual_k': 40, 'was_impossible': False}\"\n",
    "#In this dictionary, \"r_ui\" is a key for actual rating and \"est\" is a key for predicted rating "
   ]
  },
  {
   "cell_type": "code",
   "execution_count": 116,
   "metadata": {},
   "outputs": [],
   "source": [
    "def get_error(predictions):\n",
    "    actual, predicted = get_ratings(predictions)\n",
    "    rmse = np.sqrt(mean_squared_error(actual, predicted)) \n",
    "    mape = np.mean(abs((actual - predicted)/actual))*100\n",
    "    return rmse, mape"
   ]
  },
  {
   "cell_type": "code",
   "execution_count": 117,
   "metadata": {},
   "outputs": [],
   "source": [
    "my_seed = 15\n",
    "random.seed(my_seed)\n",
    "np.random.seed(my_seed)\n",
    "\n",
    "def run_surprise(algo, trainset, testset, model_name):\n",
    "    startTime = datetime.now()\n",
    "    \n",
    "    train = dict()\n",
    "    test = dict()\n",
    "    \n",
    "    algo.fit(trainset)\n",
    "    #You can check out above function at \"https://surprise.readthedocs.io/en/stable/getting_started.html\" in \n",
    "    #\"Train-test split and the fit() method\" section\n",
    "    \n",
    "#-----------------Evaluating Train Data------------------#\n",
    "    print(\"-\"*50)\n",
    "    print(\"TRAIN DATA\")\n",
    "    train_pred = algo.test(trainset.build_testset())\n",
    "    #You can check out \"algo.test()\" function at \"https://surprise.readthedocs.io/en/stable/getting_started.html\" in \n",
    "    #\"Train-test split and the fit() method\" section\n",
    "    #You can check out \"trainset.build_testset()\" function at \"https://surprise.readthedocs.io/en/stable/FAQ.html#can-i-use-my-own-dataset-with-surprise-and-can-it-be-a-pandas-dataframe\" in \n",
    "    #\"How to get accuracy measures on the training set\" section\n",
    "    train_actual, train_predicted = get_ratings(train_pred)\n",
    "    train_rmse, train_mape = get_error(train_pred)\n",
    "    print(\"RMSE = {}\".format(train_rmse))\n",
    "    print(\"MAPE = {}\".format(train_mape))\n",
    "    print(\"-\"*50)\n",
    "    train = {\"RMSE\": train_rmse, \"MAPE\": train_mape, \"Prediction\": train_predicted}\n",
    "    \n",
    "#-----------------Evaluating Test Data------------------#\n",
    "    print(\"TEST DATA\")\n",
    "    test_pred = algo.test(testset)\n",
    "    #You can check out \"algo.test()\" function at \"https://surprise.readthedocs.io/en/stable/getting_started.html\" in \n",
    "    #\"Train-test split and the fit() method\" section\n",
    "    test_actual, test_predicted = get_ratings(test_pred)\n",
    "    test_rmse, test_mape = get_error(test_pred)\n",
    "    print(\"RMSE = {}\".format(test_rmse))\n",
    "    print(\"MAPE = {}\".format(test_mape))\n",
    "    print(\"-\"*50)\n",
    "    test = {\"RMSE\": test_rmse, \"MAPE\": test_mape, \"Prediction\": test_predicted}\n",
    "    \n",
    "    print(\"Time Taken = \"+str(datetime.now() - startTime))\n",
    "    \n",
    "    make_table(model_name, train_rmse, train_mape, test_rmse, test_mape)\n",
    "    \n",
    "    return train, test"
   ]
  },
  {
   "cell_type": "markdown",
   "metadata": {},
   "source": [
    "## 1. XGBoost 13 Features"
   ]
  },
  {
   "cell_type": "code",
   "execution_count": 118,
   "metadata": {},
   "outputs": [
    {
     "name": "stdout",
     "output_type": "stream",
     "text": [
      "[00:11:52] WARNING: ..\\src\\learner.cc:576: \n",
      "Parameters: { \"silent\" } might not be used.\n",
      "\n",
      "  This could be a false alarm, with some parameters getting used by language bindings but\n",
      "  then being mistakenly passed down to XGBoost core, or some parameter actually being used\n",
      "  but getting flagged wrongly here. Please open an issue if you find any such cases.\n",
      "\n",
      "\n",
      "--------------------------------------------------\n",
      "TRAIN DATA\n",
      "RMSE = 0.6051474633464521\n",
      "MAPE = 16.547967493534088\n",
      "--------------------------------------------------\n",
      "TEST DATA\n",
      "RMSE = 1.1226487142559078\n",
      "MAPE = 32.010038277723\n",
      "--------------------------------------------------\n",
      "Time Taken = 0:00:01.577970\n"
     ]
    },
    {
     "data": {
      "image/png": "[encoded data removed]",
      "text/plain": [
       "<Figure size 576x432 with 1 Axes>"
      ]
     },
     "metadata": {},
     "output_type": "display_data"
    }
   ],
   "source": [
    "x_train = Train_Reg.drop([\"User_ID\", \"Movie_ID\", \"Rating\"], axis = 1)\n",
    "\n",
    "x_test = Test_Reg.drop([\"User_ID\", \"Movie_ID\", \"Rating\"], axis = 1)\n",
    "\n",
    "y_train = Train_Reg[\"Rating\"]\n",
    "\n",
    "y_test = Test_Reg[\"Rating\"]\n",
    "\n",
    "train_result, test_result = train_test_xgboost(x_train, x_test, y_train, y_test, \"XGBoost_13\")\n",
    "\n",
    "model_train_evaluation[\"XGBoost_13\"] = train_result\n",
    "model_test_evaluation[\"XGBoost_13\"] = test_result"
   ]
  },
  {
   "cell_type": "markdown",
   "metadata": {},
   "source": [
    "## 2. Surprise BaselineOnly Model"
   ]
  },
  {
   "cell_type": "markdown",
   "metadata": {},
   "source": [
    "### Predicted Rating\n",
    "> $\\large\\hat{r}_{ui} = \\mu + b_u + b_i$<br><br>\n",
    "\n",
    "- $\\mu$: Average Global Ratings in training data<br>\n",
    "- $b_u$: User-Bias<br>\n",
    "- $b_i$: Item-Bias\n",
    "\n",
    "### Optimization Function\n",
    "> $\\large \\sum_{r_ui \\in R_{Train}} \\left(r_{ui} - (\\mu + b_u + b_i)\\right)^2 + \\lambda \\left(b_u^2 + b_i^2 \\right). \\left[minimize\\; b_u, b_i \\right]$"
   ]
  },
  {
   "cell_type": "code",
   "execution_count": 119,
   "metadata": {},
   "outputs": [
    {
     "name": "stdout",
     "output_type": "stream",
     "text": [
      "Estimating biases using sgd...\n",
      "--------------------------------------------------\n",
      "TRAIN DATA\n",
      "RMSE = 0.8811426214928658\n",
      "MAPE = 27.158727146074078\n",
      "--------------------------------------------------\n",
      "TEST DATA\n",
      "RMSE = 1.0678388468431512\n",
      "MAPE = 33.39729060309592\n",
      "--------------------------------------------------\n",
      "Time Taken = 0:00:01.422030\n"
     ]
    }
   ],
   "source": [
    "bsl_options = {\"method\":\"sgd\", \"learning_rate\":0.01, \"n_epochs\":25}\n",
    "\n",
    "algo = BaselineOnly(bsl_options=bsl_options)\n",
    "#You can check the docs of above used functions at:https://surprise.readthedocs.io/en/stable/prediction_algorithms.html#baseline-estimates-configuration\n",
    "#at section \"Baselines estimates configuration\".\n",
    "\n",
    "train_result, test_result = run_surprise(algo, trainset, testset, \"BaselineOnly\")\n",
    "\n",
    "model_train_evaluation[\"BaselineOnly\"] = train_result\n",
    "model_test_evaluation[\"BaselineOnly\"] = test_result"
   ]
  },
  {
   "cell_type": "markdown",
   "metadata": {},
   "source": [
    "## 3. XGBoost 13 Features + Surprise BaselineOnly Model"
   ]
  },
  {
   "cell_type": "markdown",
   "metadata": {},
   "source": [
    "### Adding predicted ratings from Surprise BaselineOnly model to our Train and Test Dataframe"
   ]
  },
  {
   "cell_type": "code",
   "execution_count": 120,
   "metadata": {},
   "outputs": [],
   "source": [
    "Train_Reg[\"BaselineOnly\"] = model_train_evaluation[\"BaselineOnly\"][\"Prediction\"]"
   ]
  },
  {
   "cell_type": "code",
   "execution_count": 121,
   "metadata": {},
   "outputs": [
    {
     "data": {
      "text/html": [
       "<div>\n",
       "<style scoped>\n",
       "    .dataframe tbody tr th:only-of-type {\n",
       "        vertical-align: middle;\n",
       "    }\n",
       "\n",
       "    .dataframe tbody tr th {\n",
       "        vertical-align: top;\n",
       "    }\n",
       "\n",
       "    .dataframe thead th {\n",
       "        text-align: right;\n",
       "    }\n",
       "</style>\n",
       "<table border=\"1\" class=\"dataframe\">\n",
       "  <thead>\n",
       "    <tr style=\"text-align: right;\">\n",
       "      <th></th>\n",
       "      <th>User_ID</th>\n",
       "      <th>Movie_ID</th>\n",
       "      <th>Global_Average</th>\n",
       "      <th>SUR1</th>\n",
       "      <th>SUR2</th>\n",
       "      <th>SUR3</th>\n",
       "      <th>SUR4</th>\n",
       "      <th>SUR5</th>\n",
       "      <th>SMR1</th>\n",
       "      <th>SMR2</th>\n",
       "      <th>SMR3</th>\n",
       "      <th>SMR4</th>\n",
       "      <th>SMR5</th>\n",
       "      <th>User_Average</th>\n",
       "      <th>Movie_Average</th>\n",
       "      <th>Rating</th>\n",
       "      <th>BaselineOnly</th>\n",
       "    </tr>\n",
       "  </thead>\n",
       "  <tbody>\n",
       "    <tr>\n",
       "      <th>0</th>\n",
       "      <td>180921</td>\n",
       "      <td>4512</td>\n",
       "      <td>3.582804</td>\n",
       "      <td>3.0</td>\n",
       "      <td>2.0</td>\n",
       "      <td>1.0</td>\n",
       "      <td>2.0</td>\n",
       "      <td>1.0</td>\n",
       "      <td>4.0</td>\n",
       "      <td>3.0</td>\n",
       "      <td>4.0</td>\n",
       "      <td>2.0</td>\n",
       "      <td>2.0</td>\n",
       "      <td>2.900000</td>\n",
       "      <td>2.5</td>\n",
       "      <td>1</td>\n",
       "      <td>2.077166</td>\n",
       "    </tr>\n",
       "    <tr>\n",
       "      <th>1</th>\n",
       "      <td>210185</td>\n",
       "      <td>4512</td>\n",
       "      <td>3.582804</td>\n",
       "      <td>2.0</td>\n",
       "      <td>1.0</td>\n",
       "      <td>3.0</td>\n",
       "      <td>3.0</td>\n",
       "      <td>4.0</td>\n",
       "      <td>3.0</td>\n",
       "      <td>3.0</td>\n",
       "      <td>3.0</td>\n",
       "      <td>4.0</td>\n",
       "      <td>4.0</td>\n",
       "      <td>3.388889</td>\n",
       "      <td>2.5</td>\n",
       "      <td>2</td>\n",
       "      <td>2.916411</td>\n",
       "    </tr>\n",
       "    <tr>\n",
       "      <th>2</th>\n",
       "      <td>218038</td>\n",
       "      <td>4512</td>\n",
       "      <td>3.582804</td>\n",
       "      <td>2.0</td>\n",
       "      <td>3.0</td>\n",
       "      <td>3.0</td>\n",
       "      <td>2.0</td>\n",
       "      <td>4.0</td>\n",
       "      <td>4.0</td>\n",
       "      <td>4.0</td>\n",
       "      <td>4.0</td>\n",
       "      <td>3.0</td>\n",
       "      <td>5.0</td>\n",
       "      <td>4.250000</td>\n",
       "      <td>2.5</td>\n",
       "      <td>4</td>\n",
       "      <td>2.905264</td>\n",
       "    </tr>\n",
       "    <tr>\n",
       "      <th>3</th>\n",
       "      <td>221936</td>\n",
       "      <td>4512</td>\n",
       "      <td>3.582804</td>\n",
       "      <td>4.0</td>\n",
       "      <td>2.0</td>\n",
       "      <td>2.0</td>\n",
       "      <td>1.0</td>\n",
       "      <td>2.0</td>\n",
       "      <td>3.0</td>\n",
       "      <td>4.0</td>\n",
       "      <td>4.0</td>\n",
       "      <td>5.0</td>\n",
       "      <td>3.0</td>\n",
       "      <td>3.458333</td>\n",
       "      <td>2.5</td>\n",
       "      <td>3</td>\n",
       "      <td>3.290933</td>\n",
       "    </tr>\n",
       "    <tr>\n",
       "      <th>4</th>\n",
       "      <td>370736</td>\n",
       "      <td>4512</td>\n",
       "      <td>3.582804</td>\n",
       "      <td>2.0</td>\n",
       "      <td>4.0</td>\n",
       "      <td>1.0</td>\n",
       "      <td>2.0</td>\n",
       "      <td>2.0</td>\n",
       "      <td>4.0</td>\n",
       "      <td>4.0</td>\n",
       "      <td>4.0</td>\n",
       "      <td>4.0</td>\n",
       "      <td>5.0</td>\n",
       "      <td>4.038462</td>\n",
       "      <td>2.5</td>\n",
       "      <td>4</td>\n",
       "      <td>3.561135</td>\n",
       "    </tr>\n",
       "  </tbody>\n",
       "</table>\n",
       "</div>"
      ],
      "text/plain": [
       "   User_ID  Movie_ID  Global_Average  SUR1  SUR2  SUR3  SUR4  SUR5  SMR1  \\\n",
       "0   180921      4512        3.582804   3.0   2.0   1.0   2.0   1.0   4.0   \n",
       "1   210185      4512        3.582804   2.0   1.0   3.0   3.0   4.0   3.0   \n",
       "2   218038      4512        3.582804   2.0   3.0   3.0   2.0   4.0   4.0   \n",
       "3   221936      4512        3.582804   4.0   2.0   2.0   1.0   2.0   3.0   \n",
       "4   370736      4512        3.582804   2.0   4.0   1.0   2.0   2.0   4.0   \n",
       "\n",
       "   SMR2  SMR3  SMR4  SMR5  User_Average  Movie_Average  Rating  BaselineOnly  \n",
       "0   3.0   4.0   2.0   2.0      2.900000            2.5       1      2.077166  \n",
       "1   3.0   3.0   4.0   4.0      3.388889            2.5       2      2.916411  \n",
       "2   4.0   4.0   3.0   5.0      4.250000            2.5       4      2.905264  \n",
       "3   4.0   4.0   5.0   3.0      3.458333            2.5       3      3.290933  \n",
       "4   4.0   4.0   4.0   5.0      4.038462            2.5       4      3.561135  "
      ]
     },
     "execution_count": 121,
     "metadata": {},
     "output_type": "execute_result"
    }
   ],
   "source": [
    "Train_Reg.head()"
   ]
  },
  {
   "cell_type": "code",
   "execution_count": 122,
   "metadata": {},
   "outputs": [
    {
     "name": "stdout",
     "output_type": "stream",
     "text": [
      "Number of nan values = 0\n"
     ]
    }
   ],
   "source": [
    "print(\"Number of nan values = \"+str(Train_Reg.isnull().sum().sum()))"
   ]
  },
  {
   "cell_type": "code",
   "execution_count": 123,
   "metadata": {},
   "outputs": [
    {
     "data": {
      "text/html": [
       "<div>\n",
       "<style scoped>\n",
       "    .dataframe tbody tr th:only-of-type {\n",
       "        vertical-align: middle;\n",
       "    }\n",
       "\n",
       "    .dataframe tbody tr th {\n",
       "        vertical-align: top;\n",
       "    }\n",
       "\n",
       "    .dataframe thead th {\n",
       "        text-align: right;\n",
       "    }\n",
       "</style>\n",
       "<table border=\"1\" class=\"dataframe\">\n",
       "  <thead>\n",
       "    <tr style=\"text-align: right;\">\n",
       "      <th></th>\n",
       "      <th>User_ID</th>\n",
       "      <th>Movie_ID</th>\n",
       "      <th>Global_Average</th>\n",
       "      <th>SUR1</th>\n",
       "      <th>SUR2</th>\n",
       "      <th>SUR3</th>\n",
       "      <th>SUR4</th>\n",
       "      <th>SUR5</th>\n",
       "      <th>SMR1</th>\n",
       "      <th>SMR2</th>\n",
       "      <th>SMR3</th>\n",
       "      <th>SMR4</th>\n",
       "      <th>SMR5</th>\n",
       "      <th>User_Average</th>\n",
       "      <th>Movie_Average</th>\n",
       "      <th>Rating</th>\n",
       "      <th>BaselineOnly</th>\n",
       "    </tr>\n",
       "  </thead>\n",
       "  <tbody>\n",
       "    <tr>\n",
       "      <th>0</th>\n",
       "      <td>464626</td>\n",
       "      <td>4614</td>\n",
       "      <td>3.582804</td>\n",
       "      <td>3.582804</td>\n",
       "      <td>3.582804</td>\n",
       "      <td>3.582804</td>\n",
       "      <td>3.582804</td>\n",
       "      <td>3.582804</td>\n",
       "      <td>3.582804</td>\n",
       "      <td>3.582804</td>\n",
       "      <td>3.582804</td>\n",
       "      <td>3.582804</td>\n",
       "      <td>3.582804</td>\n",
       "      <td>3.582804</td>\n",
       "      <td>3.582804</td>\n",
       "      <td>3</td>\n",
       "      <td>3.582804</td>\n",
       "    </tr>\n",
       "    <tr>\n",
       "      <th>1</th>\n",
       "      <td>1815614</td>\n",
       "      <td>4627</td>\n",
       "      <td>3.582804</td>\n",
       "      <td>3.582804</td>\n",
       "      <td>3.582804</td>\n",
       "      <td>3.582804</td>\n",
       "      <td>3.582804</td>\n",
       "      <td>3.582804</td>\n",
       "      <td>3.582804</td>\n",
       "      <td>3.582804</td>\n",
       "      <td>3.582804</td>\n",
       "      <td>3.582804</td>\n",
       "      <td>3.582804</td>\n",
       "      <td>3.582804</td>\n",
       "      <td>3.582804</td>\n",
       "      <td>3</td>\n",
       "      <td>3.582804</td>\n",
       "    </tr>\n",
       "    <tr>\n",
       "      <th>2</th>\n",
       "      <td>2298717</td>\n",
       "      <td>4627</td>\n",
       "      <td>3.582804</td>\n",
       "      <td>3.582804</td>\n",
       "      <td>3.582804</td>\n",
       "      <td>3.582804</td>\n",
       "      <td>3.582804</td>\n",
       "      <td>3.582804</td>\n",
       "      <td>3.582804</td>\n",
       "      <td>3.582804</td>\n",
       "      <td>3.582804</td>\n",
       "      <td>3.582804</td>\n",
       "      <td>3.582804</td>\n",
       "      <td>3.582804</td>\n",
       "      <td>3.582804</td>\n",
       "      <td>5</td>\n",
       "      <td>3.582804</td>\n",
       "    </tr>\n",
       "    <tr>\n",
       "      <th>3</th>\n",
       "      <td>2532402</td>\n",
       "      <td>4627</td>\n",
       "      <td>3.582804</td>\n",
       "      <td>3.582804</td>\n",
       "      <td>3.582804</td>\n",
       "      <td>3.582804</td>\n",
       "      <td>3.582804</td>\n",
       "      <td>3.582804</td>\n",
       "      <td>3.582804</td>\n",
       "      <td>3.582804</td>\n",
       "      <td>3.582804</td>\n",
       "      <td>3.582804</td>\n",
       "      <td>3.582804</td>\n",
       "      <td>3.582804</td>\n",
       "      <td>3.582804</td>\n",
       "      <td>4</td>\n",
       "      <td>3.582804</td>\n",
       "    </tr>\n",
       "    <tr>\n",
       "      <th>4</th>\n",
       "      <td>2027</td>\n",
       "      <td>4798</td>\n",
       "      <td>3.582804</td>\n",
       "      <td>3.582804</td>\n",
       "      <td>3.582804</td>\n",
       "      <td>3.582804</td>\n",
       "      <td>3.582804</td>\n",
       "      <td>3.582804</td>\n",
       "      <td>3.582804</td>\n",
       "      <td>3.582804</td>\n",
       "      <td>3.582804</td>\n",
       "      <td>3.582804</td>\n",
       "      <td>3.582804</td>\n",
       "      <td>3.582804</td>\n",
       "      <td>3.582804</td>\n",
       "      <td>5</td>\n",
       "      <td>3.582804</td>\n",
       "    </tr>\n",
       "  </tbody>\n",
       "</table>\n",
       "</div>"
      ],
      "text/plain": [
       "   User_ID  Movie_ID  Global_Average      SUR1      SUR2      SUR3      SUR4  \\\n",
       "0   464626      4614        3.582804  3.582804  3.582804  3.582804  3.582804   \n",
       "1  1815614      4627        3.582804  3.582804  3.582804  3.582804  3.582804   \n",
       "2  2298717      4627        3.582804  3.582804  3.582804  3.582804  3.582804   \n",
       "3  2532402      4627        3.582804  3.582804  3.582804  3.582804  3.582804   \n",
       "4     2027      4798        3.582804  3.582804  3.582804  3.582804  3.582804   \n",
       "\n",
       "       SUR5      SMR1      SMR2      SMR3      SMR4      SMR5  User_Average  \\\n",
       "0  3.582804  3.582804  3.582804  3.582804  3.582804  3.582804      3.582804   \n",
       "1  3.582804  3.582804  3.582804  3.582804  3.582804  3.582804      3.582804   \n",
       "2  3.582804  3.582804  3.582804  3.582804  3.582804  3.582804      3.582804   \n",
       "3  3.582804  3.582804  3.582804  3.582804  3.582804  3.582804      3.582804   \n",
       "4  3.582804  3.582804  3.582804  3.582804  3.582804  3.582804      3.582804   \n",
       "\n",
       "   Movie_Average  Rating  BaselineOnly  \n",
       "0       3.582804       3      3.582804  \n",
       "1       3.582804       3      3.582804  \n",
       "2       3.582804       5      3.582804  \n",
       "3       3.582804       4      3.582804  \n",
       "4       3.582804       5      3.582804  "
      ]
     },
     "execution_count": 123,
     "metadata": {},
     "output_type": "execute_result"
    }
   ],
   "source": [
    "Test_Reg[\"BaselineOnly\"] = model_test_evaluation[\"BaselineOnly\"][\"Prediction\"]\n",
    "Test_Reg.head()"
   ]
  },
  {
   "cell_type": "code",
   "execution_count": 124,
   "metadata": {},
   "outputs": [
    {
     "name": "stdout",
     "output_type": "stream",
     "text": [
      "Number of nan values = 0\n"
     ]
    }
   ],
   "source": [
    "print(\"Number of nan values = \"+str(Test_Reg.isnull().sum().sum()))"
   ]
  },
  {
   "cell_type": "code",
   "execution_count": 125,
   "metadata": {},
   "outputs": [
    {
     "name": "stdout",
     "output_type": "stream",
     "text": [
      "[00:12:11] WARNING: ..\\src\\learner.cc:576: \n",
      "Parameters: { \"silent\" } might not be used.\n",
      "\n",
      "  This could be a false alarm, with some parameters getting used by language bindings but\n",
      "  then being mistakenly passed down to XGBoost core, or some parameter actually being used\n",
      "  but getting flagged wrongly here. Please open an issue if you find any such cases.\n",
      "\n",
      "\n",
      "--------------------------------------------------\n",
      "TRAIN DATA\n",
      "RMSE = 0.5949516863142196\n",
      "MAPE = 16.334639489650726\n",
      "--------------------------------------------------\n",
      "TEST DATA\n",
      "RMSE = 1.2562482311411585\n",
      "MAPE = 30.663328753001164\n",
      "--------------------------------------------------\n",
      "Time Taken = 0:00:02.312194\n"
     ]
    },
    {
     "data": {
      "image/png": "[encoded data removed]",
      "text/plain": [
       "<Figure size 576x432 with 1 Axes>"
      ]
     },
     "metadata": {},
     "output_type": "display_data"
    }
   ],
   "source": [
    "x_train = Train_Reg.drop([\"User_ID\", \"Movie_ID\", \"Rating\"], axis = 1)\n",
    "\n",
    "x_test = Test_Reg.drop([\"User_ID\", \"Movie_ID\", \"Rating\"], axis = 1)\n",
    "\n",
    "y_train = Train_Reg[\"Rating\"]\n",
    "\n",
    "y_test = Test_Reg[\"Rating\"]\n",
    "\n",
    "train_result, test_result = train_test_xgboost(x_train, x_test, y_train, y_test, \"XGB_BSL\")\n",
    "\n",
    "model_train_evaluation[\"XGB_BSL\"] = train_result\n",
    "model_test_evaluation[\"XGB_BSL\"] = test_result"
   ]
  },
  {
   "cell_type": "markdown",
   "metadata": {},
   "source": [
    "## 4. Surprise KNN-Baseline with User-User and Item-Item Similarity"
   ]
  },
  {
   "cell_type": "markdown",
   "metadata": {},
   "source": [
    "### Prediction $\\hat{r}_{ui}$ in case of user-user similarity\n",
    "\n",
    "$\\large \\hat{r}_{ui} = b_{ui} + \\frac{ \\sum\\limits_{v \\in N^k_i(u)}\n",
    "\\text{sim}(u, v) \\cdot (r_{vi} - b_{vi})} {\\sum\\limits_{v\n",
    "\\in N^k_i(u)} \\text{sim}(u, v)}$\n",
    "\n",
    "- $\\pmb{b_{ui}}$ - Baseline prediction_ of (user,movie) rating which is \"$b_{ui} = \\mu + b_u + b_i$\".\n",
    "\n",
    "- $ \\pmb {N_i^k (u)}$ - Set of __K similar__ users (neighbours) of __user (u)__ who rated __movie(i)__  \n",
    "\n",
    "- _sim (u, v)_ - Similarity between users __u and v__ who also rated movie 'i'. This is exactly same as our hand-crafted features 'SUR'- 'Similar User Rating'. Means here we have taken 'k' such similar users 'v' with user 'u' who also rated movie 'i'. $r_{vi}$ is the rating which user 'v' gives on item 'i'. $b_{vi}$ is the predicted baseline model rating of user 'v' on item 'i'.\n",
    "    - Generally, it will be cosine similarity or Pearson correlation coefficient. \n",
    "    - But we use __shrunk Pearson-baseline correlation coefficient__, which is based on the pearsonBaseline similarity ( we take     - base line predictions instead of mean rating of user/item)<br><br><br><br>  \n",
    "\n",
    "### Prediction $\\hat{r}_{ui}$ in case of item-item similarity\n",
    "\n",
    "$\\large \\hat{r}_{ui} = b_{ui} + \\frac{ \\sum\\limits_{j \\in N^k_u(i)}\n",
    "\\text{sim}(i, j) \\cdot (r_{uj} - b_{uj})} {\\sum\\limits_{j \\in\n",
    "N^k_u(j)} \\text{sim}(i, j)}$\n",
    "\n",
    "- __Notation is same as of user-user similarity__<br><br><br>\n",
    "\n",
    "\n",
    "#### Documentation you can check at:\n",
    "KNN BASELINE: https://surprise.readthedocs.io/en/stable/knn_inspired.html\n",
    "\n",
    "PEARSON_BASELINE SIMILARITY: http://surprise.readthedocs.io/en/stable/similarities.html#surprise.similarities.pearson_baseline\n",
    "\n",
    "SHRINKAGE: Neighborhood Models in http://courses.ischool.berkeley.edu/i290-dm/s11/SECURE/a1-koren.pdf"
   ]
  },
  {
   "cell_type": "markdown",
   "metadata": {},
   "source": [
    "### 4.1 Surprise KNN-Baseline with User-User."
   ]
  },
  {
   "cell_type": "markdown",
   "metadata": {},
   "source": [
    "#### Cross- Validation"
   ]
  },
  {
   "cell_type": "code",
   "execution_count": 126,
   "metadata": {
    "scrolled": true
   },
   "outputs": [
    {
     "name": "stdout",
     "output_type": "stream",
     "text": [
      "Estimating biases using als...\n",
      "Computing the pearson_baseline similarity matrix...\n",
      "Done computing similarity matrix.\n",
      "Estimating biases using als...\n",
      "Computing the pearson_baseline similarity matrix...\n",
      "Done computing similarity matrix.\n",
      "Estimating biases using als...\n",
      "Computing the pearson_baseline similarity matrix...\n",
      "Done computing similarity matrix.\n",
      "Estimating biases using als...\n",
      "Computing the pearson_baseline similarity matrix...\n",
      "Done computing similarity matrix.\n",
      "Estimating biases using als...\n",
      "Computing the pearson_baseline similarity matrix...\n",
      "Done computing similarity matrix.\n",
      "Estimating biases using als...\n",
      "Computing the pearson_baseline similarity matrix...\n",
      "Done computing similarity matrix.\n",
      "Estimating biases using als...\n",
      "Computing the pearson_baseline similarity matrix...\n",
      "Done computing similarity matrix.\n",
      "Estimating biases using als...\n",
      "Computing the pearson_baseline similarity matrix...\n",
      "Done computing similarity matrix.\n",
      "Estimating biases using als...\n",
      "Computing the pearson_baseline similarity matrix...\n",
      "Done computing similarity matrix.\n",
      "Estimating biases using als...\n",
      "Computing the pearson_baseline similarity matrix...\n",
      "Done computing similarity matrix.\n",
      "Estimating biases using als...\n",
      "Computing the pearson_baseline similarity matrix...\n",
      "Done computing similarity matrix.\n",
      "Estimating biases using als...\n",
      "Computing the pearson_baseline similarity matrix...\n",
      "Done computing similarity matrix.\n",
      "Estimating biases using als...\n",
      "Computing the pearson_baseline similarity matrix...\n",
      "Done computing similarity matrix.\n",
      "Estimating biases using als...\n",
      "Computing the pearson_baseline similarity matrix...\n",
      "Done computing similarity matrix.\n",
      "Estimating biases using als...\n",
      "Computing the pearson_baseline similarity matrix...\n",
      "Done computing similarity matrix.\n",
      "Estimating biases using als...\n",
      "Computing the pearson_baseline similarity matrix...\n",
      "Done computing similarity matrix.\n",
      "Estimating biases using als...\n",
      "Computing the pearson_baseline similarity matrix...\n",
      "Done computing similarity matrix.\n",
      "Estimating biases using als...\n",
      "Computing the pearson_baseline similarity matrix...\n",
      "Done computing similarity matrix.\n",
      "Estimating biases using als...\n",
      "Computing the pearson_baseline similarity matrix...\n",
      "Done computing similarity matrix.\n",
      "Estimating biases using als...\n",
      "Computing the pearson_baseline similarity matrix...\n",
      "Done computing similarity matrix.\n",
      "Estimating biases using als...\n",
      "Computing the pearson_baseline similarity matrix...\n",
      "Done computing similarity matrix.\n",
      "Estimating biases using als...\n",
      "Computing the pearson_baseline similarity matrix...\n",
      "Done computing similarity matrix.\n",
      "Estimating biases using als...\n",
      "Computing the pearson_baseline similarity matrix...\n",
      "Done computing similarity matrix.\n",
      "Estimating biases using als...\n",
      "Computing the pearson_baseline similarity matrix...\n",
      "Done computing similarity matrix.\n",
      "Estimating biases using als...\n",
      "Computing the pearson_baseline similarity matrix...\n",
      "Done computing similarity matrix.\n",
      "Estimating biases using als...\n",
      "Computing the pearson_baseline similarity matrix...\n",
      "Done computing similarity matrix.\n",
      "Estimating biases using als...\n",
      "Computing the pearson_baseline similarity matrix...\n",
      "Done computing similarity matrix.\n",
      "Estimating biases using als...\n",
      "Computing the pearson_baseline similarity matrix...\n",
      "Done computing similarity matrix.\n",
      "Estimating biases using als...\n",
      "Computing the pearson_baseline similarity matrix...\n",
      "Done computing similarity matrix.\n",
      "Estimating biases using als...\n",
      "Computing the pearson_baseline similarity matrix...\n",
      "Done computing similarity matrix.\n",
      "Estimating biases using als...\n",
      "Computing the pearson_baseline similarity matrix...\n",
      "Done computing similarity matrix.\n",
      "Estimating biases using als...\n",
      "Computing the pearson_baseline similarity matrix...\n",
      "Done computing similarity matrix.\n",
      "Estimating biases using als...\n",
      "Computing the pearson_baseline similarity matrix...\n",
      "Done computing similarity matrix.\n",
      "Estimating biases using als...\n",
      "Computing the pearson_baseline similarity matrix...\n",
      "Done computing similarity matrix.\n",
      "Estimating biases using als...\n",
      "Computing the pearson_baseline similarity matrix...\n",
      "Done computing similarity matrix.\n",
      "Estimating biases using als...\n",
      "Computing the pearson_baseline similarity matrix...\n",
      "Done computing similarity matrix.\n",
      "Estimating biases using als...\n",
      "Computing the pearson_baseline similarity matrix...\n",
      "Done computing similarity matrix.\n",
      "Estimating biases using als...\n",
      "Computing the pearson_baseline similarity matrix...\n",
      "Done computing similarity matrix.\n",
      "Estimating biases using als...\n",
      "Computing the pearson_baseline similarity matrix...\n",
      "Done computing similarity matrix.\n",
      "Estimating biases using als...\n",
      "Computing the pearson_baseline similarity matrix...\n",
      "Done computing similarity matrix.\n",
      "Estimating biases using als...\n",
      "Computing the pearson_baseline similarity matrix...\n",
      "Done computing similarity matrix.\n",
      "Estimating biases using als...\n",
      "Computing the pearson_baseline similarity matrix...\n",
      "Done computing similarity matrix.\n",
      "Estimating biases using als...\n",
      "Computing the pearson_baseline similarity matrix...\n",
      "Done computing similarity matrix.\n",
      "Estimating biases using als...\n",
      "Computing the pearson_baseline similarity matrix...\n",
      "Done computing similarity matrix.\n",
      "Estimating biases using als...\n",
      "Computing the pearson_baseline similarity matrix...\n",
      "Done computing similarity matrix.\n",
      "Estimating biases using als...\n",
      "Computing the pearson_baseline similarity matrix...\n",
      "Done computing similarity matrix.\n",
      "Estimating biases using als...\n",
      "Computing the pearson_baseline similarity matrix...\n",
      "Done computing similarity matrix.\n",
      "Estimating biases using als...\n",
      "Computing the pearson_baseline similarity matrix...\n",
      "Done computing similarity matrix.\n",
      "1.0197568865615387\n",
      "{'sim_options': {'name': 'pearson_baseline', 'user_based': True, 'min_support': 2, 'shrinkage': 60}, 'k': 80}\n"
     ]
    }
   ],
   "source": [
    "param_grid  = {'sim_options':{'name': [\"pearson_baseline\"], \"user_based\": [True], \"min_support\": [2], \"shrinkage\": [60, 80, 80, 140]}, 'k': [5, 20, 40, 80]}\n",
    "\n",
    "gs = GridSearchCV(KNNBaseline, param_grid, measures=['rmse', 'mae'], cv=3)\n",
    "\n",
    "gs.fit(data)\n",
    "\n",
    "# best RMSE score\n",
    "print(gs.best_score['rmse'])\n",
    "\n",
    "# combination of parameters that gave the best RMSE score\n",
    "print(gs.best_params['rmse'])"
   ]
  },
  {
   "cell_type": "markdown",
   "metadata": {},
   "source": [
    "### Applying KNNBaseline User-User with best parameters"
   ]
  },
  {
   "cell_type": "code",
   "execution_count": 127,
   "metadata": {},
   "outputs": [
    {
     "name": "stdout",
     "output_type": "stream",
     "text": [
      "Estimating biases using sgd...\n",
      "Computing the pearson_baseline similarity matrix...\n",
      "Done computing similarity matrix.\n",
      "--------------------------------------------------\n",
      "TRAIN DATA\n",
      "RMSE = 0.3044975188091617\n",
      "MAPE = 8.090955152033715\n",
      "--------------------------------------------------\n",
      "TEST DATA\n",
      "RMSE = 1.067654798722828\n",
      "MAPE = 33.39814334762251\n",
      "--------------------------------------------------\n",
      "Time Taken = 0:00:28.081552\n"
     ]
    }
   ],
   "source": [
    "sim_options = {'name':'pearson_baseline', 'user_based':True, 'min_support':2, 'shrinkage':gs.best_params['rmse']['sim_options']['shrinkage']}\n",
    "\n",
    "bsl_options = {'method': 'sgd'} \n",
    "\n",
    "algo = KNNBaseline(k = gs.best_params['rmse']['k'], sim_options = sim_options, bsl_options=bsl_options)\n",
    "\n",
    "train_result, test_result = run_surprise(algo, trainset, testset, \"KNNBaseline_User\")\n",
    "\n",
    "model_train_evaluation[\"KNNBaseline_User\"] = train_result\n",
    "model_test_evaluation[\"KNNBaseline_User\"] = test_result"
   ]
  },
  {
   "cell_type": "markdown",
   "metadata": {},
   "source": [
    "### 4.2 Surprise KNN-Baseline with Item-Item."
   ]
  },
  {
   "cell_type": "markdown",
   "metadata": {},
   "source": [
    "#### Cross- Validation"
   ]
  },
  {
   "cell_type": "code",
   "execution_count": 128,
   "metadata": {},
   "outputs": [
    {
     "name": "stdout",
     "output_type": "stream",
     "text": [
      "Estimating biases using als...\n",
      "Computing the pearson_baseline similarity matrix...\n",
      "Done computing similarity matrix.\n",
      "Estimating biases using als...\n",
      "Computing the pearson_baseline similarity matrix...\n",
      "Done computing similarity matrix.\n",
      "Estimating biases using als...\n",
      "Computing the pearson_baseline similarity matrix...\n",
      "Done computing similarity matrix.\n",
      "Estimating biases using als...\n",
      "Computing the pearson_baseline similarity matrix...\n",
      "Done computing similarity matrix.\n",
      "Estimating biases using als...\n",
      "Computing the pearson_baseline similarity matrix...\n",
      "Done computing similarity matrix.\n",
      "Estimating biases using als...\n",
      "Computing the pearson_baseline similarity matrix...\n",
      "Done computing similarity matrix.\n",
      "Estimating biases using als...\n",
      "Computing the pearson_baseline similarity matrix...\n",
      "Done computing similarity matrix.\n",
      "Estimating biases using als...\n",
      "Computing the pearson_baseline similarity matrix...\n",
      "Done computing similarity matrix.\n",
      "Estimating biases using als...\n",
      "Computing the pearson_baseline similarity matrix...\n",
      "Done computing similarity matrix.\n",
      "Estimating biases using als...\n",
      "Computing the pearson_baseline similarity matrix...\n",
      "Done computing similarity matrix.\n",
      "Estimating biases using als...\n",
      "Computing the pearson_baseline similarity matrix...\n",
      "Done computing similarity matrix.\n",
      "Estimating biases using als...\n",
      "Computing the pearson_baseline similarity matrix...\n",
      "Done computing similarity matrix.\n",
      "Estimating biases using als...\n",
      "Computing the pearson_baseline similarity matrix...\n",
      "Done computing similarity matrix.\n",
      "Estimating biases using als...\n",
      "Computing the pearson_baseline similarity matrix...\n",
      "Done computing similarity matrix.\n",
      "Estimating biases using als...\n",
      "Computing the pearson_baseline similarity matrix...\n",
      "Done computing similarity matrix.\n",
      "Estimating biases using als...\n",
      "Computing the pearson_baseline similarity matrix...\n",
      "Done computing similarity matrix.\n",
      "Estimating biases using als...\n",
      "Computing the pearson_baseline similarity matrix...\n",
      "Done computing similarity matrix.\n",
      "Estimating biases using als...\n",
      "Computing the pearson_baseline similarity matrix...\n",
      "Done computing similarity matrix.\n",
      "Estimating biases using als...\n",
      "Computing the pearson_baseline similarity matrix...\n",
      "Done computing similarity matrix.\n",
      "Estimating biases using als...\n",
      "Computing the pearson_baseline similarity matrix...\n",
      "Done computing similarity matrix.\n",
      "Estimating biases using als...\n",
      "Computing the pearson_baseline similarity matrix...\n",
      "Done computing similarity matrix.\n",
      "Estimating biases using als...\n",
      "Computing the pearson_baseline similarity matrix...\n",
      "Done computing similarity matrix.\n",
      "Estimating biases using als...\n",
      "Computing the pearson_baseline similarity matrix...\n",
      "Done computing similarity matrix.\n",
      "Estimating biases using als...\n",
      "Computing the pearson_baseline similarity matrix...\n",
      "Done computing similarity matrix.\n",
      "Estimating biases using als...\n",
      "Computing the pearson_baseline similarity matrix...\n",
      "Done computing similarity matrix.\n",
      "Estimating biases using als...\n",
      "Computing the pearson_baseline similarity matrix...\n",
      "Done computing similarity matrix.\n",
      "Estimating biases using als...\n",
      "Computing the pearson_baseline similarity matrix...\n",
      "Done computing similarity matrix.\n",
      "Estimating biases using als...\n",
      "Computing the pearson_baseline similarity matrix...\n",
      "Done computing similarity matrix.\n",
      "Estimating biases using als...\n",
      "Computing the pearson_baseline similarity matrix...\n",
      "Done computing similarity matrix.\n",
      "Estimating biases using als...\n",
      "Computing the pearson_baseline similarity matrix...\n",
      "Done computing similarity matrix.\n",
      "Estimating biases using als...\n",
      "Computing the pearson_baseline similarity matrix...\n",
      "Done computing similarity matrix.\n",
      "Estimating biases using als...\n",
      "Computing the pearson_baseline similarity matrix...\n",
      "Done computing similarity matrix.\n",
      "Estimating biases using als...\n",
      "Computing the pearson_baseline similarity matrix...\n",
      "Done computing similarity matrix.\n",
      "Estimating biases using als...\n",
      "Computing the pearson_baseline similarity matrix...\n",
      "Done computing similarity matrix.\n",
      "Estimating biases using als...\n",
      "Computing the pearson_baseline similarity matrix...\n",
      "Done computing similarity matrix.\n",
      "Estimating biases using als...\n",
      "Computing the pearson_baseline similarity matrix...\n",
      "Done computing similarity matrix.\n",
      "Estimating biases using als...\n",
      "Computing the pearson_baseline similarity matrix...\n",
      "Done computing similarity matrix.\n",
      "Estimating biases using als...\n",
      "Computing the pearson_baseline similarity matrix...\n",
      "Done computing similarity matrix.\n",
      "Estimating biases using als...\n",
      "Computing the pearson_baseline similarity matrix...\n",
      "Done computing similarity matrix.\n",
      "Estimating biases using als...\n",
      "Computing the pearson_baseline similarity matrix...\n",
      "Done computing similarity matrix.\n",
      "Estimating biases using als...\n",
      "Computing the pearson_baseline similarity matrix...\n",
      "Done computing similarity matrix.\n",
      "Estimating biases using als...\n",
      "Computing the pearson_baseline similarity matrix...\n",
      "Done computing similarity matrix.\n",
      "Estimating biases using als...\n",
      "Computing the pearson_baseline similarity matrix...\n",
      "Done computing similarity matrix.\n",
      "Estimating biases using als...\n",
      "Computing the pearson_baseline similarity matrix...\n",
      "Done computing similarity matrix.\n",
      "Estimating biases using als...\n",
      "Computing the pearson_baseline similarity matrix...\n",
      "Done computing similarity matrix.\n",
      "Estimating biases using als...\n",
      "Computing the pearson_baseline similarity matrix...\n",
      "Done computing similarity matrix.\n",
      "Estimating biases using als...\n",
      "Computing the pearson_baseline similarity matrix...\n",
      "Done computing similarity matrix.\n",
      "Estimating biases using als...\n",
      "Computing the pearson_baseline similarity matrix...\n",
      "Done computing similarity matrix.\n",
      "1.0957296662933629\n",
      "{'sim_options': {'name': 'pearson_baseline', 'user_based': False, 'min_support': 2, 'shrinkage': 60}, 'k': 20}\n"
     ]
    }
   ],
   "source": [
    "param_grid  = {'sim_options':{'name': [\"pearson_baseline\"], \"user_based\": [False], \"min_support\": [2], \"shrinkage\": [60, 80, 80, 140]}, 'k': [5, 20, 40, 80]}\n",
    "\n",
    "gs = GridSearchCV(KNNBaseline, param_grid, measures=['rmse', 'mae'], cv=3)\n",
    "\n",
    "gs.fit(data)\n",
    "\n",
    "# best RMSE score\n",
    "print(gs.best_score['rmse'])\n",
    "\n",
    "# combination of parameters that gave the best RMSE score\n",
    "print(gs.best_params['rmse'])"
   ]
  },
  {
   "cell_type": "markdown",
   "metadata": {},
   "source": [
    "#### Applying KNNBaseline Item-Item with best parameters"
   ]
  },
  {
   "cell_type": "code",
   "execution_count": 129,
   "metadata": {},
   "outputs": [
    {
     "name": "stdout",
     "output_type": "stream",
     "text": [
      "Estimating biases using sgd...\n",
      "Computing the pearson_baseline similarity matrix...\n",
      "Done computing similarity matrix.\n",
      "--------------------------------------------------\n",
      "TRAIN DATA\n",
      "RMSE = 0.18165138844472184\n",
      "MAPE = 4.245794665995157\n",
      "--------------------------------------------------\n",
      "TEST DATA\n",
      "RMSE = 1.067654798722828\n",
      "MAPE = 33.39814334762251\n",
      "--------------------------------------------------\n",
      "Time Taken = 0:00:01.973037\n"
     ]
    }
   ],
   "source": [
    "sim_options = {'name':'pearson_baseline', 'user_based':False, 'min_support':2, 'shrinkage':gs.best_params['rmse']['sim_options']['shrinkage']}\n",
    "\n",
    "bsl_options = {'method': 'sgd'} \n",
    "\n",
    "algo = KNNBaseline(k = gs.best_params['rmse']['k'], sim_options = sim_options, bsl_options=bsl_options)\n",
    "\n",
    "train_result, test_result = run_surprise(algo, trainset, testset, \"KNNBaseline_Item\")\n",
    "\n",
    "model_train_evaluation[\"KNNBaseline_Item\"] = train_result\n",
    "model_test_evaluation[\"KNNBaseline_Item\"] = test_result"
   ]
  },
  {
   "cell_type": "markdown",
   "metadata": {},
   "source": [
    "## 5. XGBoost 13 Features + Surprise BaselineOnly + Surprise KNN Baseline"
   ]
  },
  {
   "cell_type": "markdown",
   "metadata": {},
   "source": [
    "### Adding predicted ratings from Surprise KNN Baseline model to our Train and Test Dataframe"
   ]
  },
  {
   "cell_type": "code",
   "execution_count": 130,
   "metadata": {},
   "outputs": [],
   "source": [
    "Train_Reg[\"KNNBaseline_User\"] = model_train_evaluation[\"KNNBaseline_User\"][\"Prediction\"]\n",
    "Train_Reg[\"KNNBaseline_Item\"] = model_train_evaluation[\"KNNBaseline_Item\"][\"Prediction\"]\n",
    "\n",
    "Test_Reg[\"KNNBaseline_User\"] = model_test_evaluation[\"KNNBaseline_User\"][\"Prediction\"]\n",
    "Test_Reg[\"KNNBaseline_Item\"] = model_test_evaluation[\"KNNBaseline_Item\"][\"Prediction\"]"
   ]
  },
  {
   "cell_type": "code",
   "execution_count": 131,
   "metadata": {},
   "outputs": [
    {
     "data": {
      "text/html": [
       "<div>\n",
       "<style scoped>\n",
       "    .dataframe tbody tr th:only-of-type {\n",
       "        vertical-align: middle;\n",
       "    }\n",
       "\n",
       "    .dataframe tbody tr th {\n",
       "        vertical-align: top;\n",
       "    }\n",
       "\n",
       "    .dataframe thead th {\n",
       "        text-align: right;\n",
       "    }\n",
       "</style>\n",
       "<table border=\"1\" class=\"dataframe\">\n",
       "  <thead>\n",
       "    <tr style=\"text-align: right;\">\n",
       "      <th></th>\n",
       "      <th>User_ID</th>\n",
       "      <th>Movie_ID</th>\n",
       "      <th>Global_Average</th>\n",
       "      <th>SUR1</th>\n",
       "      <th>SUR2</th>\n",
       "      <th>SUR3</th>\n",
       "      <th>SUR4</th>\n",
       "      <th>SUR5</th>\n",
       "      <th>SMR1</th>\n",
       "      <th>SMR2</th>\n",
       "      <th>SMR3</th>\n",
       "      <th>SMR4</th>\n",
       "      <th>SMR5</th>\n",
       "      <th>User_Average</th>\n",
       "      <th>Movie_Average</th>\n",
       "      <th>Rating</th>\n",
       "      <th>BaselineOnly</th>\n",
       "      <th>KNNBaseline_User</th>\n",
       "      <th>KNNBaseline_Item</th>\n",
       "    </tr>\n",
       "  </thead>\n",
       "  <tbody>\n",
       "    <tr>\n",
       "      <th>0</th>\n",
       "      <td>180921</td>\n",
       "      <td>4512</td>\n",
       "      <td>3.582804</td>\n",
       "      <td>3.0</td>\n",
       "      <td>2.0</td>\n",
       "      <td>1.0</td>\n",
       "      <td>2.0</td>\n",
       "      <td>1.0</td>\n",
       "      <td>4.0</td>\n",
       "      <td>3.0</td>\n",
       "      <td>4.0</td>\n",
       "      <td>2.0</td>\n",
       "      <td>2.0</td>\n",
       "      <td>2.900000</td>\n",
       "      <td>2.5</td>\n",
       "      <td>1</td>\n",
       "      <td>2.077166</td>\n",
       "      <td>1.193482</td>\n",
       "      <td>1.076235</td>\n",
       "    </tr>\n",
       "    <tr>\n",
       "      <th>1</th>\n",
       "      <td>210185</td>\n",
       "      <td>4512</td>\n",
       "      <td>3.582804</td>\n",
       "      <td>2.0</td>\n",
       "      <td>1.0</td>\n",
       "      <td>3.0</td>\n",
       "      <td>3.0</td>\n",
       "      <td>4.0</td>\n",
       "      <td>3.0</td>\n",
       "      <td>3.0</td>\n",
       "      <td>3.0</td>\n",
       "      <td>4.0</td>\n",
       "      <td>4.0</td>\n",
       "      <td>3.388889</td>\n",
       "      <td>2.5</td>\n",
       "      <td>2</td>\n",
       "      <td>2.916411</td>\n",
       "      <td>2.246199</td>\n",
       "      <td>2.014904</td>\n",
       "    </tr>\n",
       "    <tr>\n",
       "      <th>2</th>\n",
       "      <td>218038</td>\n",
       "      <td>4512</td>\n",
       "      <td>3.582804</td>\n",
       "      <td>2.0</td>\n",
       "      <td>3.0</td>\n",
       "      <td>3.0</td>\n",
       "      <td>2.0</td>\n",
       "      <td>4.0</td>\n",
       "      <td>4.0</td>\n",
       "      <td>4.0</td>\n",
       "      <td>4.0</td>\n",
       "      <td>3.0</td>\n",
       "      <td>5.0</td>\n",
       "      <td>4.250000</td>\n",
       "      <td>2.5</td>\n",
       "      <td>4</td>\n",
       "      <td>2.905264</td>\n",
       "      <td>3.727792</td>\n",
       "      <td>3.653776</td>\n",
       "    </tr>\n",
       "    <tr>\n",
       "      <th>3</th>\n",
       "      <td>221936</td>\n",
       "      <td>4512</td>\n",
       "      <td>3.582804</td>\n",
       "      <td>4.0</td>\n",
       "      <td>2.0</td>\n",
       "      <td>2.0</td>\n",
       "      <td>1.0</td>\n",
       "      <td>2.0</td>\n",
       "      <td>3.0</td>\n",
       "      <td>4.0</td>\n",
       "      <td>4.0</td>\n",
       "      <td>5.0</td>\n",
       "      <td>3.0</td>\n",
       "      <td>3.458333</td>\n",
       "      <td>2.5</td>\n",
       "      <td>3</td>\n",
       "      <td>3.290933</td>\n",
       "      <td>3.097569</td>\n",
       "      <td>2.961074</td>\n",
       "    </tr>\n",
       "    <tr>\n",
       "      <th>4</th>\n",
       "      <td>370736</td>\n",
       "      <td>4512</td>\n",
       "      <td>3.582804</td>\n",
       "      <td>2.0</td>\n",
       "      <td>4.0</td>\n",
       "      <td>1.0</td>\n",
       "      <td>2.0</td>\n",
       "      <td>2.0</td>\n",
       "      <td>4.0</td>\n",
       "      <td>4.0</td>\n",
       "      <td>4.0</td>\n",
       "      <td>4.0</td>\n",
       "      <td>5.0</td>\n",
       "      <td>4.038462</td>\n",
       "      <td>2.5</td>\n",
       "      <td>4</td>\n",
       "      <td>3.561135</td>\n",
       "      <td>3.042586</td>\n",
       "      <td>3.105870</td>\n",
       "    </tr>\n",
       "  </tbody>\n",
       "</table>\n",
       "</div>"
      ],
      "text/plain": [
       "   User_ID  Movie_ID  Global_Average  SUR1  SUR2  SUR3  SUR4  SUR5  SMR1  \\\n",
       "0   180921      4512        3.582804   3.0   2.0   1.0   2.0   1.0   4.0   \n",
       "1   210185      4512        3.582804   2.0   1.0   3.0   3.0   4.0   3.0   \n",
       "2   218038      4512        3.582804   2.0   3.0   3.0   2.0   4.0   4.0   \n",
       "3   221936      4512        3.582804   4.0   2.0   2.0   1.0   2.0   3.0   \n",
       "4   370736      4512        3.582804   2.0   4.0   1.0   2.0   2.0   4.0   \n",
       "\n",
       "   SMR2  SMR3  SMR4  SMR5  User_Average  Movie_Average  Rating  BaselineOnly  \\\n",
       "0   3.0   4.0   2.0   2.0      2.900000            2.5       1      2.077166   \n",
       "1   3.0   3.0   4.0   4.0      3.388889            2.5       2      2.916411   \n",
       "2   4.0   4.0   3.0   5.0      4.250000            2.5       4      2.905264   \n",
       "3   4.0   4.0   5.0   3.0      3.458333            2.5       3      3.290933   \n",
       "4   4.0   4.0   4.0   5.0      4.038462            2.5       4      3.561135   \n",
       "\n",
       "   KNNBaseline_User  KNNBaseline_Item  \n",
       "0          1.193482          1.076235  \n",
       "1          2.246199          2.014904  \n",
       "2          3.727792          3.653776  \n",
       "3          3.097569          2.961074  \n",
       "4          3.042586          3.105870  "
      ]
     },
     "execution_count": 131,
     "metadata": {},
     "output_type": "execute_result"
    }
   ],
   "source": [
    "Train_Reg.head()"
   ]
  },
  {
   "cell_type": "code",
   "execution_count": 132,
   "metadata": {},
   "outputs": [
    {
     "name": "stdout",
     "output_type": "stream",
     "text": [
      "Number of nan values in Train Data 0\n"
     ]
    }
   ],
   "source": [
    "print(\"Number of nan values in Train Data \"+str(Train_Reg.isnull().sum().sum()))"
   ]
  },
  {
   "cell_type": "code",
   "execution_count": 133,
   "metadata": {},
   "outputs": [
    {
     "data": {
      "text/html": [
       "<div>\n",
       "<style scoped>\n",
       "    .dataframe tbody tr th:only-of-type {\n",
       "        vertical-align: middle;\n",
       "    }\n",
       "\n",
       "    .dataframe tbody tr th {\n",
       "        vertical-align: top;\n",
       "    }\n",
       "\n",
       "    .dataframe thead th {\n",
       "        text-align: right;\n",
       "    }\n",
       "</style>\n",
       "<table border=\"1\" class=\"dataframe\">\n",
       "  <thead>\n",
       "    <tr style=\"text-align: right;\">\n",
       "      <th></th>\n",
       "      <th>User_ID</th>\n",
       "      <th>Movie_ID</th>\n",
       "      <th>Global_Average</th>\n",
       "      <th>SUR1</th>\n",
       "      <th>SUR2</th>\n",
       "      <th>SUR3</th>\n",
       "      <th>SUR4</th>\n",
       "      <th>SUR5</th>\n",
       "      <th>SMR1</th>\n",
       "      <th>SMR2</th>\n",
       "      <th>SMR3</th>\n",
       "      <th>SMR4</th>\n",
       "      <th>SMR5</th>\n",
       "      <th>User_Average</th>\n",
       "      <th>Movie_Average</th>\n",
       "      <th>Rating</th>\n",
       "      <th>BaselineOnly</th>\n",
       "      <th>KNNBaseline_User</th>\n",
       "      <th>KNNBaseline_Item</th>\n",
       "    </tr>\n",
       "  </thead>\n",
       "  <tbody>\n",
       "    <tr>\n",
       "      <th>0</th>\n",
       "      <td>464626</td>\n",
       "      <td>4614</td>\n",
       "      <td>3.582804</td>\n",
       "      <td>3.582804</td>\n",
       "      <td>3.582804</td>\n",
       "      <td>3.582804</td>\n",
       "      <td>3.582804</td>\n",
       "      <td>3.582804</td>\n",
       "      <td>3.582804</td>\n",
       "      <td>3.582804</td>\n",
       "      <td>3.582804</td>\n",
       "      <td>3.582804</td>\n",
       "      <td>3.582804</td>\n",
       "      <td>3.582804</td>\n",
       "      <td>3.582804</td>\n",
       "      <td>3</td>\n",
       "      <td>3.582804</td>\n",
       "      <td>3.582804</td>\n",
       "      <td>3.582804</td>\n",
       "    </tr>\n",
       "    <tr>\n",
       "      <th>1</th>\n",
       "      <td>1815614</td>\n",
       "      <td>4627</td>\n",
       "      <td>3.582804</td>\n",
       "      <td>3.582804</td>\n",
       "      <td>3.582804</td>\n",
       "      <td>3.582804</td>\n",
       "      <td>3.582804</td>\n",
       "      <td>3.582804</td>\n",
       "      <td>3.582804</td>\n",
       "      <td>3.582804</td>\n",
       "      <td>3.582804</td>\n",
       "      <td>3.582804</td>\n",
       "      <td>3.582804</td>\n",
       "      <td>3.582804</td>\n",
       "      <td>3.582804</td>\n",
       "      <td>3</td>\n",
       "      <td>3.582804</td>\n",
       "      <td>3.582804</td>\n",
       "      <td>3.582804</td>\n",
       "    </tr>\n",
       "    <tr>\n",
       "      <th>2</th>\n",
       "      <td>2298717</td>\n",
       "      <td>4627</td>\n",
       "      <td>3.582804</td>\n",
       "      <td>3.582804</td>\n",
       "      <td>3.582804</td>\n",
       "      <td>3.582804</td>\n",
       "      <td>3.582804</td>\n",
       "      <td>3.582804</td>\n",
       "      <td>3.582804</td>\n",
       "      <td>3.582804</td>\n",
       "      <td>3.582804</td>\n",
       "      <td>3.582804</td>\n",
       "      <td>3.582804</td>\n",
       "      <td>3.582804</td>\n",
       "      <td>3.582804</td>\n",
       "      <td>5</td>\n",
       "      <td>3.582804</td>\n",
       "      <td>3.582804</td>\n",
       "      <td>3.582804</td>\n",
       "    </tr>\n",
       "    <tr>\n",
       "      <th>3</th>\n",
       "      <td>2532402</td>\n",
       "      <td>4627</td>\n",
       "      <td>3.582804</td>\n",
       "      <td>3.582804</td>\n",
       "      <td>3.582804</td>\n",
       "      <td>3.582804</td>\n",
       "      <td>3.582804</td>\n",
       "      <td>3.582804</td>\n",
       "      <td>3.582804</td>\n",
       "      <td>3.582804</td>\n",
       "      <td>3.582804</td>\n",
       "      <td>3.582804</td>\n",
       "      <td>3.582804</td>\n",
       "      <td>3.582804</td>\n",
       "      <td>3.582804</td>\n",
       "      <td>4</td>\n",
       "      <td>3.582804</td>\n",
       "      <td>3.582804</td>\n",
       "      <td>3.582804</td>\n",
       "    </tr>\n",
       "    <tr>\n",
       "      <th>4</th>\n",
       "      <td>2027</td>\n",
       "      <td>4798</td>\n",
       "      <td>3.582804</td>\n",
       "      <td>3.582804</td>\n",
       "      <td>3.582804</td>\n",
       "      <td>3.582804</td>\n",
       "      <td>3.582804</td>\n",
       "      <td>3.582804</td>\n",
       "      <td>3.582804</td>\n",
       "      <td>3.582804</td>\n",
       "      <td>3.582804</td>\n",
       "      <td>3.582804</td>\n",
       "      <td>3.582804</td>\n",
       "      <td>3.582804</td>\n",
       "      <td>3.582804</td>\n",
       "      <td>5</td>\n",
       "      <td>3.582804</td>\n",
       "      <td>3.582804</td>\n",
       "      <td>3.582804</td>\n",
       "    </tr>\n",
       "  </tbody>\n",
       "</table>\n",
       "</div>"
      ],
      "text/plain": [
       "   User_ID  Movie_ID  Global_Average      SUR1      SUR2      SUR3      SUR4  \\\n",
       "0   464626      4614        3.582804  3.582804  3.582804  3.582804  3.582804   \n",
       "1  1815614      4627        3.582804  3.582804  3.582804  3.582804  3.582804   \n",
       "2  2298717      4627        3.582804  3.582804  3.582804  3.582804  3.582804   \n",
       "3  2532402      4627        3.582804  3.582804  3.582804  3.582804  3.582804   \n",
       "4     2027      4798        3.582804  3.582804  3.582804  3.582804  3.582804   \n",
       "\n",
       "       SUR5      SMR1      SMR2      SMR3      SMR4      SMR5  User_Average  \\\n",
       "0  3.582804  3.582804  3.582804  3.582804  3.582804  3.582804      3.582804   \n",
       "1  3.582804  3.582804  3.582804  3.582804  3.582804  3.582804      3.582804   \n",
       "2  3.582804  3.582804  3.582804  3.582804  3.582804  3.582804      3.582804   \n",
       "3  3.582804  3.582804  3.582804  3.582804  3.582804  3.582804      3.582804   \n",
       "4  3.582804  3.582804  3.582804  3.582804  3.582804  3.582804      3.582804   \n",
       "\n",
       "   Movie_Average  Rating  BaselineOnly  KNNBaseline_User  KNNBaseline_Item  \n",
       "0       3.582804       3      3.582804          3.582804          3.582804  \n",
       "1       3.582804       3      3.582804          3.582804          3.582804  \n",
       "2       3.582804       5      3.582804          3.582804          3.582804  \n",
       "3       3.582804       4      3.582804          3.582804          3.582804  \n",
       "4       3.582804       5      3.582804          3.582804          3.582804  "
      ]
     },
     "execution_count": 133,
     "metadata": {},
     "output_type": "execute_result"
    }
   ],
   "source": [
    "Test_Reg.head()"
   ]
  },
  {
   "cell_type": "code",
   "execution_count": 134,
   "metadata": {},
   "outputs": [
    {
     "name": "stdout",
     "output_type": "stream",
     "text": [
      "Number of nan values in Test Data 0\n"
     ]
    }
   ],
   "source": [
    "print(\"Number of nan values in Test Data \"+str(Test_Reg.isnull().sum().sum()))"
   ]
  },
  {
   "cell_type": "code",
   "execution_count": 135,
   "metadata": {},
   "outputs": [
    {
     "name": "stdout",
     "output_type": "stream",
     "text": [
      "[00:32:22] WARNING: ..\\src\\learner.cc:576: \n",
      "Parameters: { \"silent\" } might not be used.\n",
      "\n",
      "  This could be a false alarm, with some parameters getting used by language bindings but\n",
      "  then being mistakenly passed down to XGBoost core, or some parameter actually being used\n",
      "  but getting flagged wrongly here. Please open an issue if you find any such cases.\n",
      "\n",
      "\n",
      "--------------------------------------------------\n",
      "TRAIN DATA\n",
      "RMSE = 0.5884776139759752\n",
      "MAPE = 16.365784406661987\n",
      "--------------------------------------------------\n",
      "TEST DATA\n",
      "RMSE = 1.146172457501923\n",
      "MAPE = 31.64374059974294\n",
      "--------------------------------------------------\n",
      "Time Taken = 0:00:01.912037\n"
     ]
    },
    {
     "data": {
      "image/png": "[encoded data removed]",
      "text/plain": [
       "<Figure size 576x432 with 1 Axes>"
      ]
     },
     "metadata": {},
     "output_type": "display_data"
    }
   ],
   "source": [
    "x_train = Train_Reg.drop([\"User_ID\", \"Movie_ID\", \"Rating\"], axis = 1)\n",
    "\n",
    "x_test = Test_Reg.drop([\"User_ID\", \"Movie_ID\", \"Rating\"], axis = 1)\n",
    "\n",
    "y_train = Train_Reg[\"Rating\"]\n",
    "\n",
    "y_test = Test_Reg[\"Rating\"]\n",
    "\n",
    "train_result, test_result = train_test_xgboost(x_train, x_test, y_train, y_test, \"XGB_BSL_KNN\")\n",
    "\n",
    "model_train_evaluation[\"XGB_BSL_KNN\"] = train_result\n",
    "model_test_evaluation[\"XGB_BSL_KNN\"] = test_result"
   ]
  },
  {
   "cell_type": "markdown",
   "metadata": {},
   "source": [
    "## 6. Matrix Factorization SVD "
   ]
  },
  {
   "cell_type": "markdown",
   "metadata": {},
   "source": [
    "#### Prediction $\\hat{r}_{ui}$ is set as:<br>\n",
    "\n",
    "$\\large \\hat{r}_{ui} = \\mu + b_u + b_i + q_i^Tp_u$\n",
    "- $\\pmb q_i$ - Representation of item(movie) in latent factor space\n",
    "        \n",
    "- $\\pmb p_u$ - Representation of user in new latent factor space<br>\n",
    "\n",
    "__If user u is unknown, then the bias $b_u$ and the factors $p_u$ are assumed to be zero. The same applies for item i with $b_i$ and $q_i$.__<br><br><br>\n",
    "\n",
    "\n",
    "#### Optimization Problem<br>\n",
    "\n",
    "$\\large \\sum_{r_{ui} \\in R_{train}} \\left(r_{ui} - \\hat{r}_{ui} \\right)^2 +\n",
    "\\lambda\\left(b_i^2 + b_u^2 + ||q_i||^2 + ||p_u||^2\\right) \\left[minimize\\; b_u, b_i, q_i, p_u \\right]$\n",
    "<br><br><br>\n",
    "\n",
    "SVD Documentation: https://surprise.readthedocs.io/en/stable/matrix_factorization.html"
   ]
  },
  {
   "cell_type": "markdown",
   "metadata": {},
   "source": [
    "#### Cross- Validation"
   ]
  },
  {
   "cell_type": "code",
   "execution_count": 136,
   "metadata": {},
   "outputs": [
    {
     "name": "stdout",
     "output_type": "stream",
     "text": [
      "0.9928795503593242\n",
      "{'n_factors': 7}\n"
     ]
    }
   ],
   "source": [
    "param_grid  = {'n_factors': [5,7,10,15,20,25,35,50,70,90]}   #here, n_factors is the equivalent to dimension 'd' when matrix 'A'\n",
    "#is broken into 'b' and 'c'. So, matrix 'A' will be of dimension n*m. So, matrices 'b' and 'c' will be of dimension n*d and m*d.\n",
    "\n",
    "gs = GridSearchCV(SVD, param_grid, measures=['rmse', 'mae'], cv=3)\n",
    "\n",
    "gs.fit(data)\n",
    "\n",
    "# best RMSE score\n",
    "print(gs.best_score['rmse'])\n",
    "\n",
    "# combination of parameters that gave the best RMSE score\n",
    "print(gs.best_params['rmse'])"
   ]
  },
  {
   "cell_type": "markdown",
   "metadata": {},
   "source": [
    "### Applying SVD with best parameters"
   ]
  },
  {
   "cell_type": "code",
   "execution_count": 137,
   "metadata": {},
   "outputs": [
    {
     "name": "stdout",
     "output_type": "stream",
     "text": [
      "Processing epoch 0\n",
      "Processing epoch 1\n",
      "Processing epoch 2\n",
      "Processing epoch 3\n",
      "Processing epoch 4\n",
      "Processing epoch 5\n",
      "Processing epoch 6\n",
      "Processing epoch 7\n",
      "Processing epoch 8\n",
      "Processing epoch 9\n",
      "Processing epoch 10\n",
      "Processing epoch 11\n",
      "Processing epoch 12\n",
      "Processing epoch 13\n",
      "Processing epoch 14\n",
      "Processing epoch 15\n",
      "Processing epoch 16\n",
      "Processing epoch 17\n",
      "Processing epoch 18\n",
      "Processing epoch 19\n",
      "--------------------------------------------------\n",
      "TRAIN DATA\n",
      "RMSE = 0.8915292018008784\n",
      "MAPE = 27.929401130209502\n",
      "--------------------------------------------------\n",
      "TEST DATA\n",
      "RMSE = 1.0676633276455576\n",
      "MAPE = 33.39843901285594\n",
      "--------------------------------------------------\n",
      "Time Taken = 0:00:01.292639\n"
     ]
    }
   ],
   "source": [
    "algo = SVD(n_factors = gs.best_params['rmse']['n_factors'], biased=True, verbose=True)\n",
    "\n",
    "train_result, test_result = run_surprise(algo, trainset, testset, \"SVD\")\n",
    "\n",
    "model_train_evaluation[\"SVD\"] = train_result\n",
    "model_test_evaluation[\"SVD\"] = test_result"
   ]
  },
  {
   "cell_type": "markdown",
   "metadata": {},
   "source": [
    "## 7. Matrix Factorization SVDpp with implicit feedback"
   ]
  },
  {
   "cell_type": "markdown",
   "metadata": {},
   "source": [
    "#### Prediction $\\hat{r}_{ui}$ is set as:<br>\n",
    "$\\large \\hat{r}_{ui} = \\mu + b_u + b_i + q_i^T\\left(p_u +\n",
    "|I_u|^{-\\frac{1}{2}} \\sum_{j \\in I_u}y_j\\right)$<br><br>\n",
    "\n",
    " - $ \\pmb{I_u}$ --- the set of all items rated by user u. $|I_u|$ is a length of that set.<br>\n",
    "\n",
    "-  $\\pmb{y_j}$ --- Our new set of item factors that capture implicit ratings. Here, an implicit rating describes the fact that a user u rated an item j, regardless of the rating value. $y_i$ is an item vector. For every item j, there is an item vector $y_j$ which is an implicit feedback. Implicit feedback indirectly reflects opinion by observing user behavior including purchase history, browsing history, search patterns, or even mouse movements. Implicit feedback usually denotes the presence or absence of an event. For example, there is a movie 10 where user has just checked the details of the movie and spend some time there, will contribute to implicit rating. Now, since here Netflix has not provided us the details that for how long a user has spend time on the movie, so here we are considering the fact that even if a user has rated some movie then it means that he has spend some time on that movie which contributes to implicit rating.<br><br>\n",
    "\n",
    "__If user u is unknown, then the bias $b_u$ and the factors $p_u$ are assumed to be zero. The same applies for item i with $b_i$, $q_i$ and $y_i$.__<br><br><br>\n",
    "\n",
    "#### Optimization Problem\n",
    "\n",
    "$\\large \\sum_{r_{ui} \\in R_{train}} \\left(r_{ui} - \\hat{r}_{ui} \\right)^2 +\n",
    "\\lambda\\left(b_i^2 + b_u^2 + ||q_i||^2 + ||p_u||^2 + ||y_j||^2\\right).\\left[minimize\\; b_u, b_i, q_i, p_u, y_j \\right]$<br><br>\n",
    "\n",
    "SVDpp Documentation: https://surprise.readthedocs.io/en/stable/matrix_factorization.html"
   ]
  },
  {
   "cell_type": "markdown",
   "metadata": {},
   "source": [
    "#### Cross- Validation"
   ]
  },
  {
   "cell_type": "code",
   "execution_count": 138,
   "metadata": {},
   "outputs": [
    {
     "name": "stdout",
     "output_type": "stream",
     "text": [
      "0.9857877246085246\n",
      "{'n_factors': 10, 'lr_all': 0.006}\n"
     ]
    }
   ],
   "source": [
    "param_grid = {'n_factors': [10, 30, 50, 80, 100], 'lr_all': [0.002, 0.006, 0.018, 0.054, 0.10]}\n",
    "\n",
    "gs = GridSearchCV(SVDpp, param_grid, measures=['rmse', 'mae'], cv=3)\n",
    "\n",
    "gs.fit(data)\n",
    "\n",
    "# best RMSE score\n",
    "print(gs.best_score['rmse'])\n",
    "\n",
    "# combination of parameters that gave the best RMSE score\n",
    "print(gs.best_params['rmse'])"
   ]
  },
  {
   "cell_type": "markdown",
   "metadata": {},
   "source": [
    "#### Applying SVDpp with best parameters"
   ]
  },
  {
   "cell_type": "code",
   "execution_count": 139,
   "metadata": {},
   "outputs": [
    {
     "name": "stdout",
     "output_type": "stream",
     "text": [
      " processing epoch 0\n",
      " processing epoch 1\n",
      " processing epoch 2\n",
      " processing epoch 3\n",
      " processing epoch 4\n",
      " processing epoch 5\n",
      " processing epoch 6\n",
      " processing epoch 7\n",
      " processing epoch 8\n",
      " processing epoch 9\n",
      " processing epoch 10\n",
      " processing epoch 11\n",
      " processing epoch 12\n",
      " processing epoch 13\n",
      " processing epoch 14\n",
      " processing epoch 15\n",
      " processing epoch 16\n",
      " processing epoch 17\n",
      " processing epoch 18\n",
      " processing epoch 19\n",
      "--------------------------------------------------\n",
      "TRAIN DATA\n",
      "RMSE = 0.793069836701297\n",
      "MAPE = 24.331089234704926\n",
      "--------------------------------------------------\n",
      "TEST DATA\n",
      "RMSE = 1.0676735672268267\n",
      "MAPE = 33.3956791755603\n",
      "--------------------------------------------------\n",
      "Time Taken = 0:00:12.400730\n"
     ]
    }
   ],
   "source": [
    "algo = SVDpp(n_factors = gs.best_params['rmse']['n_factors'], lr_all = gs.best_params['rmse'][\"lr_all\"], verbose=True)\n",
    "\n",
    "train_result, test_result = run_surprise(algo, trainset, testset, \"SVDpp\")\n",
    "\n",
    "model_train_evaluation[\"SVDpp\"] = train_result\n",
    "model_test_evaluation[\"SVDpp\"] = test_result"
   ]
  },
  {
   "cell_type": "markdown",
   "metadata": {},
   "source": [
    "## 8. XGBoost 13 Features + Surprise BaselineOnly + Surprise KNN Baseline + SVD + SVDpp"
   ]
  },
  {
   "cell_type": "code",
   "execution_count": 140,
   "metadata": {},
   "outputs": [],
   "source": [
    "Train_Reg[\"SVD\"] = model_train_evaluation[\"SVD\"][\"Prediction\"]\n",
    "Train_Reg[\"SVDpp\"] = model_train_evaluation[\"SVDpp\"][\"Prediction\"]\n",
    "\n",
    "Test_Reg[\"SVD\"] = model_test_evaluation[\"SVD\"][\"Prediction\"]\n",
    "Test_Reg[\"SVDpp\"] = model_test_evaluation[\"SVDpp\"][\"Prediction\"]"
   ]
  },
  {
   "cell_type": "code",
   "execution_count": 141,
   "metadata": {},
   "outputs": [
    {
     "data": {
      "text/html": [
       "<div>\n",
       "<style scoped>\n",
       "    .dataframe tbody tr th:only-of-type {\n",
       "        vertical-align: middle;\n",
       "    }\n",
       "\n",
       "    .dataframe tbody tr th {\n",
       "        vertical-align: top;\n",
       "    }\n",
       "\n",
       "    .dataframe thead th {\n",
       "        text-align: right;\n",
       "    }\n",
       "</style>\n",
       "<table border=\"1\" class=\"dataframe\">\n",
       "  <thead>\n",
       "    <tr style=\"text-align: right;\">\n",
       "      <th></th>\n",
       "      <th>User_ID</th>\n",
       "      <th>Movie_ID</th>\n",
       "      <th>Global_Average</th>\n",
       "      <th>SUR1</th>\n",
       "      <th>SUR2</th>\n",
       "      <th>SUR3</th>\n",
       "      <th>SUR4</th>\n",
       "      <th>SUR5</th>\n",
       "      <th>SMR1</th>\n",
       "      <th>SMR2</th>\n",
       "      <th>...</th>\n",
       "      <th>SMR4</th>\n",
       "      <th>SMR5</th>\n",
       "      <th>User_Average</th>\n",
       "      <th>Movie_Average</th>\n",
       "      <th>Rating</th>\n",
       "      <th>BaselineOnly</th>\n",
       "      <th>KNNBaseline_User</th>\n",
       "      <th>KNNBaseline_Item</th>\n",
       "      <th>SVD</th>\n",
       "      <th>SVDpp</th>\n",
       "    </tr>\n",
       "  </thead>\n",
       "  <tbody>\n",
       "    <tr>\n",
       "      <th>0</th>\n",
       "      <td>180921</td>\n",
       "      <td>4512</td>\n",
       "      <td>3.582804</td>\n",
       "      <td>3.0</td>\n",
       "      <td>2.0</td>\n",
       "      <td>1.0</td>\n",
       "      <td>2.0</td>\n",
       "      <td>1.0</td>\n",
       "      <td>4.0</td>\n",
       "      <td>3.0</td>\n",
       "      <td>...</td>\n",
       "      <td>2.0</td>\n",
       "      <td>2.0</td>\n",
       "      <td>2.900000</td>\n",
       "      <td>2.5</td>\n",
       "      <td>1</td>\n",
       "      <td>2.077166</td>\n",
       "      <td>1.193482</td>\n",
       "      <td>1.076235</td>\n",
       "      <td>2.237030</td>\n",
       "      <td>2.231730</td>\n",
       "    </tr>\n",
       "    <tr>\n",
       "      <th>1</th>\n",
       "      <td>210185</td>\n",
       "      <td>4512</td>\n",
       "      <td>3.582804</td>\n",
       "      <td>2.0</td>\n",
       "      <td>1.0</td>\n",
       "      <td>3.0</td>\n",
       "      <td>3.0</td>\n",
       "      <td>4.0</td>\n",
       "      <td>3.0</td>\n",
       "      <td>3.0</td>\n",
       "      <td>...</td>\n",
       "      <td>4.0</td>\n",
       "      <td>4.0</td>\n",
       "      <td>3.388889</td>\n",
       "      <td>2.5</td>\n",
       "      <td>2</td>\n",
       "      <td>2.916411</td>\n",
       "      <td>2.246199</td>\n",
       "      <td>2.014904</td>\n",
       "      <td>3.050194</td>\n",
       "      <td>2.752852</td>\n",
       "    </tr>\n",
       "    <tr>\n",
       "      <th>2</th>\n",
       "      <td>218038</td>\n",
       "      <td>4512</td>\n",
       "      <td>3.582804</td>\n",
       "      <td>2.0</td>\n",
       "      <td>3.0</td>\n",
       "      <td>3.0</td>\n",
       "      <td>2.0</td>\n",
       "      <td>4.0</td>\n",
       "      <td>4.0</td>\n",
       "      <td>4.0</td>\n",
       "      <td>...</td>\n",
       "      <td>3.0</td>\n",
       "      <td>5.0</td>\n",
       "      <td>4.250000</td>\n",
       "      <td>2.5</td>\n",
       "      <td>4</td>\n",
       "      <td>2.905264</td>\n",
       "      <td>3.727792</td>\n",
       "      <td>3.653776</td>\n",
       "      <td>3.037636</td>\n",
       "      <td>3.159202</td>\n",
       "    </tr>\n",
       "    <tr>\n",
       "      <th>3</th>\n",
       "      <td>221936</td>\n",
       "      <td>4512</td>\n",
       "      <td>3.582804</td>\n",
       "      <td>4.0</td>\n",
       "      <td>2.0</td>\n",
       "      <td>2.0</td>\n",
       "      <td>1.0</td>\n",
       "      <td>2.0</td>\n",
       "      <td>3.0</td>\n",
       "      <td>4.0</td>\n",
       "      <td>...</td>\n",
       "      <td>5.0</td>\n",
       "      <td>3.0</td>\n",
       "      <td>3.458333</td>\n",
       "      <td>2.5</td>\n",
       "      <td>3</td>\n",
       "      <td>3.290933</td>\n",
       "      <td>3.097569</td>\n",
       "      <td>2.961074</td>\n",
       "      <td>3.443622</td>\n",
       "      <td>3.291811</td>\n",
       "    </tr>\n",
       "    <tr>\n",
       "      <th>4</th>\n",
       "      <td>370736</td>\n",
       "      <td>4512</td>\n",
       "      <td>3.582804</td>\n",
       "      <td>2.0</td>\n",
       "      <td>4.0</td>\n",
       "      <td>1.0</td>\n",
       "      <td>2.0</td>\n",
       "      <td>2.0</td>\n",
       "      <td>4.0</td>\n",
       "      <td>4.0</td>\n",
       "      <td>...</td>\n",
       "      <td>4.0</td>\n",
       "      <td>5.0</td>\n",
       "      <td>4.038462</td>\n",
       "      <td>2.5</td>\n",
       "      <td>4</td>\n",
       "      <td>3.561135</td>\n",
       "      <td>3.042586</td>\n",
       "      <td>3.105870</td>\n",
       "      <td>3.806972</td>\n",
       "      <td>3.495492</td>\n",
       "    </tr>\n",
       "  </tbody>\n",
       "</table>\n",
       "<p>5 rows × 21 columns</p>\n",
       "</div>"
      ],
      "text/plain": [
       "   User_ID  Movie_ID  Global_Average  SUR1  SUR2  SUR3  SUR4  SUR5  SMR1  \\\n",
       "0   180921      4512        3.582804   3.0   2.0   1.0   2.0   1.0   4.0   \n",
       "1   210185      4512        3.582804   2.0   1.0   3.0   3.0   4.0   3.0   \n",
       "2   218038      4512        3.582804   2.0   3.0   3.0   2.0   4.0   4.0   \n",
       "3   221936      4512        3.582804   4.0   2.0   2.0   1.0   2.0   3.0   \n",
       "4   370736      4512        3.582804   2.0   4.0   1.0   2.0   2.0   4.0   \n",
       "\n",
       "   SMR2  ...  SMR4  SMR5  User_Average  Movie_Average  Rating  BaselineOnly  \\\n",
       "0   3.0  ...   2.0   2.0      2.900000            2.5       1      2.077166   \n",
       "1   3.0  ...   4.0   4.0      3.388889            2.5       2      2.916411   \n",
       "2   4.0  ...   3.0   5.0      4.250000            2.5       4      2.905264   \n",
       "3   4.0  ...   5.0   3.0      3.458333            2.5       3      3.290933   \n",
       "4   4.0  ...   4.0   5.0      4.038462            2.5       4      3.561135   \n",
       "\n",
       "   KNNBaseline_User  KNNBaseline_Item       SVD     SVDpp  \n",
       "0          1.193482          1.076235  2.237030  2.231730  \n",
       "1          2.246199          2.014904  3.050194  2.752852  \n",
       "2          3.727792          3.653776  3.037636  3.159202  \n",
       "3          3.097569          2.961074  3.443622  3.291811  \n",
       "4          3.042586          3.105870  3.806972  3.495492  \n",
       "\n",
       "[5 rows x 21 columns]"
      ]
     },
     "execution_count": 141,
     "metadata": {},
     "output_type": "execute_result"
    }
   ],
   "source": [
    "Train_Reg.head()"
   ]
  },
  {
   "cell_type": "code",
   "execution_count": 142,
   "metadata": {},
   "outputs": [
    {
     "name": "stdout",
     "output_type": "stream",
     "text": [
      "Number of nan values in Train Data 0\n"
     ]
    }
   ],
   "source": [
    "print(\"Number of nan values in Train Data \"+str(Train_Reg.isnull().sum().sum()))"
   ]
  },
  {
   "cell_type": "code",
   "execution_count": 143,
   "metadata": {},
   "outputs": [
    {
     "data": {
      "text/html": [
       "<div>\n",
       "<style scoped>\n",
       "    .dataframe tbody tr th:only-of-type {\n",
       "        vertical-align: middle;\n",
       "    }\n",
       "\n",
       "    .dataframe tbody tr th {\n",
       "        vertical-align: top;\n",
       "    }\n",
       "\n",
       "    .dataframe thead th {\n",
       "        text-align: right;\n",
       "    }\n",
       "</style>\n",
       "<table border=\"1\" class=\"dataframe\">\n",
       "  <thead>\n",
       "    <tr style=\"text-align: right;\">\n",
       "      <th></th>\n",
       "      <th>User_ID</th>\n",
       "      <th>Movie_ID</th>\n",
       "      <th>Global_Average</th>\n",
       "      <th>SUR1</th>\n",
       "      <th>SUR2</th>\n",
       "      <th>SUR3</th>\n",
       "      <th>SUR4</th>\n",
       "      <th>SUR5</th>\n",
       "      <th>SMR1</th>\n",
       "      <th>SMR2</th>\n",
       "      <th>...</th>\n",
       "      <th>SMR4</th>\n",
       "      <th>SMR5</th>\n",
       "      <th>User_Average</th>\n",
       "      <th>Movie_Average</th>\n",
       "      <th>Rating</th>\n",
       "      <th>BaselineOnly</th>\n",
       "      <th>KNNBaseline_User</th>\n",
       "      <th>KNNBaseline_Item</th>\n",
       "      <th>SVD</th>\n",
       "      <th>SVDpp</th>\n",
       "    </tr>\n",
       "  </thead>\n",
       "  <tbody>\n",
       "    <tr>\n",
       "      <th>0</th>\n",
       "      <td>464626</td>\n",
       "      <td>4614</td>\n",
       "      <td>3.582804</td>\n",
       "      <td>3.582804</td>\n",
       "      <td>3.582804</td>\n",
       "      <td>3.582804</td>\n",
       "      <td>3.582804</td>\n",
       "      <td>3.582804</td>\n",
       "      <td>3.582804</td>\n",
       "      <td>3.582804</td>\n",
       "      <td>...</td>\n",
       "      <td>3.582804</td>\n",
       "      <td>3.582804</td>\n",
       "      <td>3.582804</td>\n",
       "      <td>3.582804</td>\n",
       "      <td>3</td>\n",
       "      <td>3.582804</td>\n",
       "      <td>3.582804</td>\n",
       "      <td>3.582804</td>\n",
       "      <td>3.582804</td>\n",
       "      <td>3.582804</td>\n",
       "    </tr>\n",
       "    <tr>\n",
       "      <th>1</th>\n",
       "      <td>1815614</td>\n",
       "      <td>4627</td>\n",
       "      <td>3.582804</td>\n",
       "      <td>3.582804</td>\n",
       "      <td>3.582804</td>\n",
       "      <td>3.582804</td>\n",
       "      <td>3.582804</td>\n",
       "      <td>3.582804</td>\n",
       "      <td>3.582804</td>\n",
       "      <td>3.582804</td>\n",
       "      <td>...</td>\n",
       "      <td>3.582804</td>\n",
       "      <td>3.582804</td>\n",
       "      <td>3.582804</td>\n",
       "      <td>3.582804</td>\n",
       "      <td>3</td>\n",
       "      <td>3.582804</td>\n",
       "      <td>3.582804</td>\n",
       "      <td>3.582804</td>\n",
       "      <td>3.582804</td>\n",
       "      <td>3.582804</td>\n",
       "    </tr>\n",
       "    <tr>\n",
       "      <th>2</th>\n",
       "      <td>2298717</td>\n",
       "      <td>4627</td>\n",
       "      <td>3.582804</td>\n",
       "      <td>3.582804</td>\n",
       "      <td>3.582804</td>\n",
       "      <td>3.582804</td>\n",
       "      <td>3.582804</td>\n",
       "      <td>3.582804</td>\n",
       "      <td>3.582804</td>\n",
       "      <td>3.582804</td>\n",
       "      <td>...</td>\n",
       "      <td>3.582804</td>\n",
       "      <td>3.582804</td>\n",
       "      <td>3.582804</td>\n",
       "      <td>3.582804</td>\n",
       "      <td>5</td>\n",
       "      <td>3.582804</td>\n",
       "      <td>3.582804</td>\n",
       "      <td>3.582804</td>\n",
       "      <td>3.582804</td>\n",
       "      <td>3.582804</td>\n",
       "    </tr>\n",
       "    <tr>\n",
       "      <th>3</th>\n",
       "      <td>2532402</td>\n",
       "      <td>4627</td>\n",
       "      <td>3.582804</td>\n",
       "      <td>3.582804</td>\n",
       "      <td>3.582804</td>\n",
       "      <td>3.582804</td>\n",
       "      <td>3.582804</td>\n",
       "      <td>3.582804</td>\n",
       "      <td>3.582804</td>\n",
       "      <td>3.582804</td>\n",
       "      <td>...</td>\n",
       "      <td>3.582804</td>\n",
       "      <td>3.582804</td>\n",
       "      <td>3.582804</td>\n",
       "      <td>3.582804</td>\n",
       "      <td>4</td>\n",
       "      <td>3.582804</td>\n",
       "      <td>3.582804</td>\n",
       "      <td>3.582804</td>\n",
       "      <td>3.582804</td>\n",
       "      <td>3.582804</td>\n",
       "    </tr>\n",
       "    <tr>\n",
       "      <th>4</th>\n",
       "      <td>2027</td>\n",
       "      <td>4798</td>\n",
       "      <td>3.582804</td>\n",
       "      <td>3.582804</td>\n",
       "      <td>3.582804</td>\n",
       "      <td>3.582804</td>\n",
       "      <td>3.582804</td>\n",
       "      <td>3.582804</td>\n",
       "      <td>3.582804</td>\n",
       "      <td>3.582804</td>\n",
       "      <td>...</td>\n",
       "      <td>3.582804</td>\n",
       "      <td>3.582804</td>\n",
       "      <td>3.582804</td>\n",
       "      <td>3.582804</td>\n",
       "      <td>5</td>\n",
       "      <td>3.582804</td>\n",
       "      <td>3.582804</td>\n",
       "      <td>3.582804</td>\n",
       "      <td>3.582804</td>\n",
       "      <td>3.582804</td>\n",
       "    </tr>\n",
       "  </tbody>\n",
       "</table>\n",
       "<p>5 rows × 21 columns</p>\n",
       "</div>"
      ],
      "text/plain": [
       "   User_ID  Movie_ID  Global_Average      SUR1      SUR2      SUR3      SUR4  \\\n",
       "0   464626      4614        3.582804  3.582804  3.582804  3.582804  3.582804   \n",
       "1  1815614      4627        3.582804  3.582804  3.582804  3.582804  3.582804   \n",
       "2  2298717      4627        3.582804  3.582804  3.582804  3.582804  3.582804   \n",
       "3  2532402      4627        3.582804  3.582804  3.582804  3.582804  3.582804   \n",
       "4     2027      4798        3.582804  3.582804  3.582804  3.582804  3.582804   \n",
       "\n",
       "       SUR5      SMR1      SMR2  ...      SMR4      SMR5  User_Average  \\\n",
       "0  3.582804  3.582804  3.582804  ...  3.582804  3.582804      3.582804   \n",
       "1  3.582804  3.582804  3.582804  ...  3.582804  3.582804      3.582804   \n",
       "2  3.582804  3.582804  3.582804  ...  3.582804  3.582804      3.582804   \n",
       "3  3.582804  3.582804  3.582804  ...  3.582804  3.582804      3.582804   \n",
       "4  3.582804  3.582804  3.582804  ...  3.582804  3.582804      3.582804   \n",
       "\n",
       "   Movie_Average  Rating  BaselineOnly  KNNBaseline_User  KNNBaseline_Item  \\\n",
       "0       3.582804       3      3.582804          3.582804          3.582804   \n",
       "1       3.582804       3      3.582804          3.582804          3.582804   \n",
       "2       3.582804       5      3.582804          3.582804          3.582804   \n",
       "3       3.582804       4      3.582804          3.582804          3.582804   \n",
       "4       3.582804       5      3.582804          3.582804          3.582804   \n",
       "\n",
       "        SVD     SVDpp  \n",
       "0  3.582804  3.582804  \n",
       "1  3.582804  3.582804  \n",
       "2  3.582804  3.582804  \n",
       "3  3.582804  3.582804  \n",
       "4  3.582804  3.582804  \n",
       "\n",
       "[5 rows x 21 columns]"
      ]
     },
     "execution_count": 143,
     "metadata": {},
     "output_type": "execute_result"
    }
   ],
   "source": [
    "Test_Reg.head()"
   ]
  },
  {
   "cell_type": "code",
   "execution_count": 144,
   "metadata": {},
   "outputs": [
    {
     "name": "stdout",
     "output_type": "stream",
     "text": [
      "Number of nan values in Test Data 0\n"
     ]
    }
   ],
   "source": [
    "print(\"Number of nan values in Test Data \"+str(Test_Reg.isnull().sum().sum()))"
   ]
  },
  {
   "cell_type": "code",
   "execution_count": 145,
   "metadata": {},
   "outputs": [
    {
     "name": "stdout",
     "output_type": "stream",
     "text": [
      "[00:50:36] WARNING: ..\\src\\learner.cc:576: \n",
      "Parameters: { \"silent\" } might not be used.\n",
      "\n",
      "  This could be a false alarm, with some parameters getting used by language bindings but\n",
      "  then being mistakenly passed down to XGBoost core, or some parameter actually being used\n",
      "  but getting flagged wrongly here. Please open an issue if you find any such cases.\n",
      "\n",
      "\n",
      "--------------------------------------------------\n",
      "TRAIN DATA\n",
      "RMSE = 0.5828093439473843\n",
      "MAPE = 16.276511549949646\n",
      "--------------------------------------------------\n",
      "TEST DATA\n",
      "RMSE = 1.129455324311166\n",
      "MAPE = 31.89130551607692\n",
      "--------------------------------------------------\n",
      "Time Taken = 0:00:03.059843\n"
     ]
    },
    {
     "data": {
      "image/png": "[encoded data removed]",
      "text/plain": [
       "<Figure size 576x432 with 1 Axes>"
      ]
     },
     "metadata": {},
     "output_type": "display_data"
    }
   ],
   "source": [
    "x_train = Train_Reg.drop([\"User_ID\", \"Movie_ID\", \"Rating\"], axis = 1)\n",
    "\n",
    "x_test = Test_Reg.drop([\"User_ID\", \"Movie_ID\", \"Rating\"], axis = 1)\n",
    "\n",
    "y_train = Train_Reg[\"Rating\"]\n",
    "\n",
    "y_test = Test_Reg[\"Rating\"]\n",
    "\n",
    "train_result, test_result = train_test_xgboost(x_train, x_test, y_train, y_test, \"XGB_BSL_KNN_MF\")\n",
    "\n",
    "model_train_evaluation[\"XGB_BSL_KNN_MF\"] = train_result\n",
    "model_test_evaluation[\"XGB_BSL_KNN_MF\"] = test_result"
   ]
  },
  {
   "cell_type": "markdown",
   "metadata": {},
   "source": [
    "## 9. Surprise KNN Baseline + SVD + SVDpp"
   ]
  },
  {
   "cell_type": "code",
   "execution_count": 146,
   "metadata": {},
   "outputs": [
    {
     "name": "stdout",
     "output_type": "stream",
     "text": [
      "[00:50:40] WARNING: ..\\src\\learner.cc:576: \n",
      "Parameters: { \"silent\" } might not be used.\n",
      "\n",
      "  This could be a false alarm, with some parameters getting used by language bindings but\n",
      "  then being mistakenly passed down to XGBoost core, or some parameter actually being used\n",
      "  but getting flagged wrongly here. Please open an issue if you find any such cases.\n",
      "\n",
      "\n",
      "--------------------------------------------------\n",
      "TRAIN DATA\n",
      "RMSE = 0.9222947113371508\n",
      "MAPE = 29.60980534553528\n",
      "--------------------------------------------------\n",
      "TEST DATA\n",
      "RMSE = 1.0746159984412627\n",
      "MAPE = 33.245188892751834\n",
      "--------------------------------------------------\n",
      "Time Taken = 0:00:02.318422\n"
     ]
    },
    {
     "data": {
      "image/png": "[encoded data removed]",
      "text/plain": [
       "<Figure size 576x432 with 1 Axes>"
      ]
     },
     "metadata": {},
     "output_type": "display_data"
    }
   ],
   "source": [
    "x_train = Train_Reg[[\"KNNBaseline_User\", \"KNNBaseline_Item\", \"SVD\", \"SVDpp\"]]\n",
    "\n",
    "x_test = Test_Reg[[\"KNNBaseline_User\", \"KNNBaseline_Item\", \"SVD\", \"SVDpp\"]]\n",
    "\n",
    "y_train = Train_Reg[\"Rating\"]\n",
    "\n",
    "y_test = Test_Reg[\"Rating\"]\n",
    "\n",
    "train_result, test_result = train_test_xgboost(x_train, x_test, y_train, y_test, \"XGB_KNN_MF\")\n",
    "\n",
    "model_train_evaluation[\"XGB_KNN_MF\"] = train_result\n",
    "model_test_evaluation[\"XGB_KNN_MF\"] = test_result"
   ]
  },
  {
   "cell_type": "markdown",
   "metadata": {},
   "source": [
    "## Summary"
   ]
  },
  {
   "cell_type": "code",
   "execution_count": 147,
   "metadata": {},
   "outputs": [],
   "source": [
    "error_table2 = error_table.drop([\"Train MAPE\", \"Test MAPE\"], axis = 1)"
   ]
  },
  {
   "cell_type": "code",
   "execution_count": 148,
   "metadata": {},
   "outputs": [
    {
     "data": {
      "image/png": "[encoded data removed]",
      "text/plain": [
       "<Figure size 1008x576 with 1 Axes>"
      ]
     },
     "metadata": {},
     "output_type": "display_data"
    }
   ],
   "source": [
    "error_table2.plot(x = \"Model\", kind = \"bar\", figsize = (14, 8), grid = True, fontsize = 15)\n",
    "plt.title(\"Train and Test RMSE and MAPE of all Models\", fontsize = 20)\n",
    "plt.ylabel(\"Error Values\", fontsize = 20)\n",
    "plt.legend(bbox_to_anchor=(1, 1), fontsize = 20)\n",
    "plt.show()"
   ]
  },
  {
   "cell_type": "code",
   "execution_count": 149,
   "metadata": {},
   "outputs": [
    {
     "data": {
      "text/html": [
       "<style  type=\"text/css\" >\n",
       "#T_1c2ab517_5e08_11ed_bdc6_94176c055500row3_col2,#T_1c2ab517_5e08_11ed_bdc6_94176c055500row4_col1,#T_1c2ab517_5e08_11ed_bdc6_94176c055500row4_col2{\n",
       "            background-color:  yellow;\n",
       "        }</style><table id=\"T_1c2ab517_5e08_11ed_bdc6_94176c055500\" ><thead>    <tr>        <th class=\"blank level0\" ></th>        <th class=\"col_heading level0 col0\" >Model</th>        <th class=\"col_heading level0 col1\" >Train RMSE</th>        <th class=\"col_heading level0 col2\" >Test RMSE</th>    </tr></thead><tbody>\n",
       "                <tr>\n",
       "                        <th id=\"T_1c2ab517_5e08_11ed_bdc6_94176c055500level0_row0\" class=\"row_heading level0 row0\" >0</th>\n",
       "                        <td id=\"T_1c2ab517_5e08_11ed_bdc6_94176c055500row0_col0\" class=\"data row0 col0\" >XGBoost_13</td>\n",
       "                        <td id=\"T_1c2ab517_5e08_11ed_bdc6_94176c055500row0_col1\" class=\"data row0 col1\" >0.605147</td>\n",
       "                        <td id=\"T_1c2ab517_5e08_11ed_bdc6_94176c055500row0_col2\" class=\"data row0 col2\" >1.122649</td>\n",
       "            </tr>\n",
       "            <tr>\n",
       "                        <th id=\"T_1c2ab517_5e08_11ed_bdc6_94176c055500level0_row1\" class=\"row_heading level0 row1\" >1</th>\n",
       "                        <td id=\"T_1c2ab517_5e08_11ed_bdc6_94176c055500row1_col0\" class=\"data row1 col0\" >BaselineOnly</td>\n",
       "                        <td id=\"T_1c2ab517_5e08_11ed_bdc6_94176c055500row1_col1\" class=\"data row1 col1\" >0.881143</td>\n",
       "                        <td id=\"T_1c2ab517_5e08_11ed_bdc6_94176c055500row1_col2\" class=\"data row1 col2\" >1.067839</td>\n",
       "            </tr>\n",
       "            <tr>\n",
       "                        <th id=\"T_1c2ab517_5e08_11ed_bdc6_94176c055500level0_row2\" class=\"row_heading level0 row2\" >2</th>\n",
       "                        <td id=\"T_1c2ab517_5e08_11ed_bdc6_94176c055500row2_col0\" class=\"data row2 col0\" >XGB_BSL</td>\n",
       "                        <td id=\"T_1c2ab517_5e08_11ed_bdc6_94176c055500row2_col1\" class=\"data row2 col1\" >0.594952</td>\n",
       "                        <td id=\"T_1c2ab517_5e08_11ed_bdc6_94176c055500row2_col2\" class=\"data row2 col2\" >1.256248</td>\n",
       "            </tr>\n",
       "            <tr>\n",
       "                        <th id=\"T_1c2ab517_5e08_11ed_bdc6_94176c055500level0_row3\" class=\"row_heading level0 row3\" >3</th>\n",
       "                        <td id=\"T_1c2ab517_5e08_11ed_bdc6_94176c055500row3_col0\" class=\"data row3 col0\" >KNNBaseline_User</td>\n",
       "                        <td id=\"T_1c2ab517_5e08_11ed_bdc6_94176c055500row3_col1\" class=\"data row3 col1\" >0.304498</td>\n",
       "                        <td id=\"T_1c2ab517_5e08_11ed_bdc6_94176c055500row3_col2\" class=\"data row3 col2\" >1.067655</td>\n",
       "            </tr>\n",
       "            <tr>\n",
       "                        <th id=\"T_1c2ab517_5e08_11ed_bdc6_94176c055500level0_row4\" class=\"row_heading level0 row4\" >4</th>\n",
       "                        <td id=\"T_1c2ab517_5e08_11ed_bdc6_94176c055500row4_col0\" class=\"data row4 col0\" >KNNBaseline_Item</td>\n",
       "                        <td id=\"T_1c2ab517_5e08_11ed_bdc6_94176c055500row4_col1\" class=\"data row4 col1\" >0.181651</td>\n",
       "                        <td id=\"T_1c2ab517_5e08_11ed_bdc6_94176c055500row4_col2\" class=\"data row4 col2\" >1.067655</td>\n",
       "            </tr>\n",
       "            <tr>\n",
       "                        <th id=\"T_1c2ab517_5e08_11ed_bdc6_94176c055500level0_row5\" class=\"row_heading level0 row5\" >5</th>\n",
       "                        <td id=\"T_1c2ab517_5e08_11ed_bdc6_94176c055500row5_col0\" class=\"data row5 col0\" >XGB_BSL_KNN</td>\n",
       "                        <td id=\"T_1c2ab517_5e08_11ed_bdc6_94176c055500row5_col1\" class=\"data row5 col1\" >0.588478</td>\n",
       "                        <td id=\"T_1c2ab517_5e08_11ed_bdc6_94176c055500row5_col2\" class=\"data row5 col2\" >1.146172</td>\n",
       "            </tr>\n",
       "            <tr>\n",
       "                        <th id=\"T_1c2ab517_5e08_11ed_bdc6_94176c055500level0_row6\" class=\"row_heading level0 row6\" >6</th>\n",
       "                        <td id=\"T_1c2ab517_5e08_11ed_bdc6_94176c055500row6_col0\" class=\"data row6 col0\" >SVD</td>\n",
       "                        <td id=\"T_1c2ab517_5e08_11ed_bdc6_94176c055500row6_col1\" class=\"data row6 col1\" >0.891529</td>\n",
       "                        <td id=\"T_1c2ab517_5e08_11ed_bdc6_94176c055500row6_col2\" class=\"data row6 col2\" >1.067663</td>\n",
       "            </tr>\n",
       "            <tr>\n",
       "                        <th id=\"T_1c2ab517_5e08_11ed_bdc6_94176c055500level0_row7\" class=\"row_heading level0 row7\" >7</th>\n",
       "                        <td id=\"T_1c2ab517_5e08_11ed_bdc6_94176c055500row7_col0\" class=\"data row7 col0\" >SVDpp</td>\n",
       "                        <td id=\"T_1c2ab517_5e08_11ed_bdc6_94176c055500row7_col1\" class=\"data row7 col1\" >0.793070</td>\n",
       "                        <td id=\"T_1c2ab517_5e08_11ed_bdc6_94176c055500row7_col2\" class=\"data row7 col2\" >1.067674</td>\n",
       "            </tr>\n",
       "            <tr>\n",
       "                        <th id=\"T_1c2ab517_5e08_11ed_bdc6_94176c055500level0_row8\" class=\"row_heading level0 row8\" >8</th>\n",
       "                        <td id=\"T_1c2ab517_5e08_11ed_bdc6_94176c055500row8_col0\" class=\"data row8 col0\" >XGB_BSL_KNN_MF</td>\n",
       "                        <td id=\"T_1c2ab517_5e08_11ed_bdc6_94176c055500row8_col1\" class=\"data row8 col1\" >0.582809</td>\n",
       "                        <td id=\"T_1c2ab517_5e08_11ed_bdc6_94176c055500row8_col2\" class=\"data row8 col2\" >1.129455</td>\n",
       "            </tr>\n",
       "            <tr>\n",
       "                        <th id=\"T_1c2ab517_5e08_11ed_bdc6_94176c055500level0_row9\" class=\"row_heading level0 row9\" >9</th>\n",
       "                        <td id=\"T_1c2ab517_5e08_11ed_bdc6_94176c055500row9_col0\" class=\"data row9 col0\" >XGB_KNN_MF</td>\n",
       "                        <td id=\"T_1c2ab517_5e08_11ed_bdc6_94176c055500row9_col1\" class=\"data row9 col1\" >0.922295</td>\n",
       "                        <td id=\"T_1c2ab517_5e08_11ed_bdc6_94176c055500row9_col2\" class=\"data row9 col2\" >1.074616</td>\n",
       "            </tr>\n",
       "    </tbody></table>"
      ],
      "text/plain": [
       "<pandas.io.formats.style.Styler at 0x210cf9743a0>"
      ]
     },
     "execution_count": 149,
     "metadata": {},
     "output_type": "execute_result"
    }
   ],
   "source": [
    "error_table.drop([\"Train MAPE\", \"Test MAPE\"], axis = 1).style.highlight_min(axis=0)"
   ]
  },
  {
   "cell_type": "markdown",
   "metadata": {},
   "source": [
    "# So, far our best model is SVDpp with Test RMSE of 1.067583"
   ]
  }
 ],
 "metadata": {
  "kernelspec": {
   "display_name": "Python 3",
   "language": "python",
   "name": "python3"
  },
  "language_info": {
   "codemirror_mode": {
    "name": "ipython",
    "version": 3
   },
   "file_extension": ".py",
   "mimetype": "text/x-python",
   "name": "python",
   "nbconvert_exporter": "python",
   "pygments_lexer": "ipython3",
   "version": "3.8.5"
  }
 },
 "nbformat": 4,
 "nbformat_minor": 2
}
